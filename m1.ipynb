{
 "cells": [
  {
   "cell_type": "markdown",
   "metadata": {},
   "source": [
    "### Offline Test\n",
    "\n",
    "### Candidate: Kevin Ying\n"
   ]
  },
  {
   "cell_type": "markdown",
   "metadata": {},
   "source": [
    "#### Project: Image Classification ( 10 Class) on \"Street View House Number (SVHN)\"\n",
    "\n",
    "#### Dataset: http://ufldl.stanford.edu/housenumbers/\n",
    "\n",
    "#### Method: <font color=\"blue\"> Deep Learning Convolution by Turi GraphLab</font>\n",
    "#### Content:\n",
    " - I. Import Dataset and Libraries\n",
    " - II. Convert Images format (Array --> JPEG) and save files locally\n",
    " - III. Reload images into GraphLab SFrame format\n",
    " - IV. Merges Class labels into SFrame\n",
    " - V. Save SFrame locally for future use\n",
    " - VI. Split Dataset into Train and Validation Set\n",
    " - VII. Modeling by Turi GraphLab Convolution Network\n",
    " \n",
    " \n",
    "\n"
   ]
  },
  {
   "cell_type": "markdown",
   "metadata": {},
   "source": [
    "#### Model Summary Table\n",
    "\n",
    "Based on the following summary table, the three models are very close in terms of Overall Accuracy. The baseline model (i.e. Conv_#1) is built by the default setting from the GraphLab, the rest of models are pruned based on the #1 model. When we observe the Accuracy, we are able to see that there is overfitting issue on the first two models. For that reason, regularization L2 function was attempted on the model#2 or beyond. The overfitting issue was not improved on the model #2 (train:0.83 vs valid:0.88), so the higher L2 value which was 0.005 was set for the #3 model. The result showed that the L2 value actually lowered the overfitting issue (i.e. train:0.83 vs valid:0.84). When we used the model#3 to measure the performance on the test set, the recall values on most of the classes are above 90%. \n",
    "\n",
    "In this case, I would propose to continue to iterate the similar configurations with some other setting shown below to test on the outcomes:\n",
    "\n",
    "- Add Dropout layers to continue to tackle the overfitting problem\n",
    "- Increase the Convolutional layers to the existing configuration to capture more features from the original data\n",
    "- Lower the Learning rate with higher epoches set for training process"
   ]
  },
  {
   "cell_type": "code",
   "execution_count": 22,
   "metadata": {},
   "outputs": [
    {
     "data": {
      "text/html": [
       "<div style=\"max-height:1000px;max-width:1500px;overflow:auto;\"><table frame=\"box\" rules=\"cols\">\n",
       "    <tr>\n",
       "        <th style=\"padding-left: 1em; padding-right: 1em; text-align: center\">Model</th>\n",
       "        <th style=\"padding-left: 1em; padding-right: 1em; text-align: center\">Filter Size</th>\n",
       "        <th style=\"padding-left: 1em; padding-right: 1em; text-align: center\">Stride</th>\n",
       "        <th style=\"padding-left: 1em; padding-right: 1em; text-align: center\">Batch Size</th>\n",
       "        <th style=\"padding-left: 1em; padding-right: 1em; text-align: center\">Learning Rate</th>\n",
       "        <th style=\"padding-left: 1em; padding-right: 1em; text-align: center\">Regularization L2</th>\n",
       "        <th style=\"padding-left: 1em; padding-right: 1em; text-align: center\">Train_Acc</th>\n",
       "        <th style=\"padding-left: 1em; padding-right: 1em; text-align: center\">Valid_Acc</th>\n",
       "    </tr>\n",
       "    <tr>\n",
       "        <td style=\"padding-left: 1em; padding-right: 1em; text-align: center; vertical-align: top\">Conv_#1</td>\n",
       "        <td style=\"padding-left: 1em; padding-right: 1em; text-align: center; vertical-align: top\">3</td>\n",
       "        <td style=\"padding-left: 1em; padding-right: 1em; text-align: center; vertical-align: top\">2</td>\n",
       "        <td style=\"padding-left: 1em; padding-right: 1em; text-align: center; vertical-align: top\">100</td>\n",
       "        <td style=\"padding-left: 1em; padding-right: 1em; text-align: center; vertical-align: top\">0.001</td>\n",
       "        <td style=\"padding-left: 1em; padding-right: 1em; text-align: center; vertical-align: top\">None</td>\n",
       "        <td style=\"padding-left: 1em; padding-right: 1em; text-align: center; vertical-align: top\">0.8</td>\n",
       "        <td style=\"padding-left: 1em; padding-right: 1em; text-align: center; vertical-align: top\">0.83</td>\n",
       "    </tr>\n",
       "    <tr>\n",
       "        <td style=\"padding-left: 1em; padding-right: 1em; text-align: center; vertical-align: top\">Conv_#2</td>\n",
       "        <td style=\"padding-left: 1em; padding-right: 1em; text-align: center; vertical-align: top\">3</td>\n",
       "        <td style=\"padding-left: 1em; padding-right: 1em; text-align: center; vertical-align: top\">2</td>\n",
       "        <td style=\"padding-left: 1em; padding-right: 1em; text-align: center; vertical-align: top\">100</td>\n",
       "        <td style=\"padding-left: 1em; padding-right: 1em; text-align: center; vertical-align: top\">0.001</td>\n",
       "        <td style=\"padding-left: 1em; padding-right: 1em; text-align: center; vertical-align: top\">0.001</td>\n",
       "        <td style=\"padding-left: 1em; padding-right: 1em; text-align: center; vertical-align: top\">0.82</td>\n",
       "        <td style=\"padding-left: 1em; padding-right: 1em; text-align: center; vertical-align: top\">0.88</td>\n",
       "    </tr>\n",
       "    <tr>\n",
       "        <td style=\"padding-left: 1em; padding-right: 1em; text-align: center; vertical-align: top\">Conv_#3</td>\n",
       "        <td style=\"padding-left: 1em; padding-right: 1em; text-align: center; vertical-align: top\">3</td>\n",
       "        <td style=\"padding-left: 1em; padding-right: 1em; text-align: center; vertical-align: top\">2</td>\n",
       "        <td style=\"padding-left: 1em; padding-right: 1em; text-align: center; vertical-align: top\">100</td>\n",
       "        <td style=\"padding-left: 1em; padding-right: 1em; text-align: center; vertical-align: top\">0.001</td>\n",
       "        <td style=\"padding-left: 1em; padding-right: 1em; text-align: center; vertical-align: top\">0.005</td>\n",
       "        <td style=\"padding-left: 1em; padding-right: 1em; text-align: center; vertical-align: top\">0.83</td>\n",
       "        <td style=\"padding-left: 1em; padding-right: 1em; text-align: center; vertical-align: top\">0.84</td>\n",
       "    </tr>\n",
       "    <tr>\n",
       "        <td style=\"padding-left: 1em; padding-right: 1em; text-align: center; vertical-align: top\">Conv_#4</td>\n",
       "        <td style=\"padding-left: 1em; padding-right: 1em; text-align: center; vertical-align: top\">3</td>\n",
       "        <td style=\"padding-left: 1em; padding-right: 1em; text-align: center; vertical-align: top\">1</td>\n",
       "        <td style=\"padding-left: 1em; padding-right: 1em; text-align: center; vertical-align: top\">200</td>\n",
       "        <td style=\"padding-left: 1em; padding-right: 1em; text-align: center; vertical-align: top\">0.001</td>\n",
       "        <td style=\"padding-left: 1em; padding-right: 1em; text-align: center; vertical-align: top\">0.01</td>\n",
       "        <td style=\"padding-left: 1em; padding-right: 1em; text-align: center; vertical-align: top\">nan</td>\n",
       "        <td style=\"padding-left: 1em; padding-right: 1em; text-align: center; vertical-align: top\">nan</td>\n",
       "    </tr>\n",
       "</table>\n",
       "[4 rows x 8 columns]<br/>\n",
       "</div>"
      ],
      "text/plain": [
       "Columns:\n",
       "\tModel\tstr\n",
       "\tFilter Size\tint\n",
       "\tStride\tint\n",
       "\tBatch Size\tint\n",
       "\tLearning Rate\tfloat\n",
       "\tRegularization L2\tfloat\n",
       "\tTrain_Acc\tfloat\n",
       "\tValid_Acc\tfloat\n",
       "\n",
       "Rows: 4\n",
       "\n",
       "Data:\n",
       "+---------+-------------+--------+------------+---------------+-------------------+\n",
       "|  Model  | Filter Size | Stride | Batch Size | Learning Rate | Regularization L2 |\n",
       "+---------+-------------+--------+------------+---------------+-------------------+\n",
       "| Conv_#1 |      3      |   2    |    100     |     0.001     |        None       |\n",
       "| Conv_#2 |      3      |   2    |    100     |     0.001     |       0.001       |\n",
       "| Conv_#3 |      3      |   2    |    100     |     0.001     |       0.005       |\n",
       "| Conv_#4 |      3      |   1    |    200     |     0.001     |        0.01       |\n",
       "+---------+-------------+--------+------------+---------------+-------------------+\n",
       "+-----------+-----------+\n",
       "| Train_Acc | Valid_Acc |\n",
       "+-----------+-----------+\n",
       "|    0.8    |    0.83   |\n",
       "|    0.82   |    0.88   |\n",
       "|    0.83   |    0.84   |\n",
       "|    nan    |    nan    |\n",
       "+-----------+-----------+\n",
       "[4 rows x 8 columns]"
      ]
     },
     "execution_count": 22,
     "metadata": {},
     "output_type": "execute_result"
    }
   ],
   "source": [
    "sf=gl.SFrame({ \"Model\": [\"Conv_#1\",\"Conv_#2\",\"Conv_#3\", \"Conv_#4\"],\n",
    "              \"Filter Size\": [3,3,3,3],\n",
    "              \"Stride\": [2,2,2,1],\n",
    "              \"Learning Rate\": [0.001,0.001,0.001, 0.001],\n",
    "              \"Batch Size\": [100,100,100,200], \n",
    "              \"Regularization L2\": [None, 0.001,0.005, 0.01], \n",
    "              \"Train_Acc\": [0.8, 0.82, 0.83, np.nan ], \n",
    "              \"Valid_Acc\": [0.83, 0.88, 0.84, np.nan]})\n",
    "sf[\"Model\",\"Filter Size\" ,\"Stride\",\"Batch Size\", \"Learning Rate\", \"Regularization L2\", \"Train_Acc\" , \"Valid_Acc\"]"
   ]
  },
  {
   "cell_type": "markdown",
   "metadata": {},
   "source": [
    "#### Model Summary Chart"
   ]
  },
  {
   "cell_type": "code",
   "execution_count": 48,
   "metadata": {},
   "outputs": [
    {
     "data": {
      "image/png": "[encoded data removed]",
      "text/plain": [
       "<matplotlib.figure.Figure at 0x118c1b790>"
      ]
     },
     "metadata": {},
     "output_type": "display_data"
    }
   ],
   "source": [
    "labels = [\"Conv_#1\", \"Conv_#2\", \"Conv_#3\"]\n",
    "train_Acc = [0.8,0.82,0.83]\n",
    "test_Acc = [0.83, 0.88,0.84]\n",
    "\n",
    "x=np.arange(len(labels))\n",
    "width = 0.35\n",
    "\n",
    "fig, ax = plt.subplots(figsize=(15,5))\n",
    "\n",
    "train_rect = ax.bar(x-width/2, train_Acc, width, label=\"Train_Acc\", color=\"orange\") \n",
    "test_rect = ax.bar(x+width/2, test_Acc, width, label=\"Valid_Acc\") \n",
    "\n",
    "ax.set_ylabel(\"Accuracy\")\n",
    "ax.set_xlabel(\"Models\")\n",
    "ax.set_xticks(x+width/2)\n",
    "ax.set_xticklabels(labels)\n",
    "ax.set_title(\"Accuracy for each of the models\")\n",
    "ax.legend()\n",
    "\n",
    "plt.show()"
   ]
  },
  {
   "cell_type": "markdown",
   "metadata": {},
   "source": [
    "#### Recall Measurment on the best Model #3"
   ]
  },
  {
   "cell_type": "code",
   "execution_count": 67,
   "metadata": {},
   "outputs": [
    {
     "data": {
      "image/png": "[encoded data removed]",
      "text/plain": [
       "<matplotlib.figure.Figure at 0x113077c90>"
      ]
     },
     "metadata": {},
     "output_type": "display_data"
    }
   ],
   "source": [
    "'''The following Recall values are collected from the below Model #3 section under the name\"m3\" '''\n",
    "d = {'accuracy': 0.8671935796737671,\n",
    " 'recall@1': 0.8671935796737671,\n",
    " 'recall@0': 1.0,\n",
    " 'recall@2': 0.937384843826294,\n",
    " 'recall@3': 0.9633209109306335,\n",
    " 'recall@4': 0.9766165614128113,\n",
    " 'recall@5': 0.9845612049102783,\n",
    " 'recall@6': 0.9898576140403748,\n",
    " 'recall@7': 0.9940483570098877,\n",
    " 'recall@8': 0.996833086013794,\n",
    " 'recall@9': 0.998730480670929}\n",
    "\n",
    "labels=d.keys()\n",
    "height=d.values()\n",
    "\n",
    "x=np.arange(len(labels))\n",
    "width =0.8\n",
    "\n",
    "\n",
    "fig, ax = plt.subplots(figsize=(15,5))\n",
    "m3_test_rect=ax.bar(x-width/2, height, width, color=\"blue\") \n",
    "\n",
    "ax.set_ylabel(\"Recall\")\n",
    "ax.set_xticks(x)#+width/2)\n",
    "ax.set_xticklabels(labels)\n",
    "ax.set_title(\"Metric for each of the labels on Model #3\")\n",
    "ax.legend()\n",
    "\n",
    "plt.show()\n"
   ]
  },
  {
   "cell_type": "markdown",
   "metadata": {
    "collapsed": true
   },
   "source": [
    "#### Result Discusion / Future Work\n",
    "The Convolution algorithm is very handful tool for imaging classification projects. The biggest challenge of this project is time management due to leaking of computation power. In order to obtain a better result on modeling, the number of epoch (i.e. iteration) is necessary to be adjust and test. The reason is that the weights on the network are updated on every epoch in order to lower the error (i.e. loss function). So that the higher value of epoch implies more errors would be corrected. For the above reason, the higher value of epoch consumes more computation power which takes more time on the model building process. The best model which generates about 86% of overall accuracy on the model which 50 iterations (i.e. Epoch) also solves the overfitting problem.  \n",
    "\n",
    "The future work I would recommend to figure the way to launch the modeling process on the Cloud platform with Turi GraphLab Library in order to speed up the computation process. That way is able to generate better model performance as well as saves computation resources."
   ]
  },
  {
   "cell_type": "markdown",
   "metadata": {
    "collapsed": true
   },
   "source": [
    "### The following is the Pipline of Modeling Process"
   ]
  },
  {
   "cell_type": "markdown",
   "metadata": {},
   "source": [
    "### Loading Libraries"
   ]
  },
  {
   "cell_type": "code",
   "execution_count": 1,
   "metadata": {
    "scrolled": false
   },
   "outputs": [
    {
     "name": "stderr",
     "output_type": "stream",
     "text": [
      "[INFO] graphlab.cython.cy_server: GraphLab Create v2.1 started. Logging: /tmp/graphlab_server_1563381304.log\n"
     ]
    },
    {
     "name": "stdout",
     "output_type": "stream",
     "text": [
      "This non-commercial license of GraphLab Create for academic use is assigned to kying@mail.depaul.edu and will expire on July 15, 2020.\n"
     ]
    },
    {
     "name": "stderr",
     "output_type": "stream",
     "text": [
      "/Users/dataguy/anaconda2/envs/gl-env/lib/python2.7/site-packages/matplotlib/font_manager.py:273: UserWarning: Matplotlib is building the font cache using fc-list. This may take a moment.\n",
      "  warnings.warn('Matplotlib is building the font cache using fc-list. This may take a moment.')\n"
     ]
    }
   ],
   "source": [
    "import graphlab as gl\n",
    "from graphlab import SFrame\n",
    "import pandas as pd\n",
    "import numpy as np\n",
    "import scipy.io as sio\n",
    "import scipy\n",
    "\n",
    "import matplotlib.pyplot as plt\n",
    "%matplotlib inline"
   ]
  },
  {
   "cell_type": "markdown",
   "metadata": {},
   "source": [
    "### Loading Dataset"
   ]
  },
  {
   "cell_type": "code",
   "execution_count": 6,
   "metadata": {},
   "outputs": [
    {
     "name": "stdout",
     "output_type": "stream",
     "text": [
      "Train set:  (73257, 32, 32, 3) (73257,)\n",
      "Test set:  (73257, 32, 32, 3) (73257,)\n"
     ]
    }
   ],
   "source": [
    "train=sio.loadmat(\"./data/train_32x32.mat\")\n",
    "test=sio.loadmat(\"./data/train_32x32.mat\")\n",
    "\n",
    "\n",
    "Xtrain=np.transpose(train[\"X\"], axes=(3,0,1,2))\n",
    "ytrain = train[\"y\"].reshape(1,-1)[0]\n",
    "Xtest=np.transpose(test[\"X\"], axes=(3,0,1,2))\n",
    "ytest = test[\"y\"].reshape(1,-1)[0]\n",
    "\n",
    "print \"Train set: \",Xtrain.shape, ytrain.shape\n",
    "print \"Test set: \" ,Xtest.shape, ytest.shape"
   ]
  },
  {
   "cell_type": "markdown",
   "metadata": {},
   "source": [
    "### Save Image in JPEG format"
   ]
  },
  {
   "cell_type": "code",
   "execution_count": 11,
   "metadata": {
    "collapsed": true
   },
   "outputs": [],
   "source": [
    "from PIL import Image\n",
    "\n",
    "for i in range(0,Xtrain.shape[0]):Image.fromarray(Xtrain[i][:,:,2]).save(\"./data/img/train/%d_%d.jpeg\"%(i, ytrain[i]))\n",
    "for i in range(0,Xtest.shape[0]):Image.fromarray(Xtest[i][:,:,2]).save(\"./data/img/test/%d_%d.jpeg\"%(i, ytest[i]))"
   ]
  },
  {
   "cell_type": "markdown",
   "metadata": {},
   "source": [
    "### Load JPEG Images to graphlab.SFrame (Train and Test)"
   ]
  },
  {
   "cell_type": "code",
   "execution_count": 150,
   "metadata": {},
   "outputs": [
    {
     "data": {
      "text/html": [
       "<pre>Read 15729 images in 5.00006 secs\tspeed: 3145.76 file/sec</pre>"
      ],
      "text/plain": [
       "Read 15729 images in 5.00006 secs\tspeed: 3145.76 file/sec"
      ]
     },
     "metadata": {},
     "output_type": "display_data"
    },
    {
     "data": {
      "text/html": [
       "<pre>Read 32140 images in 10.0002 secs\tspeed: 3282.1 file/sec</pre>"
      ],
      "text/plain": [
       "Read 32140 images in 10.0002 secs\tspeed: 3282.1 file/sec"
      ]
     },
     "metadata": {},
     "output_type": "display_data"
    },
    {
     "data": {
      "text/html": [
       "<pre>Read 47566 images in 15.0005 secs\tspeed: 3085.01 file/sec</pre>"
      ],
      "text/plain": [
       "Read 47566 images in 15.0005 secs\tspeed: 3085.01 file/sec"
      ]
     },
     "metadata": {},
     "output_type": "display_data"
    },
    {
     "data": {
      "text/html": [
       "<pre>Read 60829 images in 20.0008 secs\tspeed: 2652.42 file/sec</pre>"
      ],
      "text/plain": [
       "Read 60829 images in 20.0008 secs\tspeed: 2652.42 file/sec"
      ]
     },
     "metadata": {},
     "output_type": "display_data"
    }
   ],
   "source": [
    "XtrainGL=gl.image_analysis.load_images(\"./data/img/train\", \n",
    "                                      format='auto', \n",
    "                                          with_path=True, \n",
    "                                          recursive=True, \n",
    "                                          ignore_failure=True, \n",
    "                                          random_order=True)"
   ]
  },
  {
   "cell_type": "code",
   "execution_count": 151,
   "metadata": {},
   "outputs": [
    {
     "data": {
      "text/html": [
       "<pre>Read 15183 images in 5.00035 secs\tspeed: 3036.39 file/sec</pre>"
      ],
      "text/plain": [
       "Read 15183 images in 5.00035 secs\tspeed: 3036.39 file/sec"
      ]
     },
     "metadata": {},
     "output_type": "display_data"
    },
    {
     "data": {
      "text/html": [
       "<pre>Read 29684 images in 10.0004 secs\tspeed: 2900.14 file/sec</pre>"
      ],
      "text/plain": [
       "Read 29684 images in 10.0004 secs\tspeed: 2900.14 file/sec"
      ]
     },
     "metadata": {},
     "output_type": "display_data"
    },
    {
     "data": {
      "text/html": [
       "<pre>Read 44837 images in 15.0007 secs\tspeed: 3030.45 file/sec</pre>"
      ],
      "text/plain": [
       "Read 44837 images in 15.0007 secs\tspeed: 3030.45 file/sec"
      ]
     },
     "metadata": {},
     "output_type": "display_data"
    },
    {
     "data": {
      "text/html": [
       "<pre>Read 58839 images in 20.0007 secs\tspeed: 2800.39 file/sec</pre>"
      ],
      "text/plain": [
       "Read 58839 images in 20.0007 secs\tspeed: 2800.39 file/sec"
      ]
     },
     "metadata": {},
     "output_type": "display_data"
    }
   ],
   "source": [
    "XtestGL=gl.image_analysis.load_images(\"./data/img/test\", \n",
    "                                      format='auto', \n",
    "                                          with_path=True, \n",
    "                                          recursive=True, \n",
    "                                          ignore_failure=True, \n",
    "                                          random_order=True)"
   ]
  },
  {
   "cell_type": "markdown",
   "metadata": {},
   "source": [
    "### Combine the Class Label to the SFrame"
   ]
  },
  {
   "cell_type": "code",
   "execution_count": 152,
   "metadata": {
    "collapsed": true
   },
   "outputs": [],
   "source": [
    "XtrainGL[\"label\"]=XtrainGL[\"path\"].apply(lambda x: x.split(\"_\")[-1].split(\".\")[0])\n",
    "XtrainGL[\"label\"] = XtrainGL[\"label\"].astype(int)\n",
    "XtestGL[\"label\"]=XtestGL[\"path\"].apply(lambda x: x.split(\"_\")[-1].split(\".\")[0])\n",
    "XtestGL[\"label\"] = XtestGL[\"label\"].astype(int)"
   ]
  },
  {
   "cell_type": "code",
   "execution_count": 153,
   "metadata": {
    "collapsed": true
   },
   "outputs": [],
   "source": [
    "XtrainGL=XtrainGL[\"image\", \"label\"]\n",
    "XtestGL=XtestGL[\"image\", \"label\"]"
   ]
  },
  {
   "cell_type": "markdown",
   "metadata": {},
   "source": [
    "### Save the data for future use"
   ]
  },
  {
   "cell_type": "code",
   "execution_count": 154,
   "metadata": {
    "collapsed": true
   },
   "outputs": [],
   "source": [
    "XtrainGL.save('./data/train.sframe')\n",
    "XtestGL.save('./data/test.sframe')"
   ]
  },
  {
   "cell_type": "markdown",
   "metadata": {},
   "source": [
    "### Load the data for Training"
   ]
  },
  {
   "cell_type": "code",
   "execution_count": 49,
   "metadata": {},
   "outputs": [
    {
     "data": {
      "text/plain": [
       "((73257, 2), (73257, 2))"
      ]
     },
     "execution_count": 49,
     "metadata": {},
     "output_type": "execute_result"
    }
   ],
   "source": [
    "# Load the data\n",
    "train =  gl.SFrame('./data/train.sframe')\n",
    "test=  gl.SFrame('./data/test.sframe')\n",
    "train.shape, test.shape"
   ]
  },
  {
   "cell_type": "markdown",
   "metadata": {},
   "source": [
    "### Make a Train - Validation split"
   ]
  },
  {
   "cell_type": "code",
   "execution_count": 69,
   "metadata": {},
   "outputs": [
    {
     "data": {
      "text/plain": [
       "((49149, 2), (24108, 2))"
      ]
     },
     "execution_count": 69,
     "metadata": {},
     "output_type": "execute_result"
    }
   ],
   "source": [
    "train_data, valid_data = train.random_split(0.67, seed =0 )\n",
    "train_data.shape, valid_data.shape"
   ]
  },
  {
   "cell_type": "markdown",
   "metadata": {},
   "source": [
    "### Class Distribution on Train and Validation Set"
   ]
  },
  {
   "cell_type": "code",
   "execution_count": 101,
   "metadata": {},
   "outputs": [
    {
     "data": {
      "image/png": "[encoded data removed]",
      "text/plain": [
       "<matplotlib.figure.Figure at 0x1195b6fd0>"
      ]
     },
     "metadata": {},
     "output_type": "display_data"
    }
   ],
   "source": [
    "from collections import Counter\n",
    "\n",
    "fig=plt.figure(figsize =(16,5))\n",
    "#############################################\n",
    "d=Counter(train_data[\"label\"])\n",
    "d=dict(d)\n",
    "labels=d.keys()\n",
    "height=d.values()\n",
    "x=np.arange(len(labels))\n",
    "width =0.5\n",
    "ax=fig.add_subplot(1,2,1)\n",
    "m3_test_rect=ax.bar(x-width/2, height, width, color=\"blue\") \n",
    "\n",
    "ax.set_ylabel(\"Recall\")\n",
    "ax.set_xlabel(\"Class labels\")\n",
    "ax.set_xticks(x)\n",
    "ax.set_xticklabels(labels)\n",
    "ax.set_title(\"Class Distribution on Train Set\")\n",
    "ax.legend()\n",
    "\n",
    "##################################################\n",
    "d=Counter(valid_data[\"label\"])\n",
    "d=dict(d)\n",
    "labels=d.keys()\n",
    "height=d.values()\n",
    "ax2=fig.add_subplot(1,2,2)\n",
    "m3_test_rect=ax2.bar(x-width/2, height, width, color=\"orange\") \n",
    "\n",
    "ax2.set_ylabel(\"Recall\")\n",
    "ax2.set_xlabel(\"Class labels\")\n",
    "ax2.set_xticks(x)\n",
    "ax2.set_xticklabels(labels)\n",
    "ax2.set_title(\"Class Distribution on Valid Set\")\n",
    "ax2.legend()\n"
   ]
  },
  {
   "cell_type": "markdown",
   "metadata": {},
   "source": [
    "## Modelling Process begins here\n",
    "### Create network by using deeplearning.create"
   ]
  },
  {
   "cell_type": "markdown",
   "metadata": {},
   "source": [
    "### Model#1"
   ]
  },
  {
   "cell_type": "code",
   "execution_count": null,
   "metadata": {
    "collapsed": true,
    "scrolled": true
   },
   "outputs": [],
   "source": [
    "net = gl.deeplearning.create(train, target='label')"
   ]
  },
  {
   "cell_type": "code",
   "execution_count": 167,
   "metadata": {},
   "outputs": [
    {
     "name": "stdout",
     "output_type": "stream",
     "text": [
      "Using network:\n",
      "\n",
      "### network layers ###\n",
      "layer[0]: ConvolutionLayer\n",
      "  init_random = gaussian\n",
      "  padding = 0\n",
      "  stride = 2\n",
      "  num_channels = 10\n",
      "  num_groups = 1\n",
      "  kernel_size = 3\n",
      "layer[1]: MaxPoolingLayer\n",
      "  padding = 0\n",
      "  stride = 2\n",
      "  kernel_size = 3\n",
      "layer[2]: FlattenLayer\n",
      "layer[3]: FullConnectionLayer\n",
      "  init_sigma = 0.01\n",
      "  init_random = gaussian\n",
      "  init_bias = 0\n",
      "  num_hidden_units = 100\n",
      "layer[4]: RectifiedLinearLayer\n",
      "layer[5]: DropoutLayer\n",
      "  threshold = 0.5\n",
      "layer[6]: FullConnectionLayer\n",
      "  init_sigma = 0.01\n",
      "  init_random = gaussian\n",
      "  init_bias = 0\n",
      "  num_hidden_units = 10\n",
      "layer[7]: SoftmaxLayer\n",
      "### end network layers ###\n",
      "\n",
      "### network parameters ###\n",
      "learning_rate = 0.001\n",
      "metric = accuracy\n",
      "momentum = 0.9\n",
      "### end network parameters ###\n",
      "\n"
     ]
    },
    {
     "data": {
      "text/html": [
       "<pre>Computing mean image...</pre>"
      ],
      "text/plain": [
       "Computing mean image..."
      ]
     },
     "metadata": {},
     "output_type": "display_data"
    },
    {
     "data": {
      "text/html": [
       "<pre>Done computing mean image.</pre>"
      ],
      "text/plain": [
       "Done computing mean image."
      ]
     },
     "metadata": {},
     "output_type": "display_data"
    },
    {
     "data": {
      "text/html": [
       "<pre>Creating neuralnet using cpu</pre>"
      ],
      "text/plain": [
       "Creating neuralnet using cpu"
      ]
     },
     "metadata": {},
     "output_type": "display_data"
    },
    {
     "data": {
      "text/html": [
       "<pre>Training with batch size = 100</pre>"
      ],
      "text/plain": [
       "Training with batch size = 100"
      ]
     },
     "metadata": {},
     "output_type": "display_data"
    },
    {
     "data": {
      "text/html": [
       "<pre>+-----------+----------+--------------+-------------------+---------------------+-----------------+</pre>"
      ],
      "text/plain": [
       "+-----------+----------+--------------+-------------------+---------------------+-----------------+"
      ]
     },
     "metadata": {},
     "output_type": "display_data"
    },
    {
     "data": {
      "text/html": [
       "<pre>| Iteration | Examples | Elapsed Time | Training-accuracy | Validation-accuracy | Examples/second |</pre>"
      ],
      "text/plain": [
       "| Iteration | Examples | Elapsed Time | Training-accuracy | Validation-accuracy | Examples/second |"
      ]
     },
     "metadata": {},
     "output_type": "display_data"
    },
    {
     "data": {
      "text/html": [
       "<pre>+-----------+----------+--------------+-------------------+---------------------+-----------------+</pre>"
      ],
      "text/plain": [
       "+-----------+----------+--------------+-------------------+---------------------+-----------------+"
      ]
     },
     "metadata": {},
     "output_type": "display_data"
    },
    {
     "data": {
      "text/html": [
       "<pre>| 1         | 45700    | 10.010818    | 0.220788          |                     | 4565.062012     |</pre>"
      ],
      "text/plain": [
       "| 1         | 45700    | 10.010818    | 0.220788          |                     | 4565.062012     |"
      ]
     },
     "metadata": {},
     "output_type": "display_data"
    },
    {
     "data": {
      "text/html": [
       "<pre>| 1         | 49100    | 13.187236    | 0.228065          | 0.383218            | 1070.387817     |</pre>"
      ],
      "text/plain": [
       "| 1         | 49100    | 13.187236    | 0.228065          | 0.383218            | 1070.387817     |"
      ]
     },
     "metadata": {},
     "output_type": "display_data"
    },
    {
     "data": {
      "text/html": [
       "<pre>| 2         | 46500    | 23.195441    | 0.428989          |                     | 4646.242676     |</pre>"
      ],
      "text/plain": [
       "| 2         | 46500    | 23.195441    | 0.428989          |                     | 4646.242676     |"
      ]
     },
     "metadata": {},
     "output_type": "display_data"
    },
    {
     "data": {
      "text/html": [
       "<pre>| 2         | 49100    | 26.214553    | 0.436008          | 0.619926            | 861.179993      |</pre>"
      ],
      "text/plain": [
       "| 2         | 49100    | 26.214553    | 0.436008          | 0.619926            | 861.179993      |"
      ]
     },
     "metadata": {},
     "output_type": "display_data"
    },
    {
     "data": {
      "text/html": [
       "<pre>| 3         | 46300    | 36.216437    | 0.605745          |                     | 4629.178711     |</pre>"
      ],
      "text/plain": [
       "| 3         | 46300    | 36.216437    | 0.605745          |                     | 4629.178711     |"
      ]
     },
     "metadata": {},
     "output_type": "display_data"
    },
    {
     "data": {
      "text/html": [
       "<pre>| 3         | 49100    | 39.294688    | 0.608248          | 0.737970            | 909.607178      |</pre>"
      ],
      "text/plain": [
       "| 3         | 49100    | 39.294688    | 0.608248          | 0.737970            | 909.607178      |"
      ]
     },
     "metadata": {},
     "output_type": "display_data"
    },
    {
     "data": {
      "text/html": [
       "<pre>| 4         | 46700    | 49.306612    | 0.669979          |                     | 4664.483398     |</pre>"
      ],
      "text/plain": [
       "| 4         | 46700    | 49.306612    | 0.669979          |                     | 4664.483398     |"
      ]
     },
     "metadata": {},
     "output_type": "display_data"
    },
    {
     "data": {
      "text/html": [
       "<pre>| 4         | 49100    | 52.309742    | 0.670998          | 0.753362            | 799.166077      |</pre>"
      ],
      "text/plain": [
       "| 4         | 49100    | 52.309742    | 0.670998          | 0.753362            | 799.166077      |"
      ]
     },
     "metadata": {},
     "output_type": "display_data"
    },
    {
     "data": {
      "text/html": [
       "<pre>| 5         | 46500    | 62.321338    | 0.703441          |                     | 4645.006348     |</pre>"
      ],
      "text/plain": [
       "| 5         | 46500    | 62.321338    | 0.703441          |                     | 4645.006348     |"
      ]
     },
     "metadata": {},
     "output_type": "display_data"
    },
    {
     "data": {
      "text/html": [
       "<pre>| 5         | 49100    | 65.442249    | 0.704420          | 0.774711            | 833.089661      |</pre>"
      ],
      "text/plain": [
       "| 5         | 49100    | 65.442249    | 0.704420          | 0.774711            | 833.089661      |"
      ]
     },
     "metadata": {},
     "output_type": "display_data"
    },
    {
     "data": {
      "text/html": [
       "<pre>| 6         | 44300    | 75.446359    | 0.717788          |                     | 4428.203613     |</pre>"
      ],
      "text/plain": [
       "| 6         | 44300    | 75.446359    | 0.717788          |                     | 4428.203613     |"
      ]
     },
     "metadata": {},
     "output_type": "display_data"
    },
    {
     "data": {
      "text/html": [
       "<pre>| 6         | 49100    | 79.269597    | 0.719572          | 0.775498            | 1255.480103     |</pre>"
      ],
      "text/plain": [
       "| 6         | 49100    | 79.269597    | 0.719572          | 0.775498            | 1255.480103     |"
      ]
     },
     "metadata": {},
     "output_type": "display_data"
    },
    {
     "data": {
      "text/html": [
       "<pre>| 7         | 43800    | 89.288854    | 0.731872          |                     | 4371.602051     |</pre>"
      ],
      "text/plain": [
       "| 7         | 43800    | 89.288854    | 0.731872          |                     | 4371.602051     |"
      ]
     },
     "metadata": {},
     "output_type": "display_data"
    },
    {
     "data": {
      "text/html": [
       "<pre>| 7         | 49100    | 93.009074    | 0.733157          | 0.792213            | 1424.646484     |</pre>"
      ],
      "text/plain": [
       "| 7         | 49100    | 93.009074    | 0.733157          | 0.792213            | 1424.646484     |"
      ]
     },
     "metadata": {},
     "output_type": "display_data"
    },
    {
     "data": {
      "text/html": [
       "<pre>| 8         | 45900    | 103.015412   | 0.743028          |                     | 4587.133789     |</pre>"
      ],
      "text/plain": [
       "| 8         | 45900    | 103.015412   | 0.743028          |                     | 4587.133789     |"
      ]
     },
     "metadata": {},
     "output_type": "display_data"
    },
    {
     "data": {
      "text/html": [
       "<pre>| 8         | 49100    | 106.221054   | 0.743279          | 0.796227            | 998.239868      |</pre>"
      ],
      "text/plain": [
       "| 8         | 49100    | 106.221054   | 0.743279          | 0.796227            | 998.239868      |"
      ]
     },
     "metadata": {},
     "output_type": "display_data"
    },
    {
     "data": {
      "text/html": [
       "<pre>| 9         | 46000    | 116.228069   | 0.754630          |                     | 4596.819336     |</pre>"
      ],
      "text/plain": [
       "| 9         | 46000    | 116.228069   | 0.754630          |                     | 4596.819336     |"
      ]
     },
     "metadata": {},
     "output_type": "display_data"
    },
    {
     "data": {
      "text/html": [
       "<pre>| 9         | 49100    | 119.360993   | 0.754725          | 0.805412            | 989.490723      |</pre>"
      ],
      "text/plain": [
       "| 9         | 49100    | 119.360993   | 0.754725          | 0.805412            | 989.490723      |"
      ]
     },
     "metadata": {},
     "output_type": "display_data"
    },
    {
     "data": {
      "text/html": [
       "<pre>| 10        | 46200    | 129.371972   | 0.757662          |                     | 4614.985352     |</pre>"
      ],
      "text/plain": [
       "| 10        | 46200    | 129.371972   | 0.757662          |                     | 4614.985352     |"
      ]
     },
     "metadata": {},
     "output_type": "display_data"
    },
    {
     "data": {
      "text/html": [
       "<pre>| 10        | 49100    | 132.499160   | 0.757434          | 0.809508            | 927.350464      |</pre>"
      ],
      "text/plain": [
       "| 10        | 49100    | 132.499160   | 0.757434          | 0.809508            | 927.350464      |"
      ]
     },
     "metadata": {},
     "output_type": "display_data"
    },
    {
     "data": {
      "text/html": [
       "<pre>| 11        | 45400    | 142.514669   | 0.761872          |                     | 4533.012695     |</pre>"
      ],
      "text/plain": [
       "| 11        | 45400    | 142.514669   | 0.761872          |                     | 4533.012695     |"
      ]
     },
     "metadata": {},
     "output_type": "display_data"
    },
    {
     "data": {
      "text/html": [
       "<pre>| 11        | 49100    | 145.822003   | 0.762281          | 0.811701            | 1118.725708     |</pre>"
      ],
      "text/plain": [
       "| 11        | 49100    | 145.822003   | 0.762281          | 0.811701            | 1118.725708     |"
      ]
     },
     "metadata": {},
     "output_type": "display_data"
    },
    {
     "data": {
      "text/html": [
       "<pre>| 12        | 44900    | 155.829819   | 0.769866          |                     | 4486.543945     |</pre>"
      ],
      "text/plain": [
       "| 12        | 44900    | 155.829819   | 0.769866          |                     | 4486.543945     |"
      ]
     },
     "metadata": {},
     "output_type": "display_data"
    },
    {
     "data": {
      "text/html": [
       "<pre>| 12        | 49100    | 159.276334   | 0.769511          | 0.815466            | 1218.621826     |</pre>"
      ],
      "text/plain": [
       "| 12        | 49100    | 159.276334   | 0.769511          | 0.815466            | 1218.621826     |"
      ]
     },
     "metadata": {},
     "output_type": "display_data"
    },
    {
     "data": {
      "text/html": [
       "<pre>| 13        | 45300    | 169.289042   | 0.772539          |                     | 4524.299316     |</pre>"
      ],
      "text/plain": [
       "| 13        | 45300    | 169.289042   | 0.772539          |                     | 4524.299316     |"
      ]
     },
     "metadata": {},
     "output_type": "display_data"
    },
    {
     "data": {
      "text/html": [
       "<pre>| 13        | 49100    | 172.622323   | 0.773116          | 0.815673            | 1140.017456     |</pre>"
      ],
      "text/plain": [
       "| 13        | 49100    | 172.622323   | 0.773116          | 0.815673            | 1140.017456     |"
      ]
     },
     "metadata": {},
     "output_type": "display_data"
    },
    {
     "data": {
      "text/html": [
       "<pre>| 14        | 46600    | 182.629419   | 0.772403          |                     | 4656.736816     |</pre>"
      ],
      "text/plain": [
       "| 14        | 46600    | 182.629419   | 0.772403          |                     | 4656.736816     |"
      ]
     },
     "metadata": {},
     "output_type": "display_data"
    },
    {
     "data": {
      "text/html": [
       "<pre>| 14        | 49100    | 185.638783   | 0.772627          | 0.818569            | 830.740234      |</pre>"
      ],
      "text/plain": [
       "| 14        | 49100    | 185.638783   | 0.772627          | 0.818569            | 830.740234      |"
      ]
     },
     "metadata": {},
     "output_type": "display_data"
    },
    {
     "data": {
      "text/html": [
       "<pre>| 15        | 46400    | 195.659639   | 0.774504          |                     | 4630.394531     |</pre>"
      ],
      "text/plain": [
       "| 15        | 46400    | 195.659639   | 0.774504          |                     | 4630.394531     |"
      ]
     },
     "metadata": {},
     "output_type": "display_data"
    },
    {
     "data": {
      "text/html": [
       "<pre>| 15        | 49100    | 198.801690   | 0.774481          | 0.821093            | 859.311035      |</pre>"
      ],
      "text/plain": [
       "| 15        | 49100    | 198.801690   | 0.774481          | 0.821093            | 859.311035      |"
      ]
     },
     "metadata": {},
     "output_type": "display_data"
    },
    {
     "data": {
      "text/html": [
       "<pre>| 16        | 46500    | 208.820911   | 0.778624          |                     | 4641.123535     |</pre>"
      ],
      "text/plain": [
       "| 16        | 46500    | 208.820911   | 0.778624          |                     | 4641.123535     |"
      ]
     },
     "metadata": {},
     "output_type": "display_data"
    },
    {
     "data": {
      "text/html": [
       "<pre>| 16        | 49100    | 211.968130   | 0.778900          | 0.824941            | 826.125977      |</pre>"
      ],
      "text/plain": [
       "| 16        | 49100    | 211.968130   | 0.778900          | 0.824941            | 826.125977      |"
      ]
     },
     "metadata": {},
     "output_type": "display_data"
    },
    {
     "data": {
      "text/html": [
       "<pre>| 17        | 44200    | 221.972059   | 0.781855          |                     | 4418.287598     |</pre>"
      ],
      "text/plain": [
       "| 17        | 44200    | 221.972059   | 0.781855          |                     | 4418.287598     |"
      ]
     },
     "metadata": {},
     "output_type": "display_data"
    },
    {
     "data": {
      "text/html": [
       "<pre>| 17        | 49100    | 225.495664   | 0.781833          | 0.824982            | 1390.620850     |</pre>"
      ],
      "text/plain": [
       "| 17        | 49100    | 225.495664   | 0.781833          | 0.824982            | 1390.620850     |"
      ]
     },
     "metadata": {},
     "output_type": "display_data"
    },
    {
     "data": {
      "text/html": [
       "<pre>| 18        | 46300    | 235.509447   | 0.784147          |                     | 4623.670898     |</pre>"
      ],
      "text/plain": [
       "| 18        | 46300    | 235.509447   | 0.784147          |                     | 4623.670898     |"
      ]
     },
     "metadata": {},
     "output_type": "display_data"
    },
    {
     "data": {
      "text/html": [
       "<pre>| 18        | 49100    | 238.599823   | 0.784358          | 0.827051            | 906.038513      |</pre>"
      ],
      "text/plain": [
       "| 18        | 49100    | 238.599823   | 0.784358          | 0.827051            | 906.038513      |"
      ]
     },
     "metadata": {},
     "output_type": "display_data"
    },
    {
     "data": {
      "text/html": [
       "<pre>| 19        | 46500    | 248.610021   | 0.786151          |                     | 4645.307129     |</pre>"
      ],
      "text/plain": [
       "| 19        | 46500    | 248.610021   | 0.786151          |                     | 4645.307129     |"
      ]
     },
     "metadata": {},
     "output_type": "display_data"
    },
    {
     "data": {
      "text/html": [
       "<pre>| 19        | 49100    | 251.651610   | 0.786884          | 0.827175            | 854.816040      |</pre>"
      ],
      "text/plain": [
       "| 19        | 49100    | 251.651610   | 0.786884          | 0.827175            | 854.816040      |"
      ]
     },
     "metadata": {},
     "output_type": "display_data"
    },
    {
     "data": {
      "text/html": [
       "<pre>| 20        | 46000    | 261.654529   | 0.785826          |                     | 4598.709961     |</pre>"
      ],
      "text/plain": [
       "| 20        | 46000    | 261.654529   | 0.785826          |                     | 4598.709961     |"
      ]
     },
     "metadata": {},
     "output_type": "display_data"
    },
    {
     "data": {
      "text/html": [
       "<pre>| 20        | 49100    | 264.837681   | 0.785723          | 0.829451            | 973.877319      |</pre>"
      ],
      "text/plain": [
       "| 20        | 49100    | 264.837681   | 0.785723          | 0.829451            | 973.877319      |"
      ]
     },
     "metadata": {},
     "output_type": "display_data"
    },
    {
     "data": {
      "text/html": [
       "<pre>| 21        | 46300    | 274.840966   | 0.787473          |                     | 4628.522461     |</pre>"
      ],
      "text/plain": [
       "| 21        | 46300    | 274.840966   | 0.787473          |                     | 4628.522461     |"
      ]
     },
     "metadata": {},
     "output_type": "display_data"
    },
    {
     "data": {
      "text/html": [
       "<pre>| 21        | 49100    | 277.924366   | 0.788045          | 0.826306            | 908.088562      |</pre>"
      ],
      "text/plain": [
       "| 21        | 49100    | 277.924366   | 0.788045          | 0.826306            | 908.088562      |"
      ]
     },
     "metadata": {},
     "output_type": "display_data"
    },
    {
     "data": {
      "text/html": [
       "<pre>| 22        | 46700    | 287.944269   | 0.790728          |                     | 4660.776855     |</pre>"
      ],
      "text/plain": [
       "| 22        | 46700    | 287.944269   | 0.790728          |                     | 4660.776855     |"
      ]
     },
     "metadata": {},
     "output_type": "display_data"
    },
    {
     "data": {
      "text/html": [
       "<pre>| 22        | 49100    | 290.987450   | 0.790754          | 0.830278            | 788.648193      |</pre>"
      ],
      "text/plain": [
       "| 22        | 49100    | 290.987450   | 0.790754          | 0.830278            | 788.648193      |"
      ]
     },
     "metadata": {},
     "output_type": "display_data"
    },
    {
     "data": {
      "text/html": [
       "<pre>| 23        | 46600    | 300.999318   | 0.793798          |                     | 4654.910645     |</pre>"
      ],
      "text/plain": [
       "| 23        | 46600    | 300.999318   | 0.793798          |                     | 4654.910645     |"
      ]
     },
     "metadata": {},
     "output_type": "display_data"
    },
    {
     "data": {
      "text/html": [
       "<pre>| 23        | 49100    | 304.014484   | 0.793523          | 0.830527            | 829.141296      |</pre>"
      ],
      "text/plain": [
       "| 23        | 49100    | 304.014484   | 0.793523          | 0.830527            | 829.141296      |"
      ]
     },
     "metadata": {},
     "output_type": "display_data"
    },
    {
     "data": {
      "text/html": [
       "<pre>| 24        | 46500    | 314.014852   | 0.796022          |                     | 4649.875488     |</pre>"
      ],
      "text/plain": [
       "| 24        | 46500    | 314.014852   | 0.796022          |                     | 4649.875488     |"
      ]
     },
     "metadata": {},
     "output_type": "display_data"
    },
    {
     "data": {
      "text/html": [
       "<pre>| 24        | 49100    | 317.059492   | 0.796680          | 0.837188            | 853.959412      |</pre>"
      ],
      "text/plain": [
       "| 24        | 49100    | 317.059492   | 0.796680          | 0.837188            | 853.959412      |"
      ]
     },
     "metadata": {},
     "output_type": "display_data"
    },
    {
     "data": {
      "text/html": [
       "<pre>| 25        | 46000    | 327.070293   | 0.797304          |                     | 4595.088867     |</pre>"
      ],
      "text/plain": [
       "| 25        | 46000    | 327.070293   | 0.797304          |                     | 4595.088867     |"
      ]
     },
     "metadata": {},
     "output_type": "display_data"
    },
    {
     "data": {
      "text/html": [
       "<pre>| 25        | 49100    | 330.580872   | 0.797291          | 0.835740            | 883.044617      |</pre>"
      ],
      "text/plain": [
       "| 25        | 49100    | 330.580872   | 0.797291          | 0.835740            | 883.044617      |"
      ]
     },
     "metadata": {},
     "output_type": "display_data"
    },
    {
     "data": {
      "text/html": [
       "<pre>| 26        | 43500    | 340.582568   | 0.797035          |                     | 4349.292969     |</pre>"
      ],
      "text/plain": [
       "| 26        | 43500    | 340.582568   | 0.797035          |                     | 4349.292969     |"
      ]
     },
     "metadata": {},
     "output_type": "display_data"
    },
    {
     "data": {
      "text/html": [
       "<pre>| 26        | 49100    | 344.573351   | 0.797210          | 0.824610            | 1403.232788     |</pre>"
      ],
      "text/plain": [
       "| 26        | 49100    | 344.573351   | 0.797210          | 0.824610            | 1403.232788     |"
      ]
     },
     "metadata": {},
     "output_type": "display_data"
    },
    {
     "data": {
      "text/html": [
       "<pre>| 27        | 43200    | 354.578296   | 0.794468          |                     | 4317.902832     |</pre>"
      ],
      "text/plain": [
       "| 27        | 43200    | 354.578296   | 0.794468          |                     | 4317.902832     |"
      ]
     },
     "metadata": {},
     "output_type": "display_data"
    },
    {
     "data": {
      "text/html": [
       "<pre>| 27        | 49100    | 358.609312   | 0.794358          | 0.833464            | 1463.650513     |</pre>"
      ],
      "text/plain": [
       "| 27        | 49100    | 358.609312   | 0.794358          | 0.833464            | 1463.650513     |"
      ]
     },
     "metadata": {},
     "output_type": "display_data"
    },
    {
     "data": {
      "text/html": [
       "<pre>| 28        | 43000    | 368.613634   | 0.798442          |                     | 4298.168945     |</pre>"
      ],
      "text/plain": [
       "| 28        | 43000    | 368.613634   | 0.798442          |                     | 4298.168945     |"
      ]
     },
     "metadata": {},
     "output_type": "display_data"
    },
    {
     "data": {
      "text/html": [
       "<pre>| 28        | 49100    | 372.638204   | 0.798513          | 0.833795            | 1515.689575     |</pre>"
      ],
      "text/plain": [
       "| 28        | 49100    | 372.638204   | 0.798513          | 0.833795            | 1515.689575     |"
      ]
     },
     "metadata": {},
     "output_type": "display_data"
    },
    {
     "data": {
      "text/html": [
       "<pre>| 29        | 44300    | 382.656296   | 0.799503          |                     | 4422.041016     |</pre>"
      ],
      "text/plain": [
       "| 29        | 44300    | 382.656296   | 0.799503          |                     | 4422.041016     |"
      ]
     },
     "metadata": {},
     "output_type": "display_data"
    },
    {
     "data": {
      "text/html": [
       "<pre>| 29        | 49100    | 386.284137   | 0.799470          | 0.836443            | 1323.100586     |</pre>"
      ],
      "text/plain": [
       "| 29        | 49100    | 386.284137   | 0.799470          | 0.836443            | 1323.100586     |"
      ]
     },
     "metadata": {},
     "output_type": "display_data"
    },
    {
     "data": {
      "text/html": [
       "<pre>| 30        | 45300    | 396.299956   | 0.800993          |                     | 4522.899902     |</pre>"
      ],
      "text/plain": [
       "| 30        | 45300    | 396.299956   | 0.800993          |                     | 4522.899902     |"
      ]
     },
     "metadata": {},
     "output_type": "display_data"
    },
    {
     "data": {
      "text/html": [
       "<pre>| 30        | 49100    | 399.704125   | 0.801059          | 0.838429            | 1116.277710     |</pre>"
      ],
      "text/plain": [
       "| 30        | 49100    | 399.704125   | 0.801059          | 0.838429            | 1116.277710     |"
      ]
     },
     "metadata": {},
     "output_type": "display_data"
    },
    {
     "data": {
      "text/html": [
       "<pre>+-----------+----------+--------------+-------------------+---------------------+-----------------+</pre>"
      ],
      "text/plain": [
       "+-----------+----------+--------------+-------------------+---------------------+-----------------+"
      ]
     },
     "metadata": {},
     "output_type": "display_data"
    }
   ],
   "source": [
    "m = gl.neuralnet_classifier.create(train_data, target='label',\n",
    "                                         network = net,\n",
    "                                         validation_set=valid_data,\n",
    "                                         metric=['accuracy'],\n",
    "                                         max_iterations= 30)"
   ]
  },
  {
   "cell_type": "code",
   "execution_count": 217,
   "metadata": {},
   "outputs": [
    {
     "data": {
      "text/plain": [
       "Class               : NeuralNetClassifier\n",
       "\n",
       "Schema\n",
       "------\n",
       "Examples            : 49088\n",
       "Features            : 1\n",
       "Target column       : label\n",
       "\n",
       "Training Summary\n",
       "----------------\n",
       "Training accuracy   : 0.8255\n",
       "Validation accuracy : 0.8441\n",
       "Training time (sec) : 2405.1302"
      ]
     },
     "execution_count": 217,
     "metadata": {},
     "output_type": "execute_result"
    }
   ],
   "source": [
    "m.save('m1')\n",
    "loaded_m1 = gl.load_model('m1')\n",
    "loaded_m1"
   ]
  },
  {
   "cell_type": "code",
   "execution_count": 218,
   "metadata": {},
   "outputs": [
    {
     "name": "stdout",
     "output_type": "stream",
     "text": [
      "Test Set Accuracy: 86.7193578771\n"
     ]
    }
   ],
   "source": [
    "pred=loaded_m1.predict(test)\n",
    "print \"Test Set Accuracy:\",float((pred==test[\"label\"]).sum() ) / float(len(test[\"label\"]))*100"
   ]
  },
  {
   "cell_type": "markdown",
   "metadata": {},
   "source": [
    "### Model#2"
   ]
  },
  {
   "cell_type": "code",
   "execution_count": 168,
   "metadata": {},
   "outputs": [
    {
     "name": "stdout",
     "output_type": "stream",
     "text": [
      "Using network:\n",
      "\n",
      "### network layers ###\n",
      "layer[0]: ConvolutionLayer\n",
      "  init_random = gaussian\n",
      "  padding = 0\n",
      "  stride = 2\n",
      "  num_channels = 10\n",
      "  num_groups = 1\n",
      "  kernel_size = 3\n",
      "layer[1]: MaxPoolingLayer\n",
      "  padding = 0\n",
      "  stride = 2\n",
      "  kernel_size = 3\n",
      "layer[2]: FlattenLayer\n",
      "layer[3]: FullConnectionLayer\n",
      "  init_sigma = 0.01\n",
      "  init_random = gaussian\n",
      "  init_bias = 0\n",
      "  num_hidden_units = 100\n",
      "layer[4]: RectifiedLinearLayer\n",
      "layer[5]: DropoutLayer\n",
      "  threshold = 0.5\n",
      "layer[6]: FullConnectionLayer\n",
      "  init_sigma = 0.01\n",
      "  init_random = gaussian\n",
      "  init_bias = 0\n",
      "  num_hidden_units = 10\n",
      "layer[7]: SoftmaxLayer\n",
      "### end network layers ###\n",
      "\n",
      "### network parameters ###\n",
      "learning_rate = 0.001\n",
      "l2_regularization = 0.001\n",
      "metric = accuracy\n",
      "momentum = 0.9\n",
      "### end network parameters ###\n",
      "\n"
     ]
    },
    {
     "data": {
      "text/html": [
       "<pre>Computing mean image...</pre>"
      ],
      "text/plain": [
       "Computing mean image..."
      ]
     },
     "metadata": {},
     "output_type": "display_data"
    },
    {
     "data": {
      "text/html": [
       "<pre>Done computing mean image.</pre>"
      ],
      "text/plain": [
       "Done computing mean image."
      ]
     },
     "metadata": {},
     "output_type": "display_data"
    },
    {
     "data": {
      "text/html": [
       "<pre>Creating neuralnet using cpu</pre>"
      ],
      "text/plain": [
       "Creating neuralnet using cpu"
      ]
     },
     "metadata": {},
     "output_type": "display_data"
    },
    {
     "data": {
      "text/html": [
       "<pre>Training with batch size = 100</pre>"
      ],
      "text/plain": [
       "Training with batch size = 100"
      ]
     },
     "metadata": {},
     "output_type": "display_data"
    },
    {
     "data": {
      "text/html": [
       "<pre>+-----------+----------+--------------+-------------------+---------------------+-----------------+</pre>"
      ],
      "text/plain": [
       "+-----------+----------+--------------+-------------------+---------------------+-----------------+"
      ]
     },
     "metadata": {},
     "output_type": "display_data"
    },
    {
     "data": {
      "text/html": [
       "<pre>| Iteration | Examples | Elapsed Time | Training-accuracy | Validation-accuracy | Examples/second |</pre>"
      ],
      "text/plain": [
       "| Iteration | Examples | Elapsed Time | Training-accuracy | Validation-accuracy | Examples/second |"
      ]
     },
     "metadata": {},
     "output_type": "display_data"
    },
    {
     "data": {
      "text/html": [
       "<pre>+-----------+----------+--------------+-------------------+---------------------+-----------------+</pre>"
      ],
      "text/plain": [
       "+-----------+----------+--------------+-------------------+---------------------+-----------------+"
      ]
     },
     "metadata": {},
     "output_type": "display_data"
    },
    {
     "data": {
      "text/html": [
       "<pre>| 1         | 45000    | 10.005705    | 0.219844          |                     | 4497.434570     |</pre>"
      ],
      "text/plain": [
       "| 1         | 45000    | 10.005705    | 0.219844          |                     | 4497.434570     |"
      ]
     },
     "metadata": {},
     "output_type": "display_data"
    },
    {
     "data": {
      "text/html": [
       "<pre>| 1         | 73300    | 23.895303    | 0.276030          | 0.513262            | 2037.495850     |</pre>"
      ],
      "text/plain": [
       "| 1         | 73300    | 23.895303    | 0.276030          | 0.513262            | 2037.495850     |"
      ]
     },
     "metadata": {},
     "output_type": "display_data"
    },
    {
     "data": {
      "text/html": [
       "<pre>| 2         | 46100    | 33.903478    | 0.536746          |                     | 4606.279785     |</pre>"
      ],
      "text/plain": [
       "| 2         | 46100    | 33.903478    | 0.536746          |                     | 4606.279785     |"
      ]
     },
     "metadata": {},
     "output_type": "display_data"
    },
    {
     "data": {
      "text/html": [
       "<pre>| 2         | 73300    | 47.398355    | 0.570859          | 0.733787            | 2015.579590     |</pre>"
      ],
      "text/plain": [
       "| 2         | 73300    | 47.398355    | 0.570859          | 0.733787            | 2015.579590     |"
      ]
     },
     "metadata": {},
     "output_type": "display_data"
    },
    {
     "data": {
      "text/html": [
       "<pre>| 3         | 44600    | 57.403465    | 0.669686          |                     | 4457.747559     |</pre>"
      ],
      "text/plain": [
       "| 3         | 44600    | 57.403465    | 0.669686          |                     | 4457.747559     |"
      ]
     },
     "metadata": {},
     "output_type": "display_data"
    },
    {
     "data": {
      "text/html": [
       "<pre>| 3         | 73300    | 71.283590    | 0.676712          | 0.769865            | 2067.704590     |</pre>"
      ],
      "text/plain": [
       "| 3         | 73300    | 71.283590    | 0.676712          | 0.769865            | 2067.704590     |"
      ]
     },
     "metadata": {},
     "output_type": "display_data"
    },
    {
     "data": {
      "text/html": [
       "<pre>| 4         | 44900    | 81.294532    | 0.708285          |                     | 4485.144531     |</pre>"
      ],
      "text/plain": [
       "| 4         | 44900    | 81.294532    | 0.708285          |                     | 4485.144531     |"
      ]
     },
     "metadata": {},
     "output_type": "display_data"
    },
    {
     "data": {
      "text/html": [
       "<pre>| 4         | 73300    | 95.099196    | 0.713370          | 0.809015            | 2057.275635     |</pre>"
      ],
      "text/plain": [
       "| 4         | 73300    | 95.099196    | 0.713370          | 0.809015            | 2057.275635     |"
      ]
     },
     "metadata": {},
     "output_type": "display_data"
    },
    {
     "data": {
      "text/html": [
       "<pre>| 5         | 46500    | 105.108154   | 0.731892          |                     | 4645.893066     |</pre>"
      ],
      "text/plain": [
       "| 5         | 46500    | 105.108154   | 0.731892          |                     | 4645.893066     |"
      ]
     },
     "metadata": {},
     "output_type": "display_data"
    },
    {
     "data": {
      "text/html": [
       "<pre>| 5         | 73300    | 118.345946   | 0.734447          | 0.810817            | 2024.506714     |</pre>"
      ],
      "text/plain": [
       "| 5         | 73300    | 118.345946   | 0.734447          | 0.810817            | 2024.506714     |"
      ]
     },
     "metadata": {},
     "output_type": "display_data"
    },
    {
     "data": {
      "text/html": [
       "<pre>| 6         | 46700    | 128.350782   | 0.747709          |                     | 4668.152832     |</pre>"
      ],
      "text/plain": [
       "| 6         | 46700    | 128.350782   | 0.747709          |                     | 4668.152832     |"
      ]
     },
     "metadata": {},
     "output_type": "display_data"
    },
    {
     "data": {
      "text/html": [
       "<pre>| 6         | 73300    | 141.928399   | 0.750491          | 0.813738            | 1959.106567     |</pre>"
      ],
      "text/plain": [
       "| 6         | 73300    | 141.928399   | 0.750491          | 0.813738            | 1959.106567     |"
      ]
     },
     "metadata": {},
     "output_type": "display_data"
    },
    {
     "data": {
      "text/html": [
       "<pre>| 7         | 45500    | 151.945063   | 0.758154          |                     | 4542.473633     |</pre>"
      ],
      "text/plain": [
       "| 7         | 45500    | 151.945063   | 0.758154          |                     | 4542.473633     |"
      ]
     },
     "metadata": {},
     "output_type": "display_data"
    },
    {
     "data": {
      "text/html": [
       "<pre>| 7         | 73300    | 165.432151   | 0.758922          | 0.822024            | 2061.230469     |</pre>"
      ],
      "text/plain": [
       "| 7         | 73300    | 165.432151   | 0.758922          | 0.822024            | 2061.230469     |"
      ]
     },
     "metadata": {},
     "output_type": "display_data"
    },
    {
     "data": {
      "text/html": [
       "<pre>| 8         | 44900    | 175.434534   | 0.761849          |                     | 4488.972656     |</pre>"
      ],
      "text/plain": [
       "| 8         | 44900    | 175.434534   | 0.761849          |                     | 4488.972656     |"
      ]
     },
     "metadata": {},
     "output_type": "display_data"
    },
    {
     "data": {
      "text/html": [
       "<pre>| 8         | 73300    | 189.749416   | 0.765525          | 0.824426            | 1983.948975     |</pre>"
      ],
      "text/plain": [
       "| 8         | 73300    | 189.749416   | 0.765525          | 0.824426            | 1983.948975     |"
      ]
     },
     "metadata": {},
     "output_type": "display_data"
    },
    {
     "data": {
      "text/html": [
       "<pre>| 9         | 45400    | 199.770596   | 0.773084          |                     | 4530.468262     |</pre>"
      ],
      "text/plain": [
       "| 9         | 45400    | 199.770596   | 0.773084          |                     | 4530.468262     |"
      ]
     },
     "metadata": {},
     "output_type": "display_data"
    },
    {
     "data": {
      "text/html": [
       "<pre>| 9         | 73300    | 214.057390   | 0.773370          | 0.831484            | 1952.852051     |</pre>"
      ],
      "text/plain": [
       "| 9         | 73300    | 214.057390   | 0.773370          | 0.831484            | 1952.852051     |"
      ]
     },
     "metadata": {},
     "output_type": "display_data"
    },
    {
     "data": {
      "text/html": [
       "<pre>| 10        | 45500    | 224.074449   | 0.772066          |                     | 4542.294922     |</pre>"
      ],
      "text/plain": [
       "| 10        | 45500    | 224.074449   | 0.772066          |                     | 4542.294922     |"
      ]
     },
     "metadata": {},
     "output_type": "display_data"
    },
    {
     "data": {
      "text/html": [
       "<pre>| 10        | 73300    | 237.531917   | 0.773724          | 0.833954            | 2065.767334     |</pre>"
      ],
      "text/plain": [
       "| 10        | 73300    | 237.531917   | 0.773724          | 0.833954            | 2065.767334     |"
      ]
     },
     "metadata": {},
     "output_type": "display_data"
    },
    {
     "data": {
      "text/html": [
       "<pre>| 11        | 45100    | 247.543042   | 0.778869          |                     | 4505.369141     |</pre>"
      ],
      "text/plain": [
       "| 11        | 45100    | 247.543042   | 0.778869          |                     | 4505.369141     |"
      ]
     },
     "metadata": {},
     "output_type": "display_data"
    },
    {
     "data": {
      "text/html": [
       "<pre>| 11        | 73300    | 261.595331   | 0.781173          | 0.840984            | 2006.790161     |</pre>"
      ],
      "text/plain": [
       "| 11        | 73300    | 261.595331   | 0.781173          | 0.840984            | 2006.790161     |"
      ]
     },
     "metadata": {},
     "output_type": "display_data"
    },
    {
     "data": {
      "text/html": [
       "<pre>| 12        | 44500    | 271.605291   | 0.776225          |                     | 4445.615234     |</pre>"
      ],
      "text/plain": [
       "| 12        | 44500    | 271.605291   | 0.776225          |                     | 4445.615234     |"
      ]
     },
     "metadata": {},
     "output_type": "display_data"
    },
    {
     "data": {
      "text/html": [
       "<pre>| 12        | 73300    | 285.982852   | 0.778718          | 0.840903            | 2003.121216     |</pre>"
      ],
      "text/plain": [
       "| 12        | 73300    | 285.982852   | 0.778718          | 0.840903            | 2003.121216     |"
      ]
     },
     "metadata": {},
     "output_type": "display_data"
    },
    {
     "data": {
      "text/html": [
       "<pre>| 13        | 42400    | 296.001525   | 0.780849          |                     | 4232.122070     |</pre>"
      ],
      "text/plain": [
       "| 13        | 42400    | 296.001525   | 0.780849          |                     | 4232.122070     |"
      ]
     },
     "metadata": {},
     "output_type": "display_data"
    },
    {
     "data": {
      "text/html": [
       "<pre>| 13        | 73300    | 311.353201   | 0.783070          | 0.844506            | 2012.809204     |</pre>"
      ],
      "text/plain": [
       "| 13        | 73300    | 311.353201   | 0.783070          | 0.844506            | 2012.809204     |"
      ]
     },
     "metadata": {},
     "output_type": "display_data"
    },
    {
     "data": {
      "text/html": [
       "<pre>| 14        | 44100    | 321.375771   | 0.784286          |                     | 4400.540527     |</pre>"
      ],
      "text/plain": [
       "| 14        | 44100    | 321.375771   | 0.784286          |                     | 4400.540527     |"
      ]
     },
     "metadata": {},
     "output_type": "display_data"
    },
    {
     "data": {
      "text/html": [
       "<pre>| 14        | 73300    | 335.659896   | 0.785935          | 0.840643            | 2044.227295     |</pre>"
      ],
      "text/plain": [
       "| 14        | 73300    | 335.659896   | 0.785935          | 0.840643            | 2044.227295     |"
      ]
     },
     "metadata": {},
     "output_type": "display_data"
    },
    {
     "data": {
      "text/html": [
       "<pre>| 15        | 45200    | 345.680626   | 0.785420          |                     | 4510.675293     |</pre>"
      ],
      "text/plain": [
       "| 15        | 45200    | 345.680626   | 0.785420          |                     | 4510.675293     |"
      ]
     },
     "metadata": {},
     "output_type": "display_data"
    },
    {
     "data": {
      "text/html": [
       "<pre>| 15        | 73300    | 359.266136   | 0.787149          | 0.846213            | 2068.379883     |</pre>"
      ],
      "text/plain": [
       "| 15        | 73300    | 359.266136   | 0.787149          | 0.846213            | 2068.379883     |"
      ]
     },
     "metadata": {},
     "output_type": "display_data"
    },
    {
     "data": {
      "text/html": [
       "<pre>| 16        | 44200    | 369.272416   | 0.788778          |                     | 4417.602051     |</pre>"
      ],
      "text/plain": [
       "| 16        | 44200    | 369.272416   | 0.788778          |                     | 4417.602051     |"
      ]
     },
     "metadata": {},
     "output_type": "display_data"
    },
    {
     "data": {
      "text/html": [
       "<pre>| 16        | 73300    | 383.691633   | 0.790628          | 0.843796            | 2018.140015     |</pre>"
      ],
      "text/plain": [
       "| 16        | 73300    | 383.691633   | 0.790628          | 0.843796            | 2018.140015     |"
      ]
     },
     "metadata": {},
     "output_type": "display_data"
    },
    {
     "data": {
      "text/html": [
       "<pre>| 17        | 43900    | 393.712173   | 0.790934          |                     | 4381.027344     |</pre>"
      ],
      "text/plain": [
       "| 17        | 43900    | 393.712173   | 0.790934          |                     | 4381.027344     |"
      ]
     },
     "metadata": {},
     "output_type": "display_data"
    },
    {
     "data": {
      "text/html": [
       "<pre>| 17        | 73300    | 407.705831   | 0.791746          | 0.849393            | 2100.951660     |</pre>"
      ],
      "text/plain": [
       "| 17        | 73300    | 407.705831   | 0.791746          | 0.849393            | 2100.951660     |"
      ]
     },
     "metadata": {},
     "output_type": "display_data"
    },
    {
     "data": {
      "text/html": [
       "<pre>| 18        | 44000    | 417.708047   | 0.791977          |                     | 4399.067383     |</pre>"
      ],
      "text/plain": [
       "| 18        | 44000    | 417.708047   | 0.791977          |                     | 4399.067383     |"
      ]
     },
     "metadata": {},
     "output_type": "display_data"
    },
    {
     "data": {
      "text/html": [
       "<pre>| 18        | 73300    | 431.590229   | 0.794529          | 0.854690            | 2110.618896     |</pre>"
      ],
      "text/plain": [
       "| 18        | 73300    | 431.590229   | 0.794529          | 0.854690            | 2110.618896     |"
      ]
     },
     "metadata": {},
     "output_type": "display_data"
    },
    {
     "data": {
      "text/html": [
       "<pre>| 19        | 46100    | 441.593145   | 0.794989          |                     | 4608.707031     |</pre>"
      ],
      "text/plain": [
       "| 19        | 46100    | 441.593145   | 0.794989          |                     | 4608.707031     |"
      ]
     },
     "metadata": {},
     "output_type": "display_data"
    },
    {
     "data": {
      "text/html": [
       "<pre>| 19        | 73300    | 455.631769   | 0.797258          | 0.852874            | 1937.511597     |</pre>"
      ],
      "text/plain": [
       "| 19        | 73300    | 455.631769   | 0.797258          | 0.852874            | 1937.511597     |"
      ]
     },
     "metadata": {},
     "output_type": "display_data"
    },
    {
     "data": {
      "text/html": [
       "<pre>| 20        | 43900    | 465.646230   | 0.795854          |                     | 4383.702148     |</pre>"
      ],
      "text/plain": [
       "| 20        | 43900    | 465.646230   | 0.795854          |                     | 4383.702148     |"
      ]
     },
     "metadata": {},
     "output_type": "display_data"
    },
    {
     "data": {
      "text/html": [
       "<pre>| 20        | 73300    | 480.436706   | 0.795362          | 0.859850            | 1987.765503     |</pre>"
      ],
      "text/plain": [
       "| 20        | 73300    | 480.436706   | 0.795362          | 0.859850            | 1987.765503     |"
      ]
     },
     "metadata": {},
     "output_type": "display_data"
    },
    {
     "data": {
      "text/html": [
       "<pre>| 21        | 42700    | 490.438620   | 0.794309          |                     | 4269.207031     |</pre>"
      ],
      "text/plain": [
       "| 21        | 42700    | 490.438620   | 0.794309          |                     | 4269.207031     |"
      ]
     },
     "metadata": {},
     "output_type": "display_data"
    },
    {
     "data": {
      "text/html": [
       "<pre>| 21        | 73300    | 504.790364   | 0.798022          | 0.853174            | 2132.144775     |</pre>"
      ],
      "text/plain": [
       "| 21        | 73300    | 504.790364   | 0.798022          | 0.853174            | 2132.144775     |"
      ]
     },
     "metadata": {},
     "output_type": "display_data"
    },
    {
     "data": {
      "text/html": [
       "<pre>| 22        | 45600    | 514.803055   | 0.798136          |                     | 4554.541016     |</pre>"
      ],
      "text/plain": [
       "| 22        | 45600    | 514.803055   | 0.798136          |                     | 4554.541016     |"
      ]
     },
     "metadata": {},
     "output_type": "display_data"
    },
    {
     "data": {
      "text/html": [
       "<pre>| 22        | 73300    | 528.448869   | 0.798909          | 0.858580            | 2029.926392     |</pre>"
      ],
      "text/plain": [
       "| 22        | 73300    | 528.448869   | 0.798909          | 0.858580            | 2029.926392     |"
      ]
     },
     "metadata": {},
     "output_type": "display_data"
    },
    {
     "data": {
      "text/html": [
       "<pre>| 23        | 44900    | 538.469966   | 0.799955          |                     | 4480.571289     |</pre>"
      ],
      "text/plain": [
       "| 23        | 44900    | 538.469966   | 0.799955          |                     | 4480.571289     |"
      ]
     },
     "metadata": {},
     "output_type": "display_data"
    },
    {
     "data": {
      "text/html": [
       "<pre>| 23        | 73300    | 552.216131   | 0.800055          | 0.859891            | 2066.030518     |</pre>"
      ],
      "text/plain": [
       "| 23        | 73300    | 552.216131   | 0.800055          | 0.859891            | 2066.030518     |"
      ]
     },
     "metadata": {},
     "output_type": "display_data"
    },
    {
     "data": {
      "text/html": [
       "<pre>| 24        | 46000    | 562.237331   | 0.800435          |                     | 4590.328125     |</pre>"
      ],
      "text/plain": [
       "| 24        | 46000    | 562.237331   | 0.800435          |                     | 4590.328125     |"
      ]
     },
     "metadata": {},
     "output_type": "display_data"
    },
    {
     "data": {
      "text/html": [
       "<pre>| 24        | 73300    | 576.335381   | 0.800450          | 0.860314            | 1936.437744     |</pre>"
      ],
      "text/plain": [
       "| 24        | 73300    | 576.335381   | 0.800450          | 0.860314            | 1936.437744     |"
      ]
     },
     "metadata": {},
     "output_type": "display_data"
    },
    {
     "data": {
      "text/html": [
       "<pre>| 25        | 45900    | 586.340235   | 0.804030          |                     | 4587.798828     |</pre>"
      ],
      "text/plain": [
       "| 25        | 45900    | 586.340235   | 0.804030          |                     | 4587.798828     |"
      ]
     },
     "metadata": {},
     "output_type": "display_data"
    },
    {
     "data": {
      "text/html": [
       "<pre>| 25        | 73300    | 599.956975   | 0.803520          | 0.858621            | 2012.228882     |</pre>"
      ],
      "text/plain": [
       "| 25        | 73300    | 599.956975   | 0.803520          | 0.858621            | 2012.228882     |"
      ]
     },
     "metadata": {},
     "output_type": "display_data"
    },
    {
     "data": {
      "text/html": [
       "<pre>| 26        | 45900    | 609.974276   | 0.800022          |                     | 4582.098633     |</pre>"
      ],
      "text/plain": [
       "| 26        | 45900    | 609.974276   | 0.800022          |                     | 4582.098633     |"
      ]
     },
     "metadata": {},
     "output_type": "display_data"
    },
    {
     "data": {
      "text/html": [
       "<pre>| 26        | 73300    | 623.925903   | 0.801733          | 0.863958            | 1963.928589     |</pre>"
      ],
      "text/plain": [
       "| 26        | 73300    | 623.925903   | 0.801733          | 0.863958            | 1963.928589     |"
      ]
     },
     "metadata": {},
     "output_type": "display_data"
    },
    {
     "data": {
      "text/html": [
       "<pre>| 27        | 40900    | 633.931959   | 0.803105          |                     | 4087.956787     |</pre>"
      ],
      "text/plain": [
       "| 27        | 40900    | 633.931959   | 0.803105          |                     | 4087.956787     |"
      ]
     },
     "metadata": {},
     "output_type": "display_data"
    },
    {
     "data": {
      "text/html": [
       "<pre>| 27        | 73300    | 648.786011   | 0.805048          | 0.865064            | 2181.222656     |</pre>"
      ],
      "text/plain": [
       "| 27        | 73300    | 648.786011   | 0.805048          | 0.865064            | 2181.222656     |"
      ]
     },
     "metadata": {},
     "output_type": "display_data"
    },
    {
     "data": {
      "text/html": [
       "<pre>| 28        | 46500    | 658.798366   | 0.802473          |                     | 4644.304688     |</pre>"
      ],
      "text/plain": [
       "| 28        | 46500    | 658.798366   | 0.802473          |                     | 4644.304688     |"
      ]
     },
     "metadata": {},
     "output_type": "display_data"
    },
    {
     "data": {
      "text/html": [
       "<pre>| 28        | 73300    | 672.376860   | 0.803724          | 0.866989            | 1973.709229     |</pre>"
      ],
      "text/plain": [
       "| 28        | 73300    | 672.376860   | 0.803724          | 0.866989            | 1973.709229     |"
      ]
     },
     "metadata": {},
     "output_type": "display_data"
    },
    {
     "data": {
      "text/html": [
       "<pre>| 29        | 45200    | 682.385318   | 0.804668          |                     | 4516.206055     |</pre>"
      ],
      "text/plain": [
       "| 29        | 45200    | 682.385318   | 0.804668          |                     | 4516.206055     |"
      ]
     },
     "metadata": {},
     "output_type": "display_data"
    },
    {
     "data": {
      "text/html": [
       "<pre>| 29        | 73300    | 696.002426   | 0.804147          | 0.864286            | 2063.580566     |</pre>"
      ],
      "text/plain": [
       "| 29        | 73300    | 696.002426   | 0.804147          | 0.864286            | 2063.580566     |"
      ]
     },
     "metadata": {},
     "output_type": "display_data"
    },
    {
     "data": {
      "text/html": [
       "<pre>| 30        | 46400    | 706.022735   | 0.803901          |                     | 4630.635254     |</pre>"
      ],
      "text/plain": [
       "| 30        | 46400    | 706.022735   | 0.803901          |                     | 4630.635254     |"
      ]
     },
     "metadata": {},
     "output_type": "display_data"
    },
    {
     "data": {
      "text/html": [
       "<pre>| 30        | 73300    | 719.843839   | 0.806262          | 0.865951            | 1946.298828     |</pre>"
      ],
      "text/plain": [
       "| 30        | 73300    | 719.843839   | 0.806262          | 0.865951            | 1946.298828     |"
      ]
     },
     "metadata": {},
     "output_type": "display_data"
    },
    {
     "data": {
      "text/html": [
       "<pre>| 31        | 44600    | 729.847808   | 0.807825          |                     | 4458.599609     |</pre>"
      ],
      "text/plain": [
       "| 31        | 44600    | 729.847808   | 0.807825          |                     | 4458.599609     |"
      ]
     },
     "metadata": {},
     "output_type": "display_data"
    },
    {
     "data": {
      "text/html": [
       "<pre>| 31        | 73300    | 743.499863   | 0.809086          | 0.866388            | 2102.247559     |</pre>"
      ],
      "text/plain": [
       "| 31        | 73300    | 743.499863   | 0.809086          | 0.866388            | 2102.247559     |"
      ]
     },
     "metadata": {},
     "output_type": "display_data"
    },
    {
     "data": {
      "text/html": [
       "<pre>| 32        | 46600    | 753.503298   | 0.805601          |                     | 4658.816406     |</pre>"
      ],
      "text/plain": [
       "| 32        | 46600    | 753.503298   | 0.805601          |                     | 4658.816406     |"
      ]
     },
     "metadata": {},
     "output_type": "display_data"
    },
    {
     "data": {
      "text/html": [
       "<pre>| 32        | 73300    | 766.888829   | 0.807271          | 0.864068            | 1994.690918     |</pre>"
      ],
      "text/plain": [
       "| 32        | 73300    | 766.888829   | 0.807271          | 0.864068            | 1994.690918     |"
      ]
     },
     "metadata": {},
     "output_type": "display_data"
    },
    {
     "data": {
      "text/html": [
       "<pre>| 33        | 45800    | 776.893864   | 0.811070          |                     | 4577.750488     |</pre>"
      ],
      "text/plain": [
       "| 33        | 45800    | 776.893864   | 0.811070          |                     | 4577.750488     |"
      ]
     },
     "metadata": {},
     "output_type": "display_data"
    },
    {
     "data": {
      "text/html": [
       "<pre>| 33        | 73300    | 790.283580   | 0.810437          | 0.871494            | 2053.814941     |</pre>"
      ],
      "text/plain": [
       "| 33        | 73300    | 790.283580   | 0.810437          | 0.871494            | 2053.814941     |"
      ]
     },
     "metadata": {},
     "output_type": "display_data"
    },
    {
     "data": {
      "text/html": [
       "<pre>| 34        | 44000    | 800.301164   | 0.811386          |                     | 4392.324707     |</pre>"
      ],
      "text/plain": [
       "| 34        | 44000    | 800.301164   | 0.811386          |                     | 4392.324707     |"
      ]
     },
     "metadata": {},
     "output_type": "display_data"
    },
    {
     "data": {
      "text/html": [
       "<pre>| 34        | 73300    | 815.013600   | 0.810969          | 0.865596            | 1991.512451     |</pre>"
      ],
      "text/plain": [
       "| 34        | 73300    | 815.013600   | 0.810969          | 0.865596            | 1991.512451     |"
      ]
     },
     "metadata": {},
     "output_type": "display_data"
    },
    {
     "data": {
      "text/html": [
       "<pre>| 35        | 46200    | 825.017120   | 0.809351          |                     | 4618.408691     |</pre>"
      ],
      "text/plain": [
       "| 35        | 46200    | 825.017120   | 0.809351          |                     | 4618.408691     |"
      ]
     },
     "metadata": {},
     "output_type": "display_data"
    },
    {
     "data": {
      "text/html": [
       "<pre>| 35        | 73300    | 838.356943   | 0.810737          | 0.866880            | 2031.510986     |</pre>"
      ],
      "text/plain": [
       "| 35        | 73300    | 838.356943   | 0.810737          | 0.866880            | 2031.510986     |"
      ]
     },
     "metadata": {},
     "output_type": "display_data"
    },
    {
     "data": {
      "text/html": [
       "<pre>| 36        | 46600    | 848.366920   | 0.811073          |                     | 4655.764648     |</pre>"
      ],
      "text/plain": [
       "| 36        | 46600    | 848.366920   | 0.811073          |                     | 4655.764648     |"
      ]
     },
     "metadata": {},
     "output_type": "display_data"
    },
    {
     "data": {
      "text/html": [
       "<pre>| 36        | 73300    | 861.560206   | 0.811392          | 0.866006            | 2023.756470     |</pre>"
      ],
      "text/plain": [
       "| 36        | 73300    | 861.560206   | 0.811392          | 0.866006            | 2023.756470     |"
      ]
     },
     "metadata": {},
     "output_type": "display_data"
    },
    {
     "data": {
      "text/html": [
       "<pre>| 37        | 46500    | 871.577863   | 0.811140          |                     | 4641.847656     |</pre>"
      ],
      "text/plain": [
       "| 37        | 46500    | 871.577863   | 0.811140          |                     | 4641.847656     |"
      ]
     },
     "metadata": {},
     "output_type": "display_data"
    },
    {
     "data": {
      "text/html": [
       "<pre>| 37        | 73300    | 884.818417   | 0.810095          | 0.872313            | 2024.084473     |</pre>"
      ],
      "text/plain": [
       "| 37        | 73300    | 884.818417   | 0.810095          | 0.872313            | 2024.084473     |"
      ]
     },
     "metadata": {},
     "output_type": "display_data"
    },
    {
     "data": {
      "text/html": [
       "<pre>| 38        | 46600    | 894.825168   | 0.810279          |                     | 4656.908203     |</pre>"
      ],
      "text/plain": [
       "| 38        | 46600    | 894.825168   | 0.810279          |                     | 4656.908203     |"
      ]
     },
     "metadata": {},
     "output_type": "display_data"
    },
    {
     "data": {
      "text/html": [
       "<pre>| 38        | 73300    | 908.045310   | 0.811542          | 0.871384            | 2019.645264     |</pre>"
      ],
      "text/plain": [
       "| 38        | 73300    | 908.045310   | 0.811542          | 0.871384            | 2019.645264     |"
      ]
     },
     "metadata": {},
     "output_type": "display_data"
    },
    {
     "data": {
      "text/html": [
       "<pre>| 39        | 46700    | 918.056851   | 0.811370          |                     | 4664.662109     |</pre>"
      ],
      "text/plain": [
       "| 39        | 46700    | 918.056851   | 0.811370          |                     | 4664.662109     |"
      ]
     },
     "metadata": {},
     "output_type": "display_data"
    },
    {
     "data": {
      "text/html": [
       "<pre>| 39        | 73300    | 931.269059   | 0.812742          | 0.874278            | 2013.289551     |</pre>"
      ],
      "text/plain": [
       "| 39        | 73300    | 931.269059   | 0.812742          | 0.874278            | 2013.289551     |"
      ]
     },
     "metadata": {},
     "output_type": "display_data"
    },
    {
     "data": {
      "text/html": [
       "<pre>| 40        | 46300    | 941.282684   | 0.812160          |                     | 4623.742676     |</pre>"
      ],
      "text/plain": [
       "| 40        | 46300    | 941.282684   | 0.812160          |                     | 4623.742676     |"
      ]
     },
     "metadata": {},
     "output_type": "display_data"
    },
    {
     "data": {
      "text/html": [
       "<pre>| 40        | 73300    | 954.586852   | 0.812769          | 0.874920            | 2029.439087     |</pre>"
      ],
      "text/plain": [
       "| 40        | 73300    | 954.586852   | 0.812769          | 0.874920            | 2029.439087     |"
      ]
     },
     "metadata": {},
     "output_type": "display_data"
    },
    {
     "data": {
      "text/html": [
       "<pre>| 41        | 46600    | 964.591317   | 0.812318          |                     | 4658.309570     |</pre>"
      ],
      "text/plain": [
       "| 41        | 46600    | 964.591317   | 0.812318          |                     | 4658.309570     |"
      ]
     },
     "metadata": {},
     "output_type": "display_data"
    },
    {
     "data": {
      "text/html": [
       "<pre>| 41        | 73300    | 977.786093   | 0.813997          | 0.875889            | 2023.528076     |</pre>"
      ],
      "text/plain": [
       "| 41        | 73300    | 977.786093   | 0.813997          | 0.875889            | 2023.528076     |"
      ]
     },
     "metadata": {},
     "output_type": "display_data"
    },
    {
     "data": {
      "text/html": [
       "<pre>| 42        | 46600    | 987.796297   | 0.815451          |                     | 4655.291992     |</pre>"
      ],
      "text/plain": [
       "| 42        | 46600    | 987.796297   | 0.815451          |                     | 4655.291992     |"
      ]
     },
     "metadata": {},
     "output_type": "display_data"
    },
    {
     "data": {
      "text/html": [
       "<pre>| 42        | 73300    | 1001.026495  | 0.815334          | 0.868381            | 2018.110229     |</pre>"
      ],
      "text/plain": [
       "| 42        | 73300    | 1001.026495  | 0.815334          | 0.868381            | 2018.110229     |"
      ]
     },
     "metadata": {},
     "output_type": "display_data"
    },
    {
     "data": {
      "text/html": [
       "<pre>| 43        | 46600    | 1011.031681  | 0.812425          |                     | 4657.629395     |</pre>"
      ],
      "text/plain": [
       "| 43        | 46600    | 1011.031681  | 0.812425          |                     | 4657.629395     |"
      ]
     },
     "metadata": {},
     "output_type": "display_data"
    },
    {
     "data": {
      "text/html": [
       "<pre>| 43        | 73300    | 1024.278190  | 0.813574          | 0.876653            | 2015.625244     |</pre>"
      ],
      "text/plain": [
       "| 43        | 73300    | 1024.278190  | 0.813574          | 0.876653            | 2015.625244     |"
      ]
     },
     "metadata": {},
     "output_type": "display_data"
    },
    {
     "data": {
      "text/html": [
       "<pre>| 44        | 46700    | 1034.284396  | 0.815054          |                     | 4667.155273     |</pre>"
      ],
      "text/plain": [
       "| 44        | 46700    | 1034.284396  | 0.815054          |                     | 4667.155273     |"
      ]
     },
     "metadata": {},
     "output_type": "display_data"
    },
    {
     "data": {
      "text/html": [
       "<pre>| 44        | 73300    | 1047.667294  | 0.815198          | 0.872927            | 1987.611206     |</pre>"
      ],
      "text/plain": [
       "| 44        | 73300    | 1047.667294  | 0.815198          | 0.872927            | 1987.611206     |"
      ]
     },
     "metadata": {},
     "output_type": "display_data"
    },
    {
     "data": {
      "text/html": [
       "<pre>| 45        | 30300    | 7114842725...| 0.814851          |                     | 0.000004        |</pre>"
      ],
      "text/plain": [
       "| 45        | 30300    | 7114842725...| 0.814851          |                     | 0.000004        |"
      ]
     },
     "metadata": {},
     "output_type": "display_data"
    },
    {
     "data": {
      "text/html": [
       "<pre>| 45        | 73300    | 7114842742...| 0.814598          | 0.872162            | 2476.983154     |</pre>"
      ],
      "text/plain": [
       "| 45        | 73300    | 7114842742...| 0.814598          | 0.872162            | 2476.983154     |"
      ]
     },
     "metadata": {},
     "output_type": "display_data"
    },
    {
     "data": {
      "text/html": [
       "<pre>| 46        | 45400    | 7114842752...| 0.813414          |                     | 4534.747070     |</pre>"
      ],
      "text/plain": [
       "| 46        | 45400    | 7114842752...| 0.813414          |                     | 4534.747070     |"
      ]
     },
     "metadata": {},
     "output_type": "display_data"
    },
    {
     "data": {
      "text/html": [
       "<pre>| 46        | 73300    | 7114842766...| 0.816862          | 0.874660            | 1928.260132     |</pre>"
      ],
      "text/plain": [
       "| 46        | 73300    | 7114842766...| 0.816862          | 0.874660            | 1928.260132     |"
      ]
     },
     "metadata": {},
     "output_type": "display_data"
    },
    {
     "data": {
      "text/html": [
       "<pre>| 47        | 40200    | 7114842777...| 0.816965          |                     | 4017.298584     |</pre>"
      ],
      "text/plain": [
       "| 47        | 40200    | 7114842777...| 0.816965          |                     | 4017.298584     |"
      ]
     },
     "metadata": {},
     "output_type": "display_data"
    },
    {
     "data": {
      "text/html": [
       "<pre>| 47        | 73300    | 7114842792...| 0.816289          | 0.874333            | 2147.354248     |</pre>"
      ],
      "text/plain": [
       "| 47        | 73300    | 7114842792...| 0.816289          | 0.874333            | 2147.354248     |"
      ]
     },
     "metadata": {},
     "output_type": "display_data"
    },
    {
     "data": {
      "text/html": [
       "<pre>| 48        | 44600    | 7114842802...| 0.814619          |                     | 4450.416504     |</pre>"
      ],
      "text/plain": [
       "| 48        | 44600    | 7114842802...| 0.814619          |                     | 4450.416504     |"
      ]
     },
     "metadata": {},
     "output_type": "display_data"
    },
    {
     "data": {
      "text/html": [
       "<pre>| 48        | 73300    | 7114842817...| 0.815607          | 0.871780            | 1951.749878     |</pre>"
      ],
      "text/plain": [
       "| 48        | 73300    | 7114842817...| 0.815607          | 0.871780            | 1951.749878     |"
      ]
     },
     "metadata": {},
     "output_type": "display_data"
    },
    {
     "data": {
      "text/html": [
       "<pre>| 49        | 43800    | 7114842827...| 0.814795          |                     | 4372.359863     |</pre>"
      ],
      "text/plain": [
       "| 49        | 43800    | 7114842827...| 0.814795          |                     | 4372.359863     |"
      ]
     },
     "metadata": {},
     "output_type": "display_data"
    },
    {
     "data": {
      "text/html": [
       "<pre>| 49        | 73300    | 7114842841...| 0.816630          | 0.879151            | 2019.839600     |</pre>"
      ],
      "text/plain": [
       "| 49        | 73300    | 7114842841...| 0.816630          | 0.879151            | 2019.839600     |"
      ]
     },
     "metadata": {},
     "output_type": "display_data"
    },
    {
     "data": {
      "text/html": [
       "<pre>| 50        | 43900    | 7114842851...| 0.814966          |                     | 4378.942871     |</pre>"
      ],
      "text/plain": [
       "| 50        | 43900    | 7114842851...| 0.814966          |                     | 4378.942871     |"
      ]
     },
     "metadata": {},
     "output_type": "display_data"
    },
    {
     "data": {
      "text/html": [
       "<pre>| 50        | 73300    | 7114842866...| 0.817094          | 0.877404            | 2030.296265     |</pre>"
      ],
      "text/plain": [
       "| 50        | 73300    | 7114842866...| 0.817094          | 0.877404            | 2030.296265     |"
      ]
     },
     "metadata": {},
     "output_type": "display_data"
    },
    {
     "data": {
      "text/html": [
       "<pre>+-----------+----------+--------------+-------------------+---------------------+-----------------+</pre>"
      ],
      "text/plain": [
       "+-----------+----------+--------------+-------------------+---------------------+-----------------+"
      ]
     },
     "metadata": {},
     "output_type": "display_data"
    }
   ],
   "source": [
    "m = gl.neuralnet_classifier.create(train_data, target='label',\n",
    "                                         network = net,\n",
    "                                         validation_set=valid_data,\n",
    "                                         metric=['accuracy'],\n",
    "                                         max_iterations= 50,\n",
    "                                           l2_regularization = 0.001)"
   ]
  },
  {
   "cell_type": "code",
   "execution_count": 213,
   "metadata": {},
   "outputs": [
    {
     "data": {
      "text/plain": [
       "Class               : NeuralNetClassifier\n",
       "\n",
       "Schema\n",
       "------\n",
       "Examples            : 49088\n",
       "Features            : 1\n",
       "Target column       : label\n",
       "\n",
       "Training Summary\n",
       "----------------\n",
       "Training accuracy   : 0.8255\n",
       "Validation accuracy : 0.8441\n",
       "Training time (sec) : 2405.1302"
      ]
     },
     "execution_count": 213,
     "metadata": {},
     "output_type": "execute_result"
    }
   ],
   "source": [
    "m.save('m2')\n",
    "loaded_m2 = gl.load_model('m2')\n",
    "loaded_m2"
   ]
  },
  {
   "cell_type": "code",
   "execution_count": 214,
   "metadata": {},
   "outputs": [
    {
     "name": "stdout",
     "output_type": "stream",
     "text": [
      "Test Set Accuracy: 86.7193578771\n"
     ]
    }
   ],
   "source": [
    "pred=loaded_m2.predict(test)\n",
    "print \"Test Set Accuracy:\",float((pred==test[\"label\"]).sum() ) / float(len(test[\"label\"]))*100"
   ]
  },
  {
   "cell_type": "markdown",
   "metadata": {},
   "source": [
    "### Model#3"
   ]
  },
  {
   "cell_type": "code",
   "execution_count": 173,
   "metadata": {
    "collapsed": true
   },
   "outputs": [],
   "source": [
    "net.layers[0].num_channels=64"
   ]
  },
  {
   "cell_type": "code",
   "execution_count": 176,
   "metadata": {},
   "outputs": [
    {
     "name": "stdout",
     "output_type": "stream",
     "text": [
      "Using network:\n",
      "\n",
      "### network layers ###\n",
      "layer[0]: ConvolutionLayer\n",
      "  init_random = gaussian\n",
      "  padding = 0\n",
      "  stride = 2\n",
      "  num_channels = 64\n",
      "  num_groups = 1\n",
      "  kernel_size = 3\n",
      "layer[1]: MaxPoolingLayer\n",
      "  padding = 0\n",
      "  stride = 2\n",
      "  kernel_size = 3\n",
      "layer[2]: FlattenLayer\n",
      "layer[3]: FullConnectionLayer\n",
      "  init_sigma = 0.01\n",
      "  init_random = gaussian\n",
      "  init_bias = 0\n",
      "  num_hidden_units = 100\n",
      "layer[4]: RectifiedLinearLayer\n",
      "layer[5]: DropoutLayer\n",
      "  threshold = 0.5\n",
      "layer[6]: FullConnectionLayer\n",
      "  init_sigma = 0.01\n",
      "  init_random = gaussian\n",
      "  init_bias = 0\n",
      "  num_hidden_units = 10\n",
      "layer[7]: SoftmaxLayer\n",
      "### end network layers ###\n",
      "\n",
      "### network parameters ###\n",
      "learning_rate = 0.001\n",
      "l2_regularization = 0.005\n",
      "metric = accuracy\n",
      "momentum = 0.9\n",
      "### end network parameters ###\n",
      "\n"
     ]
    },
    {
     "data": {
      "text/html": [
       "<pre>Computing mean image...</pre>"
      ],
      "text/plain": [
       "Computing mean image..."
      ]
     },
     "metadata": {},
     "output_type": "display_data"
    },
    {
     "data": {
      "text/html": [
       "<pre>Done computing mean image.</pre>"
      ],
      "text/plain": [
       "Done computing mean image."
      ]
     },
     "metadata": {},
     "output_type": "display_data"
    },
    {
     "data": {
      "text/html": [
       "<pre>Creating neuralnet using cpu</pre>"
      ],
      "text/plain": [
       "Creating neuralnet using cpu"
      ]
     },
     "metadata": {},
     "output_type": "display_data"
    },
    {
     "data": {
      "text/html": [
       "<pre>Training with batch size = 100</pre>"
      ],
      "text/plain": [
       "Training with batch size = 100"
      ]
     },
     "metadata": {},
     "output_type": "display_data"
    },
    {
     "data": {
      "text/html": [
       "<pre>+-----------+----------+--------------+-------------------+---------------------+-----------------+</pre>"
      ],
      "text/plain": [
       "+-----------+----------+--------------+-------------------+---------------------+-----------------+"
      ]
     },
     "metadata": {},
     "output_type": "display_data"
    },
    {
     "data": {
      "text/html": [
       "<pre>| Iteration | Examples | Elapsed Time | Training-accuracy | Validation-accuracy | Examples/second |</pre>"
      ],
      "text/plain": [
       "| Iteration | Examples | Elapsed Time | Training-accuracy | Validation-accuracy | Examples/second |"
      ]
     },
     "metadata": {},
     "output_type": "display_data"
    },
    {
     "data": {
      "text/html": [
       "<pre>+-----------+----------+--------------+-------------------+---------------------+-----------------+</pre>"
      ],
      "text/plain": [
       "+-----------+----------+--------------+-------------------+---------------------+-----------------+"
      ]
     },
     "metadata": {},
     "output_type": "display_data"
    },
    {
     "data": {
      "text/html": [
       "<pre>| 1         | 7000     | 10.065952    | 0.173429          |                     | 695.413696      |</pre>"
      ],
      "text/plain": [
       "| 1         | 7000     | 10.065952    | 0.173429          |                     | 695.413696      |"
      ]
     },
     "metadata": {},
     "output_type": "display_data"
    },
    {
     "data": {
      "text/html": [
       "<pre>| 1         | 14500    | 20.075936    | 0.183241          |                     | 749.253357      |</pre>"
      ],
      "text/plain": [
       "| 1         | 14500    | 20.075936    | 0.183241          |                     | 749.253357      |"
      ]
     },
     "metadata": {},
     "output_type": "display_data"
    },
    {
     "data": {
      "text/html": [
       "<pre>| 1         | 22900    | 30.109738    | 0.196376          |                     | 837.168640      |</pre>"
      ],
      "text/plain": [
       "| 1         | 22900    | 30.109738    | 0.196376          |                     | 837.168640      |"
      ]
     },
     "metadata": {},
     "output_type": "display_data"
    },
    {
     "data": {
      "text/html": [
       "<pre>| 1         | 31300    | 40.143178    | 0.220383          |                     | 837.200439      |</pre>"
      ],
      "text/plain": [
       "| 1         | 31300    | 40.143178    | 0.220383          |                     | 837.200439      |"
      ]
     },
     "metadata": {},
     "output_type": "display_data"
    },
    {
     "data": {
      "text/html": [
       "<pre>| 1         | 39700    | 50.233742    | 0.252317          |                     | 832.462402      |</pre>"
      ],
      "text/plain": [
       "| 1         | 39700    | 50.233742    | 0.252317          |                     | 832.462402      |"
      ]
     },
     "metadata": {},
     "output_type": "display_data"
    },
    {
     "data": {
      "text/html": [
       "<pre>| 1         | 48100    | 60.313997    | 0.293119          |                     | 833.312317      |</pre>"
      ],
      "text/plain": [
       "| 1         | 48100    | 60.313997    | 0.293119          |                     | 833.312317      |"
      ]
     },
     "metadata": {},
     "output_type": "display_data"
    },
    {
     "data": {
      "text/html": [
       "<pre>| 1         | 49100    | 74.387741    | 0.297780          | 0.600894            | 71.054192       |</pre>"
      ],
      "text/plain": [
       "| 1         | 49100    | 74.387741    | 0.297780          | 0.600894            | 71.054192       |"
      ]
     },
     "metadata": {},
     "output_type": "display_data"
    },
    {
     "data": {
      "text/html": [
       "<pre>| 2         | 8400     | 84.453000    | 0.541310          |                     | 834.563171      |</pre>"
      ],
      "text/plain": [
       "| 2         | 8400     | 84.453000    | 0.541310          |                     | 834.563171      |"
      ]
     },
     "metadata": {},
     "output_type": "display_data"
    },
    {
     "data": {
      "text/html": [
       "<pre>| 2         | 16800    | 94.510604    | 0.569643          |                     | 835.188965      |</pre>"
      ],
      "text/plain": [
       "| 2         | 16800    | 94.510604    | 0.569643          |                     | 835.188965      |"
      ]
     },
     "metadata": {},
     "output_type": "display_data"
    },
    {
     "data": {
      "text/html": [
       "<pre>| 2         | 25100    | 104.513110   | 0.583307          |                     | 829.792053      |</pre>"
      ],
      "text/plain": [
       "| 2         | 25100    | 104.513110   | 0.583307          |                     | 829.792053      |"
      ]
     },
     "metadata": {},
     "output_type": "display_data"
    },
    {
     "data": {
      "text/html": [
       "<pre>| 2         | 33500    | 114.540738   | 0.595672          |                     | 837.685669      |</pre>"
      ],
      "text/plain": [
       "| 2         | 33500    | 114.540738   | 0.595672          |                     | 837.685669      |"
      ]
     },
     "metadata": {},
     "output_type": "display_data"
    },
    {
     "data": {
      "text/html": [
       "<pre>| 2         | 41900    | 124.559413   | 0.606372          |                     | 838.434265      |</pre>"
      ],
      "text/plain": [
       "| 2         | 41900    | 124.559413   | 0.606372          |                     | 838.434265      |"
      ]
     },
     "metadata": {},
     "output_type": "display_data"
    },
    {
     "data": {
      "text/html": [
       "<pre>| 2         | 49100    | 145.988930   | 0.615621          | 0.740163            | 335.985138      |</pre>"
      ],
      "text/plain": [
       "| 2         | 49100    | 145.988930   | 0.615621          | 0.740163            | 335.985138      |"
      ]
     },
     "metadata": {},
     "output_type": "display_data"
    },
    {
     "data": {
      "text/html": [
       "<pre>| 3         | 8200     | 156.091840   | 0.667439          |                     | 811.655579      |</pre>"
      ],
      "text/plain": [
       "| 3         | 8200     | 156.091840   | 0.667439          |                     | 811.655579      |"
      ]
     },
     "metadata": {},
     "output_type": "display_data"
    },
    {
     "data": {
      "text/html": [
       "<pre>| 3         | 16600    | 166.139440   | 0.676988          |                     | 836.020569      |</pre>"
      ],
      "text/plain": [
       "| 3         | 16600    | 166.139440   | 0.676988          |                     | 836.020569      |"
      ]
     },
     "metadata": {},
     "output_type": "display_data"
    },
    {
     "data": {
      "text/html": [
       "<pre>| 3         | 25000    | 176.242718   | 0.678120          |                     | 831.413330      |</pre>"
      ],
      "text/plain": [
       "| 3         | 25000    | 176.242718   | 0.678120          |                     | 831.413330      |"
      ]
     },
     "metadata": {},
     "output_type": "display_data"
    },
    {
     "data": {
      "text/html": [
       "<pre>| 3         | 33400    | 186.277526   | 0.681886          |                     | 837.086243      |</pre>"
      ],
      "text/plain": [
       "| 3         | 33400    | 186.277526   | 0.681886          |                     | 837.086243      |"
      ]
     },
     "metadata": {},
     "output_type": "display_data"
    },
    {
     "data": {
      "text/html": [
       "<pre>| 3         | 41800    | 196.283327   | 0.686483          |                     | 839.513000      |</pre>"
      ],
      "text/plain": [
       "| 3         | 41800    | 196.283327   | 0.686483          |                     | 839.513000      |"
      ]
     },
     "metadata": {},
     "output_type": "display_data"
    },
    {
     "data": {
      "text/html": [
       "<pre>| 3         | 49100    | 217.811016   | 0.689491          | 0.779345            | 339.098145      |</pre>"
      ],
      "text/plain": [
       "| 3         | 49100    | 217.811016   | 0.689491          | 0.779345            | 339.098145      |"
      ]
     },
     "metadata": {},
     "output_type": "display_data"
    },
    {
     "data": {
      "text/html": [
       "<pre>| 4         | 8400     | 227.818205   | 0.709643          |                     | 839.469666      |</pre>"
      ],
      "text/plain": [
       "| 4         | 8400     | 227.818205   | 0.709643          |                     | 839.469666      |"
      ]
     },
     "metadata": {},
     "output_type": "display_data"
    },
    {
     "data": {
      "text/html": [
       "<pre>| 4         | 16900    | 237.935769   | 0.713550          |                     | 840.123108      |</pre>"
      ],
      "text/plain": [
       "| 4         | 16900    | 237.935769   | 0.713550          |                     | 840.123108      |"
      ]
     },
     "metadata": {},
     "output_type": "display_data"
    },
    {
     "data": {
      "text/html": [
       "<pre>| 4         | 25300    | 247.946037   | 0.715534          |                     | 839.140015      |</pre>"
      ],
      "text/plain": [
       "| 4         | 25300    | 247.946037   | 0.715534          |                     | 839.140015      |"
      ]
     },
     "metadata": {},
     "output_type": "display_data"
    },
    {
     "data": {
      "text/html": [
       "<pre>| 4         | 33700    | 257.952243   | 0.714837          |                     | 839.479004      |</pre>"
      ],
      "text/plain": [
       "| 4         | 33700    | 257.952243   | 0.714837          |                     | 839.479004      |"
      ]
     },
     "metadata": {},
     "output_type": "display_data"
    },
    {
     "data": {
      "text/html": [
       "<pre>| 4         | 42200    | 268.068061   | 0.715640          |                     | 840.268127      |</pre>"
      ],
      "text/plain": [
       "| 4         | 42200    | 268.068061   | 0.715640          |                     | 840.268127      |"
      ]
     },
     "metadata": {},
     "output_type": "display_data"
    },
    {
     "data": {
      "text/html": [
       "<pre>| 4         | 49100    | 289.085099   | 0.717821          | 0.783152            | 328.304749      |</pre>"
      ],
      "text/plain": [
       "| 4         | 49100    | 289.085099   | 0.717821          | 0.783152            | 328.304749      |"
      ]
     },
     "metadata": {},
     "output_type": "display_data"
    },
    {
     "data": {
      "text/html": [
       "<pre>| 5         | 8400     | 299.141602   | 0.719167          |                     | 835.288452      |</pre>"
      ],
      "text/plain": [
       "| 5         | 8400     | 299.141602   | 0.719167          |                     | 835.288452      |"
      ]
     },
     "metadata": {},
     "output_type": "display_data"
    },
    {
     "data": {
      "text/html": [
       "<pre>| 5         | 16900    | 309.259248   | 0.725385          |                     | 840.116333      |</pre>"
      ],
      "text/plain": [
       "| 5         | 16900    | 309.259248   | 0.725385          |                     | 840.116333      |"
      ]
     },
     "metadata": {},
     "output_type": "display_data"
    },
    {
     "data": {
      "text/html": [
       "<pre>| 5         | 25400    | 319.347306   | 0.720197          |                     | 842.580322      |</pre>"
      ],
      "text/plain": [
       "| 5         | 25400    | 319.347306   | 0.720197          |                     | 842.580322      |"
      ]
     },
     "metadata": {},
     "output_type": "display_data"
    },
    {
     "data": {
      "text/html": [
       "<pre>| 5         | 33900    | 329.439863   | 0.721121          |                     | 842.204773      |</pre>"
      ],
      "text/plain": [
       "| 5         | 33900    | 329.439863   | 0.721121          |                     | 842.204773      |"
      ]
     },
     "metadata": {},
     "output_type": "display_data"
    },
    {
     "data": {
      "text/html": [
       "<pre>| 5         | 42300    | 339.446390   | 0.724657          |                     | 839.452087      |</pre>"
      ],
      "text/plain": [
       "| 5         | 42300    | 339.446390   | 0.724657          |                     | 839.452087      |"
      ]
     },
     "metadata": {},
     "output_type": "display_data"
    },
    {
     "data": {
      "text/html": [
       "<pre>| 5         | 49100    | 360.373791   | 0.725947          | 0.790600            | 324.932831      |</pre>"
      ],
      "text/plain": [
       "| 5         | 49100    | 360.373791   | 0.725947          | 0.790600            | 324.932831      |"
      ]
     },
     "metadata": {},
     "output_type": "display_data"
    },
    {
     "data": {
      "text/html": [
       "<pre>| 6         | 8400     | 370.417757   | 0.729405          |                     | 836.331787      |</pre>"
      ],
      "text/plain": [
       "| 6         | 8400     | 370.417757   | 0.729405          |                     | 836.331787      |"
      ]
     },
     "metadata": {},
     "output_type": "display_data"
    },
    {
     "data": {
      "text/html": [
       "<pre>| 6         | 16800    | 380.467110   | 0.731071          |                     | 835.874756      |</pre>"
      ],
      "text/plain": [
       "| 6         | 16800    | 380.467110   | 0.731071          |                     | 835.874756      |"
      ]
     },
     "metadata": {},
     "output_type": "display_data"
    },
    {
     "data": {
      "text/html": [
       "<pre>| 6         | 25100    | 390.535047   | 0.729084          |                     | 824.399231      |</pre>"
      ],
      "text/plain": [
       "| 6         | 25100    | 390.535047   | 0.729084          |                     | 824.399231      |"
      ]
     },
     "metadata": {},
     "output_type": "display_data"
    },
    {
     "data": {
      "text/html": [
       "<pre>| 6         | 33500    | 400.569954   | 0.730567          |                     | 837.078003      |</pre>"
      ],
      "text/plain": [
       "| 6         | 33500    | 400.569954   | 0.730567          |                     | 837.078003      |"
      ]
     },
     "metadata": {},
     "output_type": "display_data"
    },
    {
     "data": {
      "text/html": [
       "<pre>| 6         | 36200    | 7114852771...| 0.732044          |                     | 0.000000        |</pre>"
      ],
      "text/plain": [
       "| 6         | 36200    | 7114852771...| 0.732044          |                     | 0.000000        |"
      ]
     },
     "metadata": {},
     "output_type": "display_data"
    },
    {
     "data": {
      "text/html": [
       "<pre>| 6         | 43500    | 7114852781...| 0.734092          |                     | 729.091003      |</pre>"
      ],
      "text/plain": [
       "| 6         | 43500    | 7114852781...| 0.734092          |                     | 729.091003      |"
      ]
     },
     "metadata": {},
     "output_type": "display_data"
    },
    {
     "data": {
      "text/html": [
       "<pre>| 6         | 49100    | 7114852803...| 0.735295          | 0.791799            | 255.748642      |</pre>"
      ],
      "text/plain": [
       "| 6         | 49100    | 7114852803...| 0.735295          | 0.791799            | 255.748642      |"
      ]
     },
     "metadata": {},
     "output_type": "display_data"
    },
    {
     "data": {
      "text/html": [
       "<pre>| 7         | 8400     | 7114852813...| 0.739048          |                     | 835.121155      |</pre>"
      ],
      "text/plain": [
       "| 7         | 8400     | 7114852813...| 0.739048          |                     | 835.121155      |"
      ]
     },
     "metadata": {},
     "output_type": "display_data"
    },
    {
     "data": {
      "text/html": [
       "<pre>| 7         | 16800    | 7114852823...| 0.739405          |                     | 837.638184      |</pre>"
      ],
      "text/plain": [
       "| 7         | 16800    | 7114852823...| 0.739405          |                     | 837.638184      |"
      ]
     },
     "metadata": {},
     "output_type": "display_data"
    },
    {
     "data": {
      "text/html": [
       "<pre>| 7         | 24400    | 7114852833...| 0.739344          |                     | 758.028503      |</pre>"
      ],
      "text/plain": [
       "| 7         | 24400    | 7114852833...| 0.739344          |                     | 758.028503      |"
      ]
     },
     "metadata": {},
     "output_type": "display_data"
    },
    {
     "data": {
      "text/html": [
       "<pre>| 7         | 32700    | 7114852843...| 0.742385          |                     | 825.585876      |</pre>"
      ],
      "text/plain": [
       "| 7         | 32700    | 7114852843...| 0.742385          |                     | 825.585876      |"
      ]
     },
     "metadata": {},
     "output_type": "display_data"
    },
    {
     "data": {
      "text/html": [
       "<pre>| 7         | 41200    | 7114852853...| 0.743811          |                     | 840.716797      |</pre>"
      ],
      "text/plain": [
       "| 7         | 41200    | 7114852853...| 0.743811          |                     | 840.716797      |"
      ]
     },
     "metadata": {},
     "output_type": "display_data"
    },
    {
     "data": {
      "text/html": [
       "<pre>| 7         | 49100    | 7114852875...| 0.745743          | 0.801523            | 356.485962      |</pre>"
      ],
      "text/plain": [
       "| 7         | 49100    | 7114852875...| 0.745743          | 0.801523            | 356.485962      |"
      ]
     },
     "metadata": {},
     "output_type": "display_data"
    },
    {
     "data": {
      "text/html": [
       "<pre>| 8         | 8500     | 7114852886...| 0.747882          |                     | 840.227478      |</pre>"
      ],
      "text/plain": [
       "| 8         | 8500     | 7114852886...| 0.747882          |                     | 840.227478      |"
      ]
     },
     "metadata": {},
     "output_type": "display_data"
    },
    {
     "data": {
      "text/html": [
       "<pre>| 8         | 16900    | 7114852896...| 0.755089          |                     | 835.824707      |</pre>"
      ],
      "text/plain": [
       "| 8         | 16900    | 7114852896...| 0.755089          |                     | 835.824707      |"
      ]
     },
     "metadata": {},
     "output_type": "display_data"
    },
    {
     "data": {
      "text/html": [
       "<pre>| 8         | 24500    | 7114852906...| 0.753673          |                     | 756.943115      |</pre>"
      ],
      "text/plain": [
       "| 8         | 24500    | 7114852906...| 0.753673          |                     | 756.943115      |"
      ]
     },
     "metadata": {},
     "output_type": "display_data"
    },
    {
     "data": {
      "text/html": [
       "<pre>| 8         | 31900    | 7114852916...| 0.752884          |                     | 733.753357      |</pre>"
      ],
      "text/plain": [
       "| 8         | 31900    | 7114852916...| 0.752884          |                     | 733.753357      |"
      ]
     },
     "metadata": {},
     "output_type": "display_data"
    },
    {
     "data": {
      "text/html": [
       "<pre>| 8         | 40400    | 7114852926...| 0.754901          |                     | 840.744690      |</pre>"
      ],
      "text/plain": [
       "| 8         | 40400    | 7114852926...| 0.754901          |                     | 840.744690      |"
      ]
     },
     "metadata": {},
     "output_type": "display_data"
    },
    {
     "data": {
      "text/html": [
       "<pre>| 8         | 48900    | 7114852936...| 0.755297          |                     | 842.931641      |</pre>"
      ],
      "text/plain": [
       "| 8         | 48900    | 7114852936...| 0.755297          |                     | 842.931641      |"
      ]
     },
     "metadata": {},
     "output_type": "display_data"
    },
    {
     "data": {
      "text/html": [
       "<pre>| 8         | 49100    | 7114852950...| 0.755336          | 0.796723            | 14.374344       |</pre>"
      ],
      "text/plain": [
       "| 8         | 49100    | 7114852950...| 0.755336          | 0.796723            | 14.374344       |"
      ]
     },
     "metadata": {},
     "output_type": "display_data"
    },
    {
     "data": {
      "text/html": [
       "<pre>| 9         | 8200     | 7114852960...| 0.757683          |                     | 818.667175      |</pre>"
      ],
      "text/plain": [
       "| 9         | 8200     | 7114852960...| 0.757683          |                     | 818.667175      |"
      ]
     },
     "metadata": {},
     "output_type": "display_data"
    },
    {
     "data": {
      "text/html": [
       "<pre>| 9         | 16600    | 7114852970...| 0.760060          |                     | 836.549988      |</pre>"
      ],
      "text/plain": [
       "| 9         | 16600    | 7114852970...| 0.760060          |                     | 836.549988      |"
      ]
     },
     "metadata": {},
     "output_type": "display_data"
    },
    {
     "data": {
      "text/html": [
       "<pre>| 9         | 25000    | 7114852980...| 0.757960          |                     | 834.789978      |</pre>"
      ],
      "text/plain": [
       "| 9         | 25000    | 7114852980...| 0.757960          |                     | 834.789978      |"
      ]
     },
     "metadata": {},
     "output_type": "display_data"
    },
    {
     "data": {
      "text/html": [
       "<pre>| 9         | 33200    | 7114852990...| 0.759428          |                     | 819.918762      |</pre>"
      ],
      "text/plain": [
       "| 9         | 33200    | 7114852990...| 0.759428          |                     | 819.918762      |"
      ]
     },
     "metadata": {},
     "output_type": "display_data"
    },
    {
     "data": {
      "text/html": [
       "<pre>| 9         | 41300    | 7114853000...| 0.759661          |                     | 805.544739      |</pre>"
      ],
      "text/plain": [
       "| 9         | 41300    | 7114853000...| 0.759661          |                     | 805.544739      |"
      ]
     },
     "metadata": {},
     "output_type": "display_data"
    },
    {
     "data": {
      "text/html": [
       "<pre>| 9         | 49100    | 7114853022...| 0.759939          | 0.796433            | 349.630188      |</pre>"
      ],
      "text/plain": [
       "| 9         | 49100    | 7114853022...| 0.759939          | 0.796433            | 349.630188      |"
      ]
     },
     "metadata": {},
     "output_type": "display_data"
    },
    {
     "data": {
      "text/html": [
       "<pre>| 10        | 8400     | 7114853032...| 0.759643          |                     | 835.867432      |</pre>"
      ],
      "text/plain": [
       "| 10        | 8400     | 7114853032...| 0.759643          |                     | 835.867432      |"
      ]
     },
     "metadata": {},
     "output_type": "display_data"
    },
    {
     "data": {
      "text/html": [
       "<pre>| 10        | 16800    | 7114853042...| 0.762798          |                     | 837.588135      |</pre>"
      ],
      "text/plain": [
       "| 10        | 16800    | 7114853042...| 0.762798          |                     | 837.588135      |"
      ]
     },
     "metadata": {},
     "output_type": "display_data"
    },
    {
     "data": {
      "text/html": [
       "<pre>| 10        | 25200    | 7114853052...| 0.760992          |                     | 838.149780      |</pre>"
      ],
      "text/plain": [
       "| 10        | 25200    | 7114853052...| 0.760992          |                     | 838.149780      |"
      ]
     },
     "metadata": {},
     "output_type": "display_data"
    },
    {
     "data": {
      "text/html": [
       "<pre>| 10        | 33600    | 7114853062...| 0.763036          |                     | 834.862000      |</pre>"
      ],
      "text/plain": [
       "| 10        | 33600    | 7114853062...| 0.763036          |                     | 834.862000      |"
      ]
     },
     "metadata": {},
     "output_type": "display_data"
    },
    {
     "data": {
      "text/html": [
       "<pre>| 10        | 42000    | 7114853073...| 0.765119          |                     | 832.429993      |</pre>"
      ],
      "text/plain": [
       "| 10        | 42000    | 7114853073...| 0.765119          |                     | 832.429993      |"
      ]
     },
     "metadata": {},
     "output_type": "display_data"
    },
    {
     "data": {
      "text/html": [
       "<pre>| 10        | 49100    | 7114853094...| 0.764644          | 0.804047            | 330.440613      |</pre>"
      ],
      "text/plain": [
       "| 10        | 49100    | 7114853094...| 0.764644          | 0.804047            | 330.440613      |"
      ]
     },
     "metadata": {},
     "output_type": "display_data"
    },
    {
     "data": {
      "text/html": [
       "<pre>| 11        | 8400     | 7114853104...| 0.771309          |                     | 833.033325      |</pre>"
      ],
      "text/plain": [
       "| 11        | 8400     | 7114853104...| 0.771309          |                     | 833.033325      |"
      ]
     },
     "metadata": {},
     "output_type": "display_data"
    },
    {
     "data": {
      "text/html": [
       "<pre>| 11        | 16800    | 7114853114...| 0.771012          |                     | 836.257507      |</pre>"
      ],
      "text/plain": [
       "| 11        | 16800    | 7114853114...| 0.771012          |                     | 836.257507      |"
      ]
     },
     "metadata": {},
     "output_type": "display_data"
    },
    {
     "data": {
      "text/html": [
       "<pre>| 11        | 25200    | 7114853124...| 0.769643          |                     | 834.452881      |</pre>"
      ],
      "text/plain": [
       "| 11        | 25200    | 7114853124...| 0.769643          |                     | 834.452881      |"
      ]
     },
     "metadata": {},
     "output_type": "display_data"
    },
    {
     "data": {
      "text/html": [
       "<pre>| 11        | 33400    | 7114853134...| 0.770748          |                     | 814.353516      |</pre>"
      ],
      "text/plain": [
       "| 11        | 33400    | 7114853134...| 0.770748          |                     | 814.353516      |"
      ]
     },
     "metadata": {},
     "output_type": "display_data"
    },
    {
     "data": {
      "text/html": [
       "<pre>| 11        | 41700    | 7114853144...| 0.772398          |                     | 827.876343      |</pre>"
      ],
      "text/plain": [
       "| 11        | 41700    | 7114853144...| 0.772398          |                     | 827.876343      |"
      ]
     },
     "metadata": {},
     "output_type": "display_data"
    },
    {
     "data": {
      "text/html": [
       "<pre>| 11        | 49100    | 7114852793...| 0.772098          | 0.812942            | -21.075436      |</pre>"
      ],
      "text/plain": [
       "| 11        | 49100    | 7114852793...| 0.772098          | 0.812942            | -21.075436      |"
      ]
     },
     "metadata": {},
     "output_type": "display_data"
    },
    {
     "data": {
      "text/html": [
       "<pre>| 12        | 8300     | 7114852803...| 0.769277          |                     | 828.261353      |</pre>"
      ],
      "text/plain": [
       "| 12        | 8300     | 7114852803...| 0.769277          |                     | 828.261353      |"
      ]
     },
     "metadata": {},
     "output_type": "display_data"
    },
    {
     "data": {
      "text/html": [
       "<pre>| 12        | 16700    | 7114852813...| 0.775748          |                     | 838.350342      |</pre>"
      ],
      "text/plain": [
       "| 12        | 16700    | 7114852813...| 0.775748          |                     | 838.350342      |"
      ]
     },
     "metadata": {},
     "output_type": "display_data"
    },
    {
     "data": {
      "text/html": [
       "<pre>| 12        | 25100    | 7114852823...| 0.776892          |                     | 839.485046      |</pre>"
      ],
      "text/plain": [
       "| 12        | 25100    | 7114852823...| 0.776892          |                     | 839.485046      |"
      ]
     },
     "metadata": {},
     "output_type": "display_data"
    },
    {
     "data": {
      "text/html": [
       "<pre>| 12        | 32500    | 7114852833...| 0.776677          |                     | 730.142273      |</pre>"
      ],
      "text/plain": [
       "| 12        | 32500    | 7114852833...| 0.776677          |                     | 730.142273      |"
      ]
     },
     "metadata": {},
     "output_type": "display_data"
    },
    {
     "data": {
      "text/html": [
       "<pre>| 12        | 40100    | 7114852844...| 0.778229          |                     | 752.010193      |</pre>"
      ],
      "text/plain": [
       "| 12        | 40100    | 7114852844...| 0.778229          |                     | 752.010193      |"
      ]
     },
     "metadata": {},
     "output_type": "display_data"
    },
    {
     "data": {
      "text/html": [
       "<pre>| 12        | 47800    | 7114852854...| 0.778431          |                     | 766.558594      |</pre>"
      ],
      "text/plain": [
       "| 12        | 47800    | 7114852854...| 0.778431          |                     | 766.558594      |"
      ]
     },
     "metadata": {},
     "output_type": "display_data"
    },
    {
     "data": {
      "text/html": [
       "<pre>| 12        | 49100    | 7114852868...| 0.777963          | 0.816625            | 88.511589       |</pre>"
      ],
      "text/plain": [
       "| 12        | 49100    | 7114852868...| 0.777963          | 0.816625            | 88.511589       |"
      ]
     },
     "metadata": {},
     "output_type": "display_data"
    },
    {
     "data": {
      "text/html": [
       "<pre>| 13        | 8400     | 7114852878...| 0.764286          |                     | 834.724854      |</pre>"
      ],
      "text/plain": [
       "| 13        | 8400     | 7114852878...| 0.764286          |                     | 834.724854      |"
      ]
     },
     "metadata": {},
     "output_type": "display_data"
    },
    {
     "data": {
      "text/html": [
       "<pre>| 13        | 16100    | 7114852888...| 0.770124          |                     | 763.886658      |</pre>"
      ],
      "text/plain": [
       "| 13        | 16100    | 7114852888...| 0.770124          |                     | 763.886658      |"
      ]
     },
     "metadata": {},
     "output_type": "display_data"
    },
    {
     "data": {
      "text/html": [
       "<pre>| 13        | 24300    | 7114852898...| 0.771440          |                     | 816.750427      |</pre>"
      ],
      "text/plain": [
       "| 13        | 24300    | 7114852898...| 0.771440          |                     | 816.750427      |"
      ]
     },
     "metadata": {},
     "output_type": "display_data"
    },
    {
     "data": {
      "text/html": [
       "<pre>| 13        | 32700    | 7114852909...| 0.774251          |                     | 832.300659      |</pre>"
      ],
      "text/plain": [
       "| 13        | 32700    | 7114852909...| 0.774251          |                     | 832.300659      |"
      ]
     },
     "metadata": {},
     "output_type": "display_data"
    },
    {
     "data": {
      "text/html": [
       "<pre>| 13        | 41100    | 7114852919...| 0.777762          |                     | 832.576721      |</pre>"
      ],
      "text/plain": [
       "| 13        | 41100    | 7114852919...| 0.777762          |                     | 832.576721      |"
      ]
     },
     "metadata": {},
     "output_type": "display_data"
    },
    {
     "data": {
      "text/html": [
       "<pre>| 13        | 48600    | 7114852929...| 0.777798          |                     | 744.856750      |</pre>"
      ],
      "text/plain": [
       "| 13        | 48600    | 7114852929...| 0.777798          |                     | 744.856750      |"
      ]
     },
     "metadata": {},
     "output_type": "display_data"
    },
    {
     "data": {
      "text/html": [
       "<pre>| 13        | 49100    | 7114852942...| 0.777984          | 0.823121            | 36.532879       |</pre>"
      ],
      "text/plain": [
       "| 13        | 49100    | 7114852942...| 0.777984          | 0.823121            | 36.532879       |"
      ]
     },
     "metadata": {},
     "output_type": "display_data"
    },
    {
     "data": {
      "text/html": [
       "<pre>| 14        | 8200     | 7114852952...| 0.778537          |                     | 817.944458      |</pre>"
      ],
      "text/plain": [
       "| 14        | 8200     | 7114852952...| 0.778537          |                     | 817.944458      |"
      ]
     },
     "metadata": {},
     "output_type": "display_data"
    },
    {
     "data": {
      "text/html": [
       "<pre>| 14        | 16400    | 7114852962...| 0.781463          |                     | 819.040894      |</pre>"
      ],
      "text/plain": [
       "| 14        | 16400    | 7114852962...| 0.781463          |                     | 819.040894      |"
      ]
     },
     "metadata": {},
     "output_type": "display_data"
    },
    {
     "data": {
      "text/html": [
       "<pre>| 14        | 24700    | 7114852972...| 0.780324          |                     | 829.757202      |</pre>"
      ],
      "text/plain": [
       "| 14        | 24700    | 7114852972...| 0.780324          |                     | 829.757202      |"
      ]
     },
     "metadata": {},
     "output_type": "display_data"
    },
    {
     "data": {
      "text/html": [
       "<pre>| 14        | 33100    | 7114852982...| 0.780786          |                     | 833.857666      |</pre>"
      ],
      "text/plain": [
       "| 14        | 33100    | 7114852982...| 0.780786          |                     | 833.857666      |"
      ]
     },
     "metadata": {},
     "output_type": "display_data"
    },
    {
     "data": {
      "text/html": [
       "<pre>| 14        | 41400    | 7114852993...| 0.783092          |                     | 821.562683      |</pre>"
      ],
      "text/plain": [
       "| 14        | 41400    | 7114852993...| 0.783092          |                     | 821.562683      |"
      ]
     },
     "metadata": {},
     "output_type": "display_data"
    },
    {
     "data": {
      "text/html": [
       "<pre>| 14        | 49100    | 7114853015...| 0.783768          | 0.823452            | 344.643280      |</pre>"
      ],
      "text/plain": [
       "| 14        | 49100    | 7114853015...| 0.783768          | 0.823452            | 344.643280      |"
      ]
     },
     "metadata": {},
     "output_type": "display_data"
    },
    {
     "data": {
      "text/html": [
       "<pre>| 15        | 8400     | 7114853025...| 0.780476          |                     | 830.896484      |</pre>"
      ],
      "text/plain": [
       "| 15        | 8400     | 7114853025...| 0.780476          |                     | 830.896484      |"
      ]
     },
     "metadata": {},
     "output_type": "display_data"
    },
    {
     "data": {
      "text/html": [
       "<pre>| 15        | 16800    | 7114853035...| 0.786250          |                     | 833.470764      |</pre>"
      ],
      "text/plain": [
       "| 15        | 16800    | 7114853035...| 0.786250          |                     | 833.470764      |"
      ]
     },
     "metadata": {},
     "output_type": "display_data"
    },
    {
     "data": {
      "text/html": [
       "<pre>| 15        | 25100    | 7114853045...| 0.785418          |                     | 827.989502      |</pre>"
      ],
      "text/plain": [
       "| 15        | 25100    | 7114853045...| 0.785418          |                     | 827.989502      |"
      ]
     },
     "metadata": {},
     "output_type": "display_data"
    },
    {
     "data": {
      "text/html": [
       "<pre>| 15        | 33500    | 7114853055...| 0.783701          |                     | 831.880066      |</pre>"
      ],
      "text/plain": [
       "| 15        | 33500    | 7114853055...| 0.783701          |                     | 831.880066      |"
      ]
     },
     "metadata": {},
     "output_type": "display_data"
    },
    {
     "data": {
      "text/html": [
       "<pre>| 15        | 41900    | 7114853065...| 0.785656          |                     | 829.226990      |</pre>"
      ],
      "text/plain": [
       "| 15        | 41900    | 7114853065...| 0.785656          |                     | 829.226990      |"
      ]
     },
     "metadata": {},
     "output_type": "display_data"
    },
    {
     "data": {
      "text/html": [
       "<pre>| 15        | 49100    | 7114853088...| 0.785479          | 0.819645            | 324.743927      |</pre>"
      ],
      "text/plain": [
       "| 15        | 49100    | 7114853088...| 0.785479          | 0.819645            | 324.743927      |"
      ]
     },
     "metadata": {},
     "output_type": "display_data"
    },
    {
     "data": {
      "text/html": [
       "<pre>| 16        | 7400     | 7114853098...| 0.785676          |                     | 734.619568      |</pre>"
      ],
      "text/plain": [
       "| 16        | 7400     | 7114853098...| 0.785676          |                     | 734.619568      |"
      ]
     },
     "metadata": {},
     "output_type": "display_data"
    },
    {
     "data": {
      "text/html": [
       "<pre>| 16        | 15000    | 7114853108...| 0.787067          |                     | 759.677673      |</pre>"
      ],
      "text/plain": [
       "| 16        | 15000    | 7114853108...| 0.787067          |                     | 759.677673      |"
      ]
     },
     "metadata": {},
     "output_type": "display_data"
    },
    {
     "data": {
      "text/html": [
       "<pre>| 16        | 23400    | 7114853118...| 0.787393          |                     | 836.801697      |</pre>"
      ],
      "text/plain": [
       "| 16        | 23400    | 7114853118...| 0.787393          |                     | 836.801697      |"
      ]
     },
     "metadata": {},
     "output_type": "display_data"
    },
    {
     "data": {
      "text/html": [
       "<pre>| 16        | 31800    | 7114853128...| 0.788050          |                     | 832.483765      |</pre>"
      ],
      "text/plain": [
       "| 16        | 31800    | 7114853128...| 0.788050          |                     | 832.483765      |"
      ]
     },
     "metadata": {},
     "output_type": "display_data"
    },
    {
     "data": {
      "text/html": [
       "<pre>| 16        | 40000    | 7114853138...| 0.789800          |                     | 812.073547      |</pre>"
      ],
      "text/plain": [
       "| 16        | 40000    | 7114853138...| 0.789800          |                     | 812.073547      |"
      ]
     },
     "metadata": {},
     "output_type": "display_data"
    },
    {
     "data": {
      "text/html": [
       "<pre>| 16        | 48100    | 7114853148...| 0.790104          |                     | 808.668884      |</pre>"
      ],
      "text/plain": [
       "| 16        | 48100    | 7114853148...| 0.790104          |                     | 808.668884      |"
      ]
     },
     "metadata": {},
     "output_type": "display_data"
    },
    {
     "data": {
      "text/html": [
       "<pre>| 16        | 49100    | 7114853162...| 0.790489          | 0.830734            | 71.293297       |</pre>"
      ],
      "text/plain": [
       "| 16        | 49100    | 7114853162...| 0.790489          | 0.830734            | 71.293297       |"
      ]
     },
     "metadata": {},
     "output_type": "display_data"
    },
    {
     "data": {
      "text/html": [
       "<pre>| 17        | 8100     | 7114853172...| 0.792099          |                     | 809.018311      |</pre>"
      ],
      "text/plain": [
       "| 17        | 8100     | 7114853172...| 0.792099          |                     | 809.018311      |"
      ]
     },
     "metadata": {},
     "output_type": "display_data"
    },
    {
     "data": {
      "text/html": [
       "<pre>| 17        | 16200    | 7114853182...| 0.795494          |                     | 802.283997      |</pre>"
      ],
      "text/plain": [
       "| 17        | 16200    | 7114853182...| 0.795494          |                     | 802.283997      |"
      ]
     },
     "metadata": {},
     "output_type": "display_data"
    },
    {
     "data": {
      "text/html": [
       "<pre>| 17        | 24600    | 7114853192...| 0.790244          |                     | 837.925964      |</pre>"
      ],
      "text/plain": [
       "| 17        | 24600    | 7114853192...| 0.790244          |                     | 837.925964      |"
      ]
     },
     "metadata": {},
     "output_type": "display_data"
    },
    {
     "data": {
      "text/html": [
       "<pre>| 17        | 32900    | 7114853202...| 0.791033          |                     | 826.153564      |</pre>"
      ],
      "text/plain": [
       "| 17        | 32900    | 7114853202...| 0.791033          |                     | 826.153564      |"
      ]
     },
     "metadata": {},
     "output_type": "display_data"
    },
    {
     "data": {
      "text/html": [
       "<pre>| 17        | 40900    | 7114853212...| 0.792298          |                     | 796.785217      |</pre>"
      ],
      "text/plain": [
       "| 17        | 40900    | 7114853212...| 0.792298          |                     | 796.785217      |"
      ]
     },
     "metadata": {},
     "output_type": "display_data"
    },
    {
     "data": {
      "text/html": [
       "<pre>| 17        | 49100    | 5.530346     | 0.792648          | 0.833671            | -0.000001       |</pre>"
      ],
      "text/plain": [
       "| 17        | 49100    | 5.530346     | 0.792648          | 0.833671            | -0.000001       |"
      ]
     },
     "metadata": {},
     "output_type": "display_data"
    },
    {
     "data": {
      "text/html": [
       "<pre>| 18        | 8400     | 15.623792    | 0.797619          |                     | 832.303589      |</pre>"
      ],
      "text/plain": [
       "| 18        | 8400     | 15.623792    | 0.797619          |                     | 832.303589      |"
      ]
     },
     "metadata": {},
     "output_type": "display_data"
    },
    {
     "data": {
      "text/html": [
       "<pre>| 18        | 16700    | 25.714138    | 0.798862          |                     | 822.568420      |</pre>"
      ],
      "text/plain": [
       "| 18        | 16700    | 25.714138    | 0.798862          |                     | 822.568420      |"
      ]
     },
     "metadata": {},
     "output_type": "display_data"
    },
    {
     "data": {
      "text/html": [
       "<pre>| 18        | 24400    | 35.803126    | 0.795328          |                     | 763.208374      |</pre>"
      ],
      "text/plain": [
       "| 18        | 24400    | 35.803126    | 0.795328          |                     | 763.208374      |"
      ]
     },
     "metadata": {},
     "output_type": "display_data"
    },
    {
     "data": {
      "text/html": [
       "<pre>| 18        | 32200    | 45.827489    | 0.795217          |                     | 778.104370      |</pre>"
      ],
      "text/plain": [
       "| 18        | 32200    | 45.827489    | 0.795217          |                     | 778.104370      |"
      ]
     },
     "metadata": {},
     "output_type": "display_data"
    },
    {
     "data": {
      "text/html": [
       "<pre>| 18        | 40600    | 55.847354    | 0.796429          |                     | 838.336182      |</pre>"
      ],
      "text/plain": [
       "| 18        | 40600    | 55.847354    | 0.796429          |                     | 838.336182      |"
      ]
     },
     "metadata": {},
     "output_type": "display_data"
    },
    {
     "data": {
      "text/html": [
       "<pre>| 18        | 49000    | 65.891386    | 0.796490          |                     | 836.315979      |</pre>"
      ],
      "text/plain": [
       "| 18        | 49000    | 65.891386    | 0.796490          |                     | 836.315979      |"
      ]
     },
     "metadata": {},
     "output_type": "display_data"
    },
    {
     "data": {
      "text/html": [
       "<pre>| 18        | 49100    | 78.948857    | 0.796354          | 0.835078            | 7.658450        |</pre>"
      ],
      "text/plain": [
       "| 18        | 49100    | 78.948857    | 0.796354          | 0.835078            | 7.658450        |"
      ]
     },
     "metadata": {},
     "output_type": "display_data"
    },
    {
     "data": {
      "text/html": [
       "<pre>| 19        | 8300     | 88.949472    | 0.795422          |                     | 829.958313      |</pre>"
      ],
      "text/plain": [
       "| 19        | 8300     | 88.949472    | 0.795422          |                     | 829.958313      |"
      ]
     },
     "metadata": {},
     "output_type": "display_data"
    },
    {
     "data": {
      "text/html": [
       "<pre>| 19        | 16500    | 99.028418    | 0.798849          |                     | 813.578735      |</pre>"
      ],
      "text/plain": [
       "| 19        | 16500    | 99.028418    | 0.798849          |                     | 813.578735      |"
      ]
     },
     "metadata": {},
     "output_type": "display_data"
    },
    {
     "data": {
      "text/html": [
       "<pre>| 19        | 24900    | 109.042024   | 0.797550          |                     | 838.856995      |</pre>"
      ],
      "text/plain": [
       "| 19        | 24900    | 109.042024   | 0.797550          |                     | 838.856995      |"
      ]
     },
     "metadata": {},
     "output_type": "display_data"
    },
    {
     "data": {
      "text/html": [
       "<pre>| 19        | 33300    | 119.073709   | 0.797898          |                     | 837.346924      |</pre>"
      ],
      "text/plain": [
       "| 19        | 33300    | 119.073709   | 0.797898          |                     | 837.346924      |"
      ]
     },
     "metadata": {},
     "output_type": "display_data"
    },
    {
     "data": {
      "text/html": [
       "<pre>| 19        | 41700    | 129.097510   | 0.798801          |                     | 838.005432      |</pre>"
      ],
      "text/plain": [
       "| 19        | 41700    | 129.097510   | 0.798801          |                     | 838.005432      |"
      ]
     },
     "metadata": {},
     "output_type": "display_data"
    },
    {
     "data": {
      "text/html": [
       "<pre>| 19        | 49100    | 151.399417   | 0.799124          | 0.834747            | 331.810150      |</pre>"
      ],
      "text/plain": [
       "| 19        | 49100    | 151.399417   | 0.799124          | 0.834747            | 331.810150      |"
      ]
     },
     "metadata": {},
     "output_type": "display_data"
    },
    {
     "data": {
      "text/html": [
       "<pre>| 20        | 8400     | 161.417955   | 0.796310          |                     | 838.540771      |</pre>"
      ],
      "text/plain": [
       "| 20        | 8400     | 161.417955   | 0.796310          |                     | 838.540771      |"
      ]
     },
     "metadata": {},
     "output_type": "display_data"
    },
    {
     "data": {
      "text/html": [
       "<pre>| 20        | 16700    | 171.456558   | 0.799880          |                     | 826.808228      |</pre>"
      ],
      "text/plain": [
       "| 20        | 16700    | 171.456558   | 0.799880          |                     | 826.808228      |"
      ]
     },
     "metadata": {},
     "output_type": "display_data"
    },
    {
     "data": {
      "text/html": [
       "<pre>| 20        | 25100    | 181.536629   | 0.799562          |                     | 833.327515      |</pre>"
      ],
      "text/plain": [
       "| 20        | 25100    | 181.536629   | 0.799562          |                     | 833.327515      |"
      ]
     },
     "metadata": {},
     "output_type": "display_data"
    },
    {
     "data": {
      "text/html": [
       "<pre>| 20        | 33500    | 191.625008   | 0.800537          |                     | 832.641174      |</pre>"
      ],
      "text/plain": [
       "| 20        | 33500    | 191.625008   | 0.800537          |                     | 832.641174      |"
      ]
     },
     "metadata": {},
     "output_type": "display_data"
    },
    {
     "data": {
      "text/html": [
       "<pre>| 20        | 41800    | 201.630082   | 0.802057          |                     | 829.579102      |</pre>"
      ],
      "text/plain": [
       "| 20        | 41800    | 201.630082   | 0.802057          |                     | 829.579102      |"
      ]
     },
     "metadata": {},
     "output_type": "display_data"
    },
    {
     "data": {
      "text/html": [
       "<pre>| 20        | 49100    | 223.324491   | 0.802016          | 0.832016            | 336.492188      |</pre>"
      ],
      "text/plain": [
       "| 20        | 49100    | 223.324491   | 0.802016          | 0.832016            | 336.492188      |"
      ]
     },
     "metadata": {},
     "output_type": "display_data"
    },
    {
     "data": {
      "text/html": [
       "<pre>| 21        | 8400     | 233.370671   | 0.799524          |                     | 836.215271      |</pre>"
      ],
      "text/plain": [
       "| 21        | 8400     | 233.370671   | 0.799524          |                     | 836.215271      |"
      ]
     },
     "metadata": {},
     "output_type": "display_data"
    },
    {
     "data": {
      "text/html": [
       "<pre>| 21        | 16100    | 243.436173   | 0.800807          |                     | 764.990662      |</pre>"
      ],
      "text/plain": [
       "| 21        | 16100    | 243.436173   | 0.800807          |                     | 764.990662      |"
      ]
     },
     "metadata": {},
     "output_type": "display_data"
    },
    {
     "data": {
      "text/html": [
       "<pre>| 21        | 24400    | 253.552133   | 0.798484          |                     | 820.484131      |</pre>"
      ],
      "text/plain": [
       "| 21        | 24400    | 253.552133   | 0.798484          |                     | 820.484131      |"
      ]
     },
     "metadata": {},
     "output_type": "display_data"
    },
    {
     "data": {
      "text/html": [
       "<pre>| 21        | 32700    | 263.599409   | 0.798838          |                     | 826.094482      |</pre>"
      ],
      "text/plain": [
       "| 21        | 32700    | 263.599409   | 0.798838          |                     | 826.094482      |"
      ]
     },
     "metadata": {},
     "output_type": "display_data"
    },
    {
     "data": {
      "text/html": [
       "<pre>| 21        | 41000    | 273.699703   | 0.800561          |                     | 821.758301      |</pre>"
      ],
      "text/plain": [
       "| 21        | 41000    | 273.699703   | 0.800561          |                     | 821.758301      |"
      ]
     },
     "metadata": {},
     "output_type": "display_data"
    },
    {
     "data": {
      "text/html": [
       "<pre>| 21        | 49100    | 296.309581   | 0.800876          | 0.841988            | 358.250458      |</pre>"
      ],
      "text/plain": [
       "| 21        | 49100    | 296.309581   | 0.800876          | 0.841988            | 358.250458      |"
      ]
     },
     "metadata": {},
     "output_type": "display_data"
    },
    {
     "data": {
      "text/html": [
       "<pre>| 22        | 8400     | 306.321058   | 0.801905          |                     | 839.111938      |</pre>"
      ],
      "text/plain": [
       "| 22        | 8400     | 306.321058   | 0.801905          |                     | 839.111938      |"
      ]
     },
     "metadata": {},
     "output_type": "display_data"
    },
    {
     "data": {
      "text/html": [
       "<pre>| 22        | 16500    | 316.393893   | 0.803273          |                     | 804.143372      |</pre>"
      ],
      "text/plain": [
       "| 22        | 16500    | 316.393893   | 0.803273          |                     | 804.143372      |"
      ]
     },
     "metadata": {},
     "output_type": "display_data"
    },
    {
     "data": {
      "text/html": [
       "<pre>| 22        | 23800    | 326.457550   | 0.801555          |                     | 725.382019      |</pre>"
      ],
      "text/plain": [
       "| 22        | 23800    | 326.457550   | 0.801555          |                     | 725.382019      |"
      ]
     },
     "metadata": {},
     "output_type": "display_data"
    },
    {
     "data": {
      "text/html": [
       "<pre>| 22        | 32000    | 336.492497   | 0.801219          |                     | 817.144409      |</pre>"
      ],
      "text/plain": [
       "| 22        | 32000    | 336.492497   | 0.801219          |                     | 817.144409      |"
      ]
     },
     "metadata": {},
     "output_type": "display_data"
    },
    {
     "data": {
      "text/html": [
       "<pre>| 22        | 40400    | 346.505645   | 0.802302          |                     | 838.896973      |</pre>"
      ],
      "text/plain": [
       "| 22        | 40400    | 346.505645   | 0.802302          |                     | 838.896973      |"
      ]
     },
     "metadata": {},
     "output_type": "display_data"
    },
    {
     "data": {
      "text/html": [
       "<pre>| 22        | 48800    | 356.548031   | 0.802971          |                     | 836.454590      |</pre>"
      ],
      "text/plain": [
       "| 22        | 48800    | 356.548031   | 0.802971          |                     | 836.454590      |"
      ]
     },
     "metadata": {},
     "output_type": "display_data"
    },
    {
     "data": {
      "text/html": [
       "<pre>| 22        | 49100    | 370.005750   | 0.803055          | 0.835823            | 22.292038       |</pre>"
      ],
      "text/plain": [
       "| 22        | 49100    | 370.005750   | 0.803055          | 0.835823            | 22.292038       |"
      ]
     },
     "metadata": {},
     "output_type": "display_data"
    },
    {
     "data": {
      "text/html": [
       "<pre>| 23        | 8000     | 380.111162   | 0.805875          |                     | 791.663757      |</pre>"
      ],
      "text/plain": [
       "| 23        | 8000     | 380.111162   | 0.805875          |                     | 791.663757      |"
      ]
     },
     "metadata": {},
     "output_type": "display_data"
    },
    {
     "data": {
      "text/html": [
       "<pre>| 23        | 16200    | 390.147227   | 0.809074          |                     | 817.054810      |</pre>"
      ],
      "text/plain": [
       "| 23        | 16200    | 390.147227   | 0.809074          |                     | 817.054810      |"
      ]
     },
     "metadata": {},
     "output_type": "display_data"
    },
    {
     "data": {
      "text/html": [
       "<pre>| 23        | 24600    | 400.264638   | 0.806341          |                     | 830.250305      |</pre>"
      ],
      "text/plain": [
       "| 23        | 24600    | 400.264638   | 0.806341          |                     | 830.250305      |"
      ]
     },
     "metadata": {},
     "output_type": "display_data"
    },
    {
     "data": {
      "text/html": [
       "<pre>| 23        | 33000    | 410.302272   | 0.806545          |                     | 836.850647      |</pre>"
      ],
      "text/plain": [
       "| 23        | 33000    | 410.302272   | 0.806545          |                     | 836.850647      |"
      ]
     },
     "metadata": {},
     "output_type": "display_data"
    },
    {
     "data": {
      "text/html": [
       "<pre>| 23        | 41400    | 420.345041   | 0.807585          |                     | 836.424316      |</pre>"
      ],
      "text/plain": [
       "| 23        | 41400    | 420.345041   | 0.807585          |                     | 836.424316      |"
      ]
     },
     "metadata": {},
     "output_type": "display_data"
    },
    {
     "data": {
      "text/html": [
       "<pre>| 23        | 49100    | 443.518552   | 0.808106          | 0.832802            | 332.275635      |</pre>"
      ],
      "text/plain": [
       "| 23        | 49100    | 443.518552   | 0.808106          | 0.832802            | 332.275635      |"
      ]
     },
     "metadata": {},
     "output_type": "display_data"
    },
    {
     "data": {
      "text/html": [
       "<pre>| 24        | 8400     | 453.571015   | 0.800714          |                     | 835.627136      |</pre>"
      ],
      "text/plain": [
       "| 24        | 8400     | 453.571015   | 0.800714          |                     | 835.627136      |"
      ]
     },
     "metadata": {},
     "output_type": "display_data"
    },
    {
     "data": {
      "text/html": [
       "<pre>| 24        | 16800    | 463.580638   | 0.807321          |                     | 839.190796      |</pre>"
      ],
      "text/plain": [
       "| 24        | 16800    | 463.580638   | 0.807321          |                     | 839.190796      |"
      ]
     },
     "metadata": {},
     "output_type": "display_data"
    },
    {
     "data": {
      "text/html": [
       "<pre>| 24        | 25200    | 473.672326   | 0.805079          |                     | 832.368164      |</pre>"
      ],
      "text/plain": [
       "| 24        | 25200    | 473.672326   | 0.805079          |                     | 832.368164      |"
      ]
     },
     "metadata": {},
     "output_type": "display_data"
    },
    {
     "data": {
      "text/html": [
       "<pre>| 24        | 33600    | 483.704639   | 0.805089          |                     | 837.296021      |</pre>"
      ],
      "text/plain": [
       "| 24        | 33600    | 483.704639   | 0.805089          |                     | 837.296021      |"
      ]
     },
     "metadata": {},
     "output_type": "display_data"
    },
    {
     "data": {
      "text/html": [
       "<pre>| 24        | 41800    | 493.787813   | 0.806483          |                     | 813.234558      |</pre>"
      ],
      "text/plain": [
       "| 24        | 41800    | 493.787813   | 0.806483          |                     | 813.234558      |"
      ]
     },
     "metadata": {},
     "output_type": "display_data"
    },
    {
     "data": {
      "text/html": [
       "<pre>| 24        | 49100    | 516.072514   | 0.806253          | 0.838967            | 327.578949      |</pre>"
      ],
      "text/plain": [
       "| 24        | 49100    | 516.072514   | 0.806253          | 0.838967            | 327.578949      |"
      ]
     },
     "metadata": {},
     "output_type": "display_data"
    },
    {
     "data": {
      "text/html": [
       "<pre>| 25        | 8300     | 526.196485   | 0.801566          |                     | 819.908386      |</pre>"
      ],
      "text/plain": [
       "| 25        | 8300     | 526.196485   | 0.801566          |                     | 819.908386      |"
      ]
     },
     "metadata": {},
     "output_type": "display_data"
    },
    {
     "data": {
      "text/html": [
       "<pre>| 25        | 16600    | 536.214787   | 0.809940          |                     | 828.483704      |</pre>"
      ],
      "text/plain": [
       "| 25        | 16600    | 536.214787   | 0.809940          |                     | 828.483704      |"
      ]
     },
     "metadata": {},
     "output_type": "display_data"
    },
    {
     "data": {
      "text/html": [
       "<pre>| 25        | 24900    | 546.281203   | 0.809036          |                     | 824.525269      |</pre>"
      ],
      "text/plain": [
       "| 25        | 24900    | 546.281203   | 0.809036          |                     | 824.525269      |"
      ]
     },
     "metadata": {},
     "output_type": "display_data"
    },
    {
     "data": {
      "text/html": [
       "<pre>| 25        | 33300    | 556.297791   | 0.808979          |                     | 838.607422      |</pre>"
      ],
      "text/plain": [
       "| 25        | 33300    | 556.297791   | 0.808979          |                     | 838.607422      |"
      ]
     },
     "metadata": {},
     "output_type": "display_data"
    },
    {
     "data": {
      "text/html": [
       "<pre>| 25        | 41700    | 566.340468   | 0.808321          |                     | 836.431885      |</pre>"
      ],
      "text/plain": [
       "| 25        | 41700    | 566.340468   | 0.808321          |                     | 836.431885      |"
      ]
     },
     "metadata": {},
     "output_type": "display_data"
    },
    {
     "data": {
      "text/html": [
       "<pre>| 25        | 49100    | 587.967243   | 0.807536          | 0.842567            | 342.168121      |</pre>"
      ],
      "text/plain": [
       "| 25        | 49100    | 587.967243   | 0.807536          | 0.842567            | 342.168121      |"
      ]
     },
     "metadata": {},
     "output_type": "display_data"
    },
    {
     "data": {
      "text/html": [
       "<pre>| 26        | 8400     | 597.993322   | 0.805000          |                     | 837.827026      |</pre>"
      ],
      "text/plain": [
       "| 26        | 8400     | 597.993322   | 0.805000          |                     | 837.827026      |"
      ]
     },
     "metadata": {},
     "output_type": "display_data"
    },
    {
     "data": {
      "text/html": [
       "<pre>| 26        | 16900    | 608.108512   | 0.807929          |                     | 840.322021      |</pre>"
      ],
      "text/plain": [
       "| 26        | 16900    | 608.108512   | 0.807929          |                     | 840.322021      |"
      ]
     },
     "metadata": {},
     "output_type": "display_data"
    },
    {
     "data": {
      "text/html": [
       "<pre>| 26        | 25300    | 618.187878   | 0.807194          |                     | 833.384094      |</pre>"
      ],
      "text/plain": [
       "| 26        | 25300    | 618.187878   | 0.807194          |                     | 833.384094      |"
      ]
     },
     "metadata": {},
     "output_type": "display_data"
    },
    {
     "data": {
      "text/html": [
       "<pre>| 26        | 33700    | 628.229350   | 0.807715          |                     | 836.530762      |</pre>"
      ],
      "text/plain": [
       "| 26        | 33700    | 628.229350   | 0.807715          |                     | 836.530762      |"
      ]
     },
     "metadata": {},
     "output_type": "display_data"
    },
    {
     "data": {
      "text/html": [
       "<pre>| 26        | 42100    | 638.237026   | 0.808029          |                     | 839.355713      |</pre>"
      ],
      "text/plain": [
       "| 26        | 42100    | 638.237026   | 0.808029          |                     | 839.355713      |"
      ]
     },
     "metadata": {},
     "output_type": "display_data"
    },
    {
     "data": {
      "text/html": [
       "<pre>| 26        | 49100    | 659.417081   | 0.807862          | 0.837767            | 330.499573      |</pre>"
      ],
      "text/plain": [
       "| 26        | 49100    | 659.417081   | 0.807862          | 0.837767            | 330.499573      |"
      ]
     },
     "metadata": {},
     "output_type": "display_data"
    },
    {
     "data": {
      "text/html": [
       "<pre>| 27        | 8500     | 669.525295   | 0.804941          |                     | 840.910767      |</pre>"
      ],
      "text/plain": [
       "| 27        | 8500     | 669.525295   | 0.804941          |                     | 840.910767      |"
      ]
     },
     "metadata": {},
     "output_type": "display_data"
    },
    {
     "data": {
      "text/html": [
       "<pre>| 27        | 16900    | 679.563429   | 0.808580          |                     | 836.808899      |</pre>"
      ],
      "text/plain": [
       "| 27        | 16900    | 679.563429   | 0.808580          |                     | 836.808899      |"
      ]
     },
     "metadata": {},
     "output_type": "display_data"
    },
    {
     "data": {
      "text/html": [
       "<pre>| 27        | 25300    | 689.600591   | 0.806245          |                     | 836.889893      |</pre>"
      ],
      "text/plain": [
       "| 27        | 25300    | 689.600591   | 0.806245          |                     | 836.889893      |"
      ]
     },
     "metadata": {},
     "output_type": "display_data"
    },
    {
     "data": {
      "text/html": [
       "<pre>| 27        | 33400    | 699.676072   | 0.805928          |                     | 803.930420      |</pre>"
      ],
      "text/plain": [
       "| 27        | 33400    | 699.676072   | 0.805928          |                     | 803.930420      |"
      ]
     },
     "metadata": {},
     "output_type": "display_data"
    },
    {
     "data": {
      "text/html": [
       "<pre>| 27        | 41500    | 709.757011   | 0.806988          |                     | 803.496582      |</pre>"
      ],
      "text/plain": [
       "| 27        | 41500    | 709.757011   | 0.806988          |                     | 803.496582      |"
      ]
     },
     "metadata": {},
     "output_type": "display_data"
    },
    {
     "data": {
      "text/html": [
       "<pre>| 27        | 49100    | 731.756051   | 0.807067          | 0.839712            | 345.469574      |</pre>"
      ],
      "text/plain": [
       "| 27        | 49100    | 731.756051   | 0.807067          | 0.839712            | 345.469574      |"
      ]
     },
     "metadata": {},
     "output_type": "display_data"
    },
    {
     "data": {
      "text/html": [
       "<pre>| 28        | 8500     | 741.861998   | 0.804824          |                     | 841.099609      |</pre>"
      ],
      "text/plain": [
       "| 28        | 8500     | 741.861998   | 0.804824          |                     | 841.099609      |"
      ]
     },
     "metadata": {},
     "output_type": "display_data"
    },
    {
     "data": {
      "text/html": [
       "<pre>| 28        | 16900    | 751.926452   | 0.812189          |                     | 834.618896      |</pre>"
      ],
      "text/plain": [
       "| 28        | 16900    | 751.926452   | 0.812189          |                     | 834.618896      |"
      ]
     },
     "metadata": {},
     "output_type": "display_data"
    },
    {
     "data": {
      "text/html": [
       "<pre>| 28        | 25300    | 761.936780   | 0.810277          |                     | 839.134949      |</pre>"
      ],
      "text/plain": [
       "| 28        | 25300    | 761.936780   | 0.810277          |                     | 839.134949      |"
      ]
     },
     "metadata": {},
     "output_type": "display_data"
    },
    {
     "data": {
      "text/html": [
       "<pre>| 28        | 33700    | 771.945048   | 0.809199          |                     | 839.304504      |</pre>"
      ],
      "text/plain": [
       "| 28        | 33700    | 771.945048   | 0.809199          |                     | 839.304504      |"
      ]
     },
     "metadata": {},
     "output_type": "display_data"
    },
    {
     "data": {
      "text/html": [
       "<pre>| 28        | 42100    | 781.978797   | 0.809216          |                     | 837.176208      |</pre>"
      ],
      "text/plain": [
       "| 28        | 42100    | 781.978797   | 0.809216          |                     | 837.176208      |"
      ]
     },
     "metadata": {},
     "output_type": "display_data"
    },
    {
     "data": {
      "text/html": [
       "<pre>| 28        | 49100    | 803.158291   | 0.809084          | 0.840209            | 330.508026      |</pre>"
      ],
      "text/plain": [
       "| 28        | 49100    | 803.158291   | 0.809084          | 0.840209            | 330.508026      |"
      ]
     },
     "metadata": {},
     "output_type": "display_data"
    },
    {
     "data": {
      "text/html": [
       "<pre>| 29        | 8400     | 813.253540   | 0.801548          |                     | 832.085693      |</pre>"
      ],
      "text/plain": [
       "| 29        | 8400     | 813.253540   | 0.801548          |                     | 832.085693      |"
      ]
     },
     "metadata": {},
     "output_type": "display_data"
    },
    {
     "data": {
      "text/html": [
       "<pre>| 29        | 16900    | 823.369134   | 0.809586          |                     | 840.285278      |</pre>"
      ],
      "text/plain": [
       "| 29        | 16900    | 823.369134   | 0.809586          |                     | 840.285278      |"
      ]
     },
     "metadata": {},
     "output_type": "display_data"
    },
    {
     "data": {
      "text/html": [
       "<pre>| 29        | 25400    | 833.471155   | 0.808583          |                     | 841.415710      |</pre>"
      ],
      "text/plain": [
       "| 29        | 25400    | 833.471155   | 0.808583          |                     | 841.415710      |"
      ]
     },
     "metadata": {},
     "output_type": "display_data"
    },
    {
     "data": {
      "text/html": [
       "<pre>| 29        | 33800    | 843.488261   | 0.809379          |                     | 838.565613      |</pre>"
      ],
      "text/plain": [
       "| 29        | 33800    | 843.488261   | 0.809379          |                     | 838.565613      |"
      ]
     },
     "metadata": {},
     "output_type": "display_data"
    },
    {
     "data": {
      "text/html": [
       "<pre>| 29        | 42200    | 853.566954   | 0.809455          |                     | 833.441467      |</pre>"
      ],
      "text/plain": [
       "| 29        | 42200    | 853.566954   | 0.809455          |                     | 833.441467      |"
      ]
     },
     "metadata": {},
     "output_type": "display_data"
    },
    {
     "data": {
      "text/html": [
       "<pre>| 29        | 49100    | 874.643075   | 0.810326          | 0.841326            | 327.384674      |</pre>"
      ],
      "text/plain": [
       "| 29        | 49100    | 874.643075   | 0.810326          | 0.841326            | 327.384674      |"
      ]
     },
     "metadata": {},
     "output_type": "display_data"
    },
    {
     "data": {
      "text/html": [
       "<pre>| 30        | 8400     | 884.725069   | 0.816190          |                     | 833.259338      |</pre>"
      ],
      "text/plain": [
       "| 30        | 8400     | 884.725069   | 0.816190          |                     | 833.259338      |"
      ]
     },
     "metadata": {},
     "output_type": "display_data"
    },
    {
     "data": {
      "text/html": [
       "<pre>| 30        | 16800    | 894.732437   | 0.817857          |                     | 839.381531      |</pre>"
      ],
      "text/plain": [
       "| 30        | 16800    | 894.732437   | 0.817857          |                     | 839.381531      |"
      ]
     },
     "metadata": {},
     "output_type": "display_data"
    },
    {
     "data": {
      "text/html": [
       "<pre>| 30        | 25200    | 904.752732   | 0.816389          |                     | 838.298706      |</pre>"
      ],
      "text/plain": [
       "| 30        | 25200    | 904.752732   | 0.816389          |                     | 838.298706      |"
      ]
     },
     "metadata": {},
     "output_type": "display_data"
    },
    {
     "data": {
      "text/html": [
       "<pre>| 30        | 33600    | 914.769548   | 0.813780          |                     | 838.589783      |</pre>"
      ],
      "text/plain": [
       "| 30        | 33600    | 914.769548   | 0.813780          |                     | 838.589783      |"
      ]
     },
     "metadata": {},
     "output_type": "display_data"
    },
    {
     "data": {
      "text/html": [
       "<pre>| 30        | 42100    | 924.874369   | 0.814109          |                     | 841.184204      |</pre>"
      ],
      "text/plain": [
       "| 30        | 42100    | 924.874369   | 0.814109          |                     | 841.184204      |"
      ]
     },
     "metadata": {},
     "output_type": "display_data"
    },
    {
     "data": {
      "text/html": [
       "<pre>| 30        | 49100    | 946.083434   | 0.813768          | 0.845587            | 330.047211      |</pre>"
      ],
      "text/plain": [
       "| 30        | 49100    | 946.083434   | 0.813768          | 0.845587            | 330.047211      |"
      ]
     },
     "metadata": {},
     "output_type": "display_data"
    },
    {
     "data": {
      "text/html": [
       "<pre>| 31        | 8400     | 956.105897   | 0.807024          |                     | 838.194031      |</pre>"
      ],
      "text/plain": [
       "| 31        | 8400     | 956.105897   | 0.807024          |                     | 838.194031      |"
      ]
     },
     "metadata": {},
     "output_type": "display_data"
    },
    {
     "data": {
      "text/html": [
       "<pre>| 31        | 16900    | 966.217138   | 0.811598          |                     | 840.646973      |</pre>"
      ],
      "text/plain": [
       "| 31        | 16900    | 966.217138   | 0.811598          |                     | 840.646973      |"
      ]
     },
     "metadata": {},
     "output_type": "display_data"
    },
    {
     "data": {
      "text/html": [
       "<pre>| 31        | 25300    | 976.298741   | 0.809644          |                     | 833.200806      |</pre>"
      ],
      "text/plain": [
       "| 31        | 25300    | 976.298741   | 0.809644          |                     | 833.200806      |"
      ]
     },
     "metadata": {},
     "output_type": "display_data"
    },
    {
     "data": {
      "text/html": [
       "<pre>| 31        | 33700    | 986.343773   | 0.809318          |                     | 836.234314      |</pre>"
      ],
      "text/plain": [
       "| 31        | 33700    | 986.343773   | 0.809318          |                     | 836.234314      |"
      ]
     },
     "metadata": {},
     "output_type": "display_data"
    },
    {
     "data": {
      "text/html": [
       "<pre>| 31        | 42200    | 996.457237   | 0.810213          |                     | 840.465393      |</pre>"
      ],
      "text/plain": [
       "| 31        | 42200    | 996.457237   | 0.810213          |                     | 840.465393      |"
      ]
     },
     "metadata": {},
     "output_type": "display_data"
    },
    {
     "data": {
      "text/html": [
       "<pre>| 31        | 49100    | 1017.534954  | 0.810591          | 0.842774            | 327.359589      |</pre>"
      ],
      "text/plain": [
       "| 31        | 49100    | 1017.534954  | 0.810591          | 0.842774            | 327.359589      |"
      ]
     },
     "metadata": {},
     "output_type": "display_data"
    },
    {
     "data": {
      "text/html": [
       "<pre>| 32        | 8500     | 1027.641615  | 0.816118          |                     | 841.101196      |</pre>"
      ],
      "text/plain": [
       "| 32        | 8500     | 1027.641615  | 0.816118          |                     | 841.101196      |"
      ]
     },
     "metadata": {},
     "output_type": "display_data"
    },
    {
     "data": {
      "text/html": [
       "<pre>| 32        | 16900    | 1037.646273  | 0.816746          |                     | 839.608826      |</pre>"
      ],
      "text/plain": [
       "| 32        | 16900    | 1037.646273  | 0.816746          |                     | 839.608826      |"
      ]
     },
     "metadata": {},
     "output_type": "display_data"
    },
    {
     "data": {
      "text/html": [
       "<pre>| 32        | 25300    | 1047.673321  | 0.814111          |                     | 837.732605      |</pre>"
      ],
      "text/plain": [
       "| 32        | 25300    | 1047.673321  | 0.814111          |                     | 837.732605      |"
      ]
     },
     "metadata": {},
     "output_type": "display_data"
    },
    {
     "data": {
      "text/html": [
       "<pre>| 32        | 33800    | 1057.787535  | 0.812722          |                     | 840.401367      |</pre>"
      ],
      "text/plain": [
       "| 32        | 33800    | 1057.787535  | 0.812722          |                     | 840.401367      |"
      ]
     },
     "metadata": {},
     "output_type": "display_data"
    },
    {
     "data": {
      "text/html": [
       "<pre>| 32        | 42300    | 1067.889646  | 0.812837          |                     | 841.409851      |</pre>"
      ],
      "text/plain": [
       "| 32        | 42300    | 1067.889646  | 0.812837          |                     | 841.409851      |"
      ]
     },
     "metadata": {},
     "output_type": "display_data"
    },
    {
     "data": {
      "text/html": [
       "<pre>| 32        | 49100    | 1088.841894  | 0.813136          | 0.840622            | 324.547180      |</pre>"
      ],
      "text/plain": [
       "| 32        | 49100    | 1088.841894  | 0.813136          | 0.840622            | 324.547180      |"
      ]
     },
     "metadata": {},
     "output_type": "display_data"
    },
    {
     "data": {
      "text/html": [
       "<pre>| 33        | 8400     | 1098.908055  | 0.807738          |                     | 834.484253      |</pre>"
      ],
      "text/plain": [
       "| 33        | 8400     | 1098.908055  | 0.807738          |                     | 834.484253      |"
      ]
     },
     "metadata": {},
     "output_type": "display_data"
    },
    {
     "data": {
      "text/html": [
       "<pre>| 33        | 16800    | 1108.997998  | 0.810952          |                     | 832.512146      |</pre>"
      ],
      "text/plain": [
       "| 33        | 16800    | 1108.997998  | 0.810952          |                     | 832.512146      |"
      ]
     },
     "metadata": {},
     "output_type": "display_data"
    },
    {
     "data": {
      "text/html": [
       "<pre>| 33        | 25300    | 1119.112622  | 0.810198          |                     | 840.369019      |</pre>"
      ],
      "text/plain": [
       "| 33        | 25300    | 1119.112622  | 0.810198          |                     | 840.369019      |"
      ]
     },
     "metadata": {},
     "output_type": "display_data"
    },
    {
     "data": {
      "text/html": [
       "<pre>| 33        | 33800    | 1129.218524  | 0.811538          |                     | 841.091064      |</pre>"
      ],
      "text/plain": [
       "| 33        | 33800    | 1129.218524  | 0.811538          |                     | 841.091064      |"
      ]
     },
     "metadata": {},
     "output_type": "display_data"
    },
    {
     "data": {
      "text/html": [
       "<pre>| 33        | 42200    | 1139.238801  | 0.812038          |                     | 838.300110      |</pre>"
      ],
      "text/plain": [
       "| 33        | 42200    | 1139.238801  | 0.812038          |                     | 838.300110      |"
      ]
     },
     "metadata": {},
     "output_type": "display_data"
    },
    {
     "data": {
      "text/html": [
       "<pre>| 33        | 49100    | 1160.292521  | 0.812118          | 0.843808            | 327.733032      |</pre>"
      ],
      "text/plain": [
       "| 33        | 49100    | 1160.292521  | 0.812118          | 0.843808            | 327.733032      |"
      ]
     },
     "metadata": {},
     "output_type": "display_data"
    },
    {
     "data": {
      "text/html": [
       "<pre>| 34        | 8400     | 1170.322637  | 0.806548          |                     | 837.491333      |</pre>"
      ],
      "text/plain": [
       "| 34        | 8400     | 1170.322637  | 0.806548          |                     | 837.491333      |"
      ]
     },
     "metadata": {},
     "output_type": "display_data"
    },
    {
     "data": {
      "text/html": [
       "<pre>| 34        | 16900    | 1180.438905  | 0.812367          |                     | 840.230896      |</pre>"
      ],
      "text/plain": [
       "| 34        | 16900    | 1180.438905  | 0.812367          |                     | 840.230896      |"
      ]
     },
     "metadata": {},
     "output_type": "display_data"
    },
    {
     "data": {
      "text/html": [
       "<pre>| 34        | 25400    | 1190.551991  | 0.812126          |                     | 840.496765      |</pre>"
      ],
      "text/plain": [
       "| 34        | 25400    | 1190.551991  | 0.812126          |                     | 840.496765      |"
      ]
     },
     "metadata": {},
     "output_type": "display_data"
    },
    {
     "data": {
      "text/html": [
       "<pre>| 34        | 33800    | 1200.572710  | 0.813994          |                     | 838.263123      |</pre>"
      ],
      "text/plain": [
       "| 34        | 33800    | 1200.572710  | 0.813994          |                     | 838.263123      |"
      ]
     },
     "metadata": {},
     "output_type": "display_data"
    },
    {
     "data": {
      "text/html": [
       "<pre>| 34        | 42200    | 1210.633106  | 0.815261          |                     | 834.955627      |</pre>"
      ],
      "text/plain": [
       "| 34        | 42200    | 1210.633106  | 0.815261          |                     | 834.955627      |"
      ]
     },
     "metadata": {},
     "output_type": "display_data"
    },
    {
     "data": {
      "text/html": [
       "<pre>| 34        | 49100    | 1231.724769  | 0.814949          | 0.845422            | 327.143463      |</pre>"
      ],
      "text/plain": [
       "| 34        | 49100    | 1231.724769  | 0.814949          | 0.845422            | 327.143463      |"
      ]
     },
     "metadata": {},
     "output_type": "display_data"
    },
    {
     "data": {
      "text/html": [
       "<pre>| 35        | 8500     | 1241.840892  | 0.814824          |                     | 840.323730      |</pre>"
      ],
      "text/plain": [
       "| 35        | 8500     | 1241.840892  | 0.814824          |                     | 840.323730      |"
      ]
     },
     "metadata": {},
     "output_type": "display_data"
    },
    {
     "data": {
      "text/html": [
       "<pre>| 35        | 17000    | 1251.951901  | 0.816941          |                     | 840.667786      |</pre>"
      ],
      "text/plain": [
       "| 35        | 17000    | 1251.951901  | 0.816941          |                     | 840.667786      |"
      ]
     },
     "metadata": {},
     "output_type": "display_data"
    },
    {
     "data": {
      "text/html": [
       "<pre>| 35        | 25400    | 1261.965623  | 0.814961          |                     | 838.848938      |</pre>"
      ],
      "text/plain": [
       "| 35        | 25400    | 1261.965623  | 0.814961          |                     | 838.848938      |"
      ]
     },
     "metadata": {},
     "output_type": "display_data"
    },
    {
     "data": {
      "text/html": [
       "<pre>| 35        | 33900    | 1272.068154  | 0.814602          |                     | 841.374878      |</pre>"
      ],
      "text/plain": [
       "| 35        | 33900    | 1272.068154  | 0.814602          |                     | 841.374878      |"
      ]
     },
     "metadata": {},
     "output_type": "display_data"
    },
    {
     "data": {
      "text/html": [
       "<pre>| 35        | 42300    | 1282.108716  | 0.813830          |                     | 836.605042      |</pre>"
      ],
      "text/plain": [
       "| 35        | 42300    | 1282.108716  | 0.813830          |                     | 836.605042      |"
      ]
     },
     "metadata": {},
     "output_type": "display_data"
    },
    {
     "data": {
      "text/html": [
       "<pre>| 35        | 49100    | 1303.059355  | 0.814033          | 0.839878            | 324.572388      |</pre>"
      ],
      "text/plain": [
       "| 35        | 49100    | 1303.059355  | 0.814033          | 0.839878            | 324.572388      |"
      ]
     },
     "metadata": {},
     "output_type": "display_data"
    },
    {
     "data": {
      "text/html": [
       "<pre>| 36        | 8400     | 1313.061031  | 0.816310          |                     | 839.937683      |</pre>"
      ],
      "text/plain": [
       "| 36        | 8400     | 1313.061031  | 0.816310          |                     | 839.937683      |"
      ]
     },
     "metadata": {},
     "output_type": "display_data"
    },
    {
     "data": {
      "text/html": [
       "<pre>| 36        | 16800    | 1323.080159  | 0.818095          |                     | 838.394714      |</pre>"
      ],
      "text/plain": [
       "| 36        | 16800    | 1323.080159  | 0.818095          |                     | 838.394714      |"
      ]
     },
     "metadata": {},
     "output_type": "display_data"
    },
    {
     "data": {
      "text/html": [
       "<pre>| 36        | 25200    | 1333.154280  | 0.815317          |                     | 833.819641      |</pre>"
      ],
      "text/plain": [
       "| 36        | 25200    | 1333.154280  | 0.815317          |                     | 833.819641      |"
      ]
     },
     "metadata": {},
     "output_type": "display_data"
    },
    {
     "data": {
      "text/html": [
       "<pre>| 36        | 33700    | 1343.265197  | 0.817448          |                     | 840.677063      |</pre>"
      ],
      "text/plain": [
       "| 36        | 33700    | 1343.265197  | 0.817448          |                     | 840.677063      |"
      ]
     },
     "metadata": {},
     "output_type": "display_data"
    },
    {
     "data": {
      "text/html": [
       "<pre>| 36        | 42100    | 1353.303948  | 0.818266          |                     | 836.757507      |</pre>"
      ],
      "text/plain": [
       "| 36        | 42100    | 1353.303948  | 0.818266          |                     | 836.757507      |"
      ]
     },
     "metadata": {},
     "output_type": "display_data"
    },
    {
     "data": {
      "text/html": [
       "<pre>| 36        | 49100    | 1374.457640  | 0.818167          | 0.841864            | 330.911163      |</pre>"
      ],
      "text/plain": [
       "| 36        | 49100    | 1374.457640  | 0.818167          | 0.841864            | 330.911163      |"
      ]
     },
     "metadata": {},
     "output_type": "display_data"
    },
    {
     "data": {
      "text/html": [
       "<pre>| 37        | 8400     | 1384.467338  | 0.811310          |                     | 839.197205      |</pre>"
      ],
      "text/plain": [
       "| 37        | 8400     | 1384.467338  | 0.811310          |                     | 839.197205      |"
      ]
     },
     "metadata": {},
     "output_type": "display_data"
    },
    {
     "data": {
      "text/html": [
       "<pre>| 37        | 16900    | 1394.576991  | 0.817988          |                     | 840.780518      |</pre>"
      ],
      "text/plain": [
       "| 37        | 16900    | 1394.576991  | 0.817988          |                     | 840.780518      |"
      ]
     },
     "metadata": {},
     "output_type": "display_data"
    },
    {
     "data": {
      "text/html": [
       "<pre>| 37        | 25400    | 1404.676555  | 0.814449          |                     | 841.620483      |</pre>"
      ],
      "text/plain": [
       "| 37        | 25400    | 1404.676555  | 0.814449          |                     | 841.620483      |"
      ]
     },
     "metadata": {},
     "output_type": "display_data"
    },
    {
     "data": {
      "text/html": [
       "<pre>| 37        | 33800    | 1414.760162  | 0.814320          |                     | 833.035217      |</pre>"
      ],
      "text/plain": [
       "| 37        | 33800    | 1414.760162  | 0.814320          |                     | 833.035217      |"
      ]
     },
     "metadata": {},
     "output_type": "display_data"
    },
    {
     "data": {
      "text/html": [
       "<pre>| 37        | 42300    | 1424.866655  | 0.814586          |                     | 841.043579      |</pre>"
      ],
      "text/plain": [
       "| 37        | 42300    | 1424.866655  | 0.814586          |                     | 841.043579      |"
      ]
     },
     "metadata": {},
     "output_type": "display_data"
    },
    {
     "data": {
      "text/html": [
       "<pre>| 37        | 49100    | 1445.835167  | 0.814440          | 0.840622            | 324.295746      |</pre>"
      ],
      "text/plain": [
       "| 37        | 49100    | 1445.835167  | 0.814440          | 0.840622            | 324.295746      |"
      ]
     },
     "metadata": {},
     "output_type": "display_data"
    },
    {
     "data": {
      "text/html": [
       "<pre>| 38        | 8400     | 1455.927417  | 0.813571          |                     | 832.331543      |</pre>"
      ],
      "text/plain": [
       "| 38        | 8400     | 1455.927417  | 0.813571          |                     | 832.331543      |"
      ]
     },
     "metadata": {},
     "output_type": "display_data"
    },
    {
     "data": {
      "text/html": [
       "<pre>| 38        | 16800    | 1465.978377  | 0.817202          |                     | 835.741150      |</pre>"
      ],
      "text/plain": [
       "| 38        | 16800    | 1465.978377  | 0.817202          |                     | 835.741150      |"
      ]
     },
     "metadata": {},
     "output_type": "display_data"
    },
    {
     "data": {
      "text/html": [
       "<pre>| 38        | 25300    | 1476.083356  | 0.813518          |                     | 841.169434      |</pre>"
      ],
      "text/plain": [
       "| 38        | 25300    | 1476.083356  | 0.813518          |                     | 841.169434      |"
      ]
     },
     "metadata": {},
     "output_type": "display_data"
    },
    {
     "data": {
      "text/html": [
       "<pre>| 38        | 33400    | 1486.148947  | 0.814910          |                     | 804.721741      |</pre>"
      ],
      "text/plain": [
       "| 38        | 33400    | 1486.148947  | 0.814910          |                     | 804.721741      |"
      ]
     },
     "metadata": {},
     "output_type": "display_data"
    },
    {
     "data": {
      "text/html": [
       "<pre>| 38        | 41300    | 1496.283393  | 0.816538          |                     | 779.519836      |</pre>"
      ],
      "text/plain": [
       "| 38        | 41300    | 1496.283393  | 0.816538          |                     | 779.519836      |"
      ]
     },
     "metadata": {},
     "output_type": "display_data"
    },
    {
     "data": {
      "text/html": [
       "<pre>| 38        | 48700    | 1506.355639  | 0.816037          |                     | 734.692017      |</pre>"
      ],
      "text/plain": [
       "| 38        | 48700    | 1506.355639  | 0.816037          |                     | 734.692017      |"
      ]
     },
     "metadata": {},
     "output_type": "display_data"
    },
    {
     "data": {
      "text/html": [
       "<pre>| 38        | 49100    | 1520.099958  | 0.816049          | 0.842939            | 29.102928       |</pre>"
      ],
      "text/plain": [
       "| 38        | 49100    | 1520.099958  | 0.816049          | 0.842939            | 29.102928       |"
      ]
     },
     "metadata": {},
     "output_type": "display_data"
    },
    {
     "data": {
      "text/html": [
       "<pre>| 39        | 8200     | 1530.160450  | 0.821098          |                     | 815.074402      |</pre>"
      ],
      "text/plain": [
       "| 39        | 8200     | 1530.160450  | 0.821098          |                     | 815.074402      |"
      ]
     },
     "metadata": {},
     "output_type": "display_data"
    },
    {
     "data": {
      "text/html": [
       "<pre>| 39        | 16600    | 1540.251139  | 0.819639          |                     | 832.450562      |</pre>"
      ],
      "text/plain": [
       "| 39        | 16600    | 1540.251139  | 0.819639          |                     | 832.450562      |"
      ]
     },
     "metadata": {},
     "output_type": "display_data"
    },
    {
     "data": {
      "text/html": [
       "<pre>| 39        | 25000    | 1550.317428  | 0.818880          |                     | 834.468445      |</pre>"
      ],
      "text/plain": [
       "| 39        | 25000    | 1550.317428  | 0.818880          |                     | 834.468445      |"
      ]
     },
     "metadata": {},
     "output_type": "display_data"
    },
    {
     "data": {
      "text/html": [
       "<pre>| 39        | 33400    | 1560.419115  | 0.818683          |                     | 831.544189      |</pre>"
      ],
      "text/plain": [
       "| 39        | 33400    | 1560.419115  | 0.818683          |                     | 831.544189      |"
      ]
     },
     "metadata": {},
     "output_type": "display_data"
    },
    {
     "data": {
      "text/html": [
       "<pre>| 39        | 41700    | 1570.423137  | 0.819712          |                     | 829.666382      |</pre>"
      ],
      "text/plain": [
       "| 39        | 41700    | 1570.423137  | 0.819712          |                     | 829.666382      |"
      ]
     },
     "metadata": {},
     "output_type": "display_data"
    },
    {
     "data": {
      "text/html": [
       "<pre>| 39        | 49100    | 1592.315027  | 0.819715          | 0.846167            | 338.024689      |</pre>"
      ],
      "text/plain": [
       "| 39        | 49100    | 1592.315027  | 0.819715          | 0.846167            | 338.024689      |"
      ]
     },
     "metadata": {},
     "output_type": "display_data"
    },
    {
     "data": {
      "text/html": [
       "<pre>| 40        | 8400     | 1602.397285  | 0.815833          |                     | 833.218567      |</pre>"
      ],
      "text/plain": [
       "| 40        | 8400     | 1602.397285  | 0.815833          |                     | 833.218567      |"
      ]
     },
     "metadata": {},
     "output_type": "display_data"
    },
    {
     "data": {
      "text/html": [
       "<pre>| 40        | 16800    | 1612.481110  | 0.821012          |                     | 833.017212      |</pre>"
      ],
      "text/plain": [
       "| 40        | 16800    | 1612.481110  | 0.821012          |                     | 833.017212      |"
      ]
     },
     "metadata": {},
     "output_type": "display_data"
    },
    {
     "data": {
      "text/html": [
       "<pre>| 40        | 25200    | 1622.599160  | 0.818095          |                     | 830.199463      |</pre>"
      ],
      "text/plain": [
       "| 40        | 25200    | 1622.599160  | 0.818095          |                     | 830.199463      |"
      ]
     },
     "metadata": {},
     "output_type": "display_data"
    },
    {
     "data": {
      "text/html": [
       "<pre>| 40        | 33600    | 1632.689285  | 0.817292          |                     | 832.497070      |</pre>"
      ],
      "text/plain": [
       "| 40        | 33600    | 1632.689285  | 0.817292          |                     | 832.497070      |"
      ]
     },
     "metadata": {},
     "output_type": "display_data"
    },
    {
     "data": {
      "text/html": [
       "<pre>| 40        | 42000    | 1642.758615  | 0.817024          |                     | 834.216431      |</pre>"
      ],
      "text/plain": [
       "| 40        | 42000    | 1642.758615  | 0.817024          |                     | 834.216431      |"
      ]
     },
     "metadata": {},
     "output_type": "display_data"
    },
    {
     "data": {
      "text/html": [
       "<pre>| 40        | 49100    | 1664.254937  | 0.818411          | 0.846456            | 330.289032      |</pre>"
      ],
      "text/plain": [
       "| 40        | 49100    | 1664.254937  | 0.818411          | 0.846456            | 330.289032      |"
      ]
     },
     "metadata": {},
     "output_type": "display_data"
    },
    {
     "data": {
      "text/html": [
       "<pre>| 41        | 8400     | 1674.346366  | 0.810119          |                     | 832.462524      |</pre>"
      ],
      "text/plain": [
       "| 41        | 8400     | 1674.346366  | 0.810119          |                     | 832.462524      |"
      ]
     },
     "metadata": {},
     "output_type": "display_data"
    },
    {
     "data": {
      "text/html": [
       "<pre>| 41        | 16800    | 1684.463858  | 0.815833          |                     | 830.245178      |</pre>"
      ],
      "text/plain": [
       "| 41        | 16800    | 1684.463858  | 0.815833          |                     | 830.245178      |"
      ]
     },
     "metadata": {},
     "output_type": "display_data"
    },
    {
     "data": {
      "text/html": [
       "<pre>| 41        | 25100    | 1694.490972  | 0.813386          |                     | 827.755676      |</pre>"
      ],
      "text/plain": [
       "| 41        | 25100    | 1694.490972  | 0.813386          |                     | 827.755676      |"
      ]
     },
     "metadata": {},
     "output_type": "display_data"
    },
    {
     "data": {
      "text/html": [
       "<pre>| 41        | 33500    | 1704.576018  | 0.812896          |                     | 832.916382      |</pre>"
      ],
      "text/plain": [
       "| 41        | 33500    | 1704.576018  | 0.812896          |                     | 832.916382      |"
      ]
     },
     "metadata": {},
     "output_type": "display_data"
    },
    {
     "data": {
      "text/html": [
       "<pre>| 41        | 41800    | 1714.633185  | 0.813612          |                     | 825.282104      |</pre>"
      ],
      "text/plain": [
       "| 41        | 41800    | 1714.633185  | 0.813612          |                     | 825.282104      |"
      ]
     },
     "metadata": {},
     "output_type": "display_data"
    },
    {
     "data": {
      "text/html": [
       "<pre>| 41        | 49100    | 1736.368186  | 0.813707          | 0.841988            | 335.863770      |</pre>"
      ],
      "text/plain": [
       "| 41        | 49100    | 1736.368186  | 0.813707          | 0.841988            | 335.863770      |"
      ]
     },
     "metadata": {},
     "output_type": "display_data"
    },
    {
     "data": {
      "text/html": [
       "<pre>| 42        | 8100     | 1746.464291  | 0.817407          |                     | 802.368774      |</pre>"
      ],
      "text/plain": [
       "| 42        | 8100     | 1746.464291  | 0.817407          |                     | 802.368774      |"
      ]
     },
     "metadata": {},
     "output_type": "display_data"
    },
    {
     "data": {
      "text/html": [
       "<pre>| 42        | 15700    | 1756.519954  | 0.819299          |                     | 755.792969      |</pre>"
      ],
      "text/plain": [
       "| 42        | 15700    | 1756.519954  | 0.819299          |                     | 755.792969      |"
      ]
     },
     "metadata": {},
     "output_type": "display_data"
    },
    {
     "data": {
      "text/html": [
       "<pre>| 42        | 24000    | 1766.583340  | 0.817875          |                     | 824.772217      |</pre>"
      ],
      "text/plain": [
       "| 42        | 24000    | 1766.583340  | 0.817875          |                     | 824.772217      |"
      ]
     },
     "metadata": {},
     "output_type": "display_data"
    },
    {
     "data": {
      "text/html": [
       "<pre>| 42        | 32400    | 1776.664974  | 0.818457          |                     | 833.198242      |</pre>"
      ],
      "text/plain": [
       "| 42        | 32400    | 1776.664974  | 0.818457          |                     | 833.198242      |"
      ]
     },
     "metadata": {},
     "output_type": "display_data"
    },
    {
     "data": {
      "text/html": [
       "<pre>| 42        | 40800    | 1786.761338  | 0.819240          |                     | 831.982666      |</pre>"
      ],
      "text/plain": [
       "| 42        | 40800    | 1786.761338  | 0.819240          |                     | 831.982666      |"
      ]
     },
     "metadata": {},
     "output_type": "display_data"
    },
    {
     "data": {
      "text/html": [
       "<pre>| 42        | 49100    | 1809.781397  | 0.818778          | 0.838554            | 360.555084      |</pre>"
      ],
      "text/plain": [
       "| 42        | 49100    | 1809.781397  | 0.818778          | 0.838554            | 360.555084      |"
      ]
     },
     "metadata": {},
     "output_type": "display_data"
    },
    {
     "data": {
      "text/html": [
       "<pre>| 43        | 8400     | 1819.893413  | 0.814286          |                     | 830.704163      |</pre>"
      ],
      "text/plain": [
       "| 43        | 8400     | 1819.893413  | 0.814286          |                     | 830.704163      |"
      ]
     },
     "metadata": {},
     "output_type": "display_data"
    },
    {
     "data": {
      "text/html": [
       "<pre>| 43        | 16700    | 1829.931408  | 0.816228          |                     | 826.858337      |</pre>"
      ],
      "text/plain": [
       "| 43        | 16700    | 1829.931408  | 0.816228          |                     | 826.858337      |"
      ]
     },
     "metadata": {},
     "output_type": "display_data"
    },
    {
     "data": {
      "text/html": [
       "<pre>| 43        | 25100    | 1840.028331  | 0.815618          |                     | 831.938171      |</pre>"
      ],
      "text/plain": [
       "| 43        | 25100    | 1840.028331  | 0.815618          |                     | 831.938171      |"
      ]
     },
     "metadata": {},
     "output_type": "display_data"
    },
    {
     "data": {
      "text/html": [
       "<pre>| 43        | 33500    | 1850.108512  | 0.815134          |                     | 833.316895      |</pre>"
      ],
      "text/plain": [
       "| 43        | 33500    | 1850.108512  | 0.815134          |                     | 833.316895      |"
      ]
     },
     "metadata": {},
     "output_type": "display_data"
    },
    {
     "data": {
      "text/html": [
       "<pre>| 43        | 41900    | 1860.223075  | 0.816635          |                     | 830.485596      |</pre>"
      ],
      "text/plain": [
       "| 43        | 41900    | 1860.223075  | 0.816635          |                     | 830.485596      |"
      ]
     },
     "metadata": {},
     "output_type": "display_data"
    },
    {
     "data": {
      "text/html": [
       "<pre>| 43        | 49100    | 1882.288026  | 0.817861          | 0.842277            | 326.309326      |</pre>"
      ],
      "text/plain": [
       "| 43        | 49100    | 1882.288026  | 0.817861          | 0.842277            | 326.309326      |"
      ]
     },
     "metadata": {},
     "output_type": "display_data"
    },
    {
     "data": {
      "text/html": [
       "<pre>| 44        | 8000     | 1892.321805  | 0.821875          |                     | 797.315186      |</pre>"
      ],
      "text/plain": [
       "| 44        | 8000     | 1892.321805  | 0.821875          |                     | 797.315186      |"
      ]
     },
     "metadata": {},
     "output_type": "display_data"
    },
    {
     "data": {
      "text/html": [
       "<pre>| 44        | 16300    | 1902.336938  | 0.824356          |                     | 828.747803      |</pre>"
      ],
      "text/plain": [
       "| 44        | 16300    | 1902.336938  | 0.824356          |                     | 828.747803      |"
      ]
     },
     "metadata": {},
     "output_type": "display_data"
    },
    {
     "data": {
      "text/html": [
       "<pre>| 44        | 24700    | 1912.446229  | 0.821660          |                     | 830.916992      |</pre>"
      ],
      "text/plain": [
       "| 44        | 24700    | 1912.446229  | 0.821660          |                     | 830.916992      |"
      ]
     },
     "metadata": {},
     "output_type": "display_data"
    },
    {
     "data": {
      "text/html": [
       "<pre>| 44        | 33000    | 1922.464269  | 0.823061          |                     | 828.505249      |</pre>"
      ],
      "text/plain": [
       "| 44        | 33000    | 1922.464269  | 0.823061          |                     | 828.505249      |"
      ]
     },
     "metadata": {},
     "output_type": "display_data"
    },
    {
     "data": {
      "text/html": [
       "<pre>| 44        | 41300    | 1932.523666  | 0.823753          |                     | 825.099182      |</pre>"
      ],
      "text/plain": [
       "| 44        | 41300    | 1932.523666  | 0.823753          |                     | 825.099182      |"
      ]
     },
     "metadata": {},
     "output_type": "display_data"
    },
    {
     "data": {
      "text/html": [
       "<pre>| 44        | 49100    | 1954.910271  | 0.823829          | 0.850635            | 348.422607      |</pre>"
      ],
      "text/plain": [
       "| 44        | 49100    | 1954.910271  | 0.823829          | 0.850635            | 348.422607      |"
      ]
     },
     "metadata": {},
     "output_type": "display_data"
    },
    {
     "data": {
      "text/html": [
       "<pre>| 45        | 7700     | 1964.944148  | 0.816753          |                     | 767.409302      |</pre>"
      ],
      "text/plain": [
       "| 45        | 7700     | 1964.944148  | 0.816753          |                     | 767.409302      |"
      ]
     },
     "metadata": {},
     "output_type": "display_data"
    },
    {
     "data": {
      "text/html": [
       "<pre>| 45        | 15500    | 1975.014093  | 0.819936          |                     | 774.582153      |</pre>"
      ],
      "text/plain": [
       "| 45        | 15500    | 1975.014093  | 0.819936          |                     | 774.582153      |"
      ]
     },
     "metadata": {},
     "output_type": "display_data"
    },
    {
     "data": {
      "text/html": [
       "<pre>| 45        | 23300    | 1985.015638  | 0.819056          |                     | 779.879517      |</pre>"
      ],
      "text/plain": [
       "| 45        | 23300    | 1985.015638  | 0.819056          |                     | 779.879517      |"
      ]
     },
     "metadata": {},
     "output_type": "display_data"
    },
    {
     "data": {
      "text/html": [
       "<pre>| 45        | 31600    | 1995.066348  | 0.820222          |                     | 825.812317      |</pre>"
      ],
      "text/plain": [
       "| 45        | 31600    | 1995.066348  | 0.820222          |                     | 825.812317      |"
      ]
     },
     "metadata": {},
     "output_type": "display_data"
    },
    {
     "data": {
      "text/html": [
       "<pre>| 45        | 39700    | 2005.133755  | 0.820756          |                     | 804.576782      |</pre>"
      ],
      "text/plain": [
       "| 45        | 39700    | 2005.133755  | 0.820756          |                     | 804.576782      |"
      ]
     },
     "metadata": {},
     "output_type": "display_data"
    },
    {
     "data": {
      "text/html": [
       "<pre>| 45        | 46700    | 2015.170350  | 0.821713          |                     | 697.447571      |</pre>"
      ],
      "text/plain": [
       "| 45        | 46700    | 2015.170350  | 0.821713          |                     | 697.447571      |"
      ]
     },
     "metadata": {},
     "output_type": "display_data"
    },
    {
     "data": {
      "text/html": [
       "<pre>| 45        | 49100    | 2031.975898  | 0.821813          | 0.838885            | 142.809967      |</pre>"
      ],
      "text/plain": [
       "| 45        | 49100    | 2031.975898  | 0.821813          | 0.838885            | 142.809967      |"
      ]
     },
     "metadata": {},
     "output_type": "display_data"
    },
    {
     "data": {
      "text/html": [
       "<pre>| 46        | 8000     | 2041.983302  | 0.821250          |                     | 799.416992      |</pre>"
      ],
      "text/plain": [
       "| 46        | 8000     | 2041.983302  | 0.821250          |                     | 799.416992      |"
      ]
     },
     "metadata": {},
     "output_type": "display_data"
    },
    {
     "data": {
      "text/html": [
       "<pre>| 46        | 15800    | 2052.095130  | 0.824430          |                     | 771.373840      |</pre>"
      ],
      "text/plain": [
       "| 46        | 15800    | 2052.095130  | 0.824430          |                     | 771.373840      |"
      ]
     },
     "metadata": {},
     "output_type": "display_data"
    },
    {
     "data": {
      "text/html": [
       "<pre>| 46        | 23700    | 2062.141840  | 0.820422          |                     | 786.327087      |</pre>"
      ],
      "text/plain": [
       "| 46        | 23700    | 2062.141840  | 0.820422          |                     | 786.327087      |"
      ]
     },
     "metadata": {},
     "output_type": "display_data"
    },
    {
     "data": {
      "text/html": [
       "<pre>| 46        | 31700    | 2072.165327  | 0.822082          |                     | 798.125427      |</pre>"
      ],
      "text/plain": [
       "| 46        | 31700    | 2072.165327  | 0.822082          |                     | 798.125427      |"
      ]
     },
     "metadata": {},
     "output_type": "display_data"
    },
    {
     "data": {
      "text/html": [
       "<pre>| 46        | 39900    | 2082.197705  | 0.823108          |                     | 817.353577      |</pre>"
      ],
      "text/plain": [
       "| 46        | 39900    | 2082.197705  | 0.823108          |                     | 817.353577      |"
      ]
     },
     "metadata": {},
     "output_type": "display_data"
    },
    {
     "data": {
      "text/html": [
       "<pre>| 46        | 47200    | 2092.228085  | 0.823242          |                     | 727.788940      |</pre>"
      ],
      "text/plain": [
       "| 46        | 47200    | 2092.228085  | 0.823242          |                     | 727.788940      |"
      ]
     },
     "metadata": {},
     "output_type": "display_data"
    },
    {
     "data": {
      "text/html": [
       "<pre>| 46        | 49100    | 2109.935724  | 0.823442          | 0.846373            | 107.298317      |</pre>"
      ],
      "text/plain": [
       "| 46        | 49100    | 2109.935724  | 0.823442          | 0.846373            | 107.298317      |"
      ]
     },
     "metadata": {},
     "output_type": "display_data"
    },
    {
     "data": {
      "text/html": [
       "<pre>| 47        | 7900     | 2120.037091  | 0.818101          |                     | 782.079773      |</pre>"
      ],
      "text/plain": [
       "| 47        | 7900     | 2120.037091  | 0.818101          |                     | 782.079773      |"
      ]
     },
     "metadata": {},
     "output_type": "display_data"
    },
    {
     "data": {
      "text/html": [
       "<pre>| 47        | 15400    | 2130.131090  | 0.822792          |                     | 743.015869      |</pre>"
      ],
      "text/plain": [
       "| 47        | 15400    | 2130.131090  | 0.822792          |                     | 743.015869      |"
      ]
     },
     "metadata": {},
     "output_type": "display_data"
    },
    {
     "data": {
      "text/html": [
       "<pre>| 47        | 23200    | 2140.226634  | 0.819784          |                     | 772.617798      |</pre>"
      ],
      "text/plain": [
       "| 47        | 23200    | 2140.226634  | 0.819784          |                     | 772.617798      |"
      ]
     },
     "metadata": {},
     "output_type": "display_data"
    },
    {
     "data": {
      "text/html": [
       "<pre>| 47        | 31000    | 2150.320250  | 0.820774          |                     | 772.765747      |</pre>"
      ],
      "text/plain": [
       "| 47        | 31000    | 2150.320250  | 0.820774          |                     | 772.765747      |"
      ]
     },
     "metadata": {},
     "output_type": "display_data"
    },
    {
     "data": {
      "text/html": [
       "<pre>| 47        | 39300    | 2160.338674  | 0.822850          |                     | 828.475220      |</pre>"
      ],
      "text/plain": [
       "| 47        | 39300    | 2160.338674  | 0.822850          |                     | 828.475220      |"
      ]
     },
     "metadata": {},
     "output_type": "display_data"
    },
    {
     "data": {
      "text/html": [
       "<pre>| 47        | 47500    | 2170.379512  | 0.822716          |                     | 816.663269      |</pre>"
      ],
      "text/plain": [
       "| 47        | 47500    | 2170.379512  | 0.822716          |                     | 816.663269      |"
      ]
     },
     "metadata": {},
     "output_type": "display_data"
    },
    {
     "data": {
      "text/html": [
       "<pre>| 47        | 49100    | 2185.628449  | 0.823035          | 0.848566            | 104.925339      |</pre>"
      ],
      "text/plain": [
       "| 47        | 49100    | 2185.628449  | 0.823035          | 0.848566            | 104.925339      |"
      ]
     },
     "metadata": {},
     "output_type": "display_data"
    },
    {
     "data": {
      "text/html": [
       "<pre>| 48        | 7700     | 2195.677496  | 0.820779          |                     | 766.278198      |</pre>"
      ],
      "text/plain": [
       "| 48        | 7700     | 2195.677496  | 0.820779          |                     | 766.278198      |"
      ]
     },
     "metadata": {},
     "output_type": "display_data"
    },
    {
     "data": {
      "text/html": [
       "<pre>| 48        | 15400    | 2205.768406  | 0.823961          |                     | 763.063049      |</pre>"
      ],
      "text/plain": [
       "| 48        | 15400    | 2205.768406  | 0.823961          |                     | 763.063049      |"
      ]
     },
     "metadata": {},
     "output_type": "display_data"
    },
    {
     "data": {
      "text/html": [
       "<pre>| 48        | 23400    | 2215.892366  | 0.822265          |                     | 790.204651      |</pre>"
      ],
      "text/plain": [
       "| 48        | 23400    | 2215.892366  | 0.822265          |                     | 790.204651      |"
      ]
     },
     "metadata": {},
     "output_type": "display_data"
    },
    {
     "data": {
      "text/html": [
       "<pre>| 48        | 31200    | 2225.935262  | 0.823750          |                     | 776.668396      |</pre>"
      ],
      "text/plain": [
       "| 48        | 31200    | 2225.935262  | 0.823750          |                     | 776.668396      |"
      ]
     },
     "metadata": {},
     "output_type": "display_data"
    },
    {
     "data": {
      "text/html": [
       "<pre>| 48        | 39200    | 2236.045932  | 0.824643          |                     | 791.244751      |</pre>"
      ],
      "text/plain": [
       "| 48        | 39200    | 2236.045932  | 0.824643          |                     | 791.244751      |"
      ]
     },
     "metadata": {},
     "output_type": "display_data"
    },
    {
     "data": {
      "text/html": [
       "<pre>| 48        | 47400    | 2246.051557  | 0.825084          |                     | 819.537537      |</pre>"
      ],
      "text/plain": [
       "| 48        | 47400    | 2246.051557  | 0.825084          |                     | 819.537537      |"
      ]
     },
     "metadata": {},
     "output_type": "display_data"
    },
    {
     "data": {
      "text/html": [
       "<pre>| 48        | 49100    | 2261.288092  | 0.825173          | 0.841864            | 111.573906      |</pre>"
      ],
      "text/plain": [
       "| 48        | 49100    | 2261.288092  | 0.825173          | 0.841864            | 111.573906      |"
      ]
     },
     "metadata": {},
     "output_type": "display_data"
    },
    {
     "data": {
      "text/html": [
       "<pre>| 49        | 8200     | 2271.372513  | 0.823293          |                     | 813.144409      |</pre>"
      ],
      "text/plain": [
       "| 49        | 8200     | 2271.372513  | 0.823293          |                     | 813.144409      |"
      ]
     },
     "metadata": {},
     "output_type": "display_data"
    },
    {
     "data": {
      "text/html": [
       "<pre>| 49        | 16600    | 2281.432633  | 0.825121          |                     | 834.980164      |</pre>"
      ],
      "text/plain": [
       "| 49        | 16600    | 2281.432633  | 0.825121          |                     | 834.980164      |"
      ]
     },
     "metadata": {},
     "output_type": "display_data"
    },
    {
     "data": {
      "text/html": [
       "<pre>| 49        | 24900    | 2291.432899  | 0.820482          |                     | 829.977905      |</pre>"
      ],
      "text/plain": [
       "| 49        | 24900    | 2291.432899  | 0.820482          |                     | 829.977905      |"
      ]
     },
     "metadata": {},
     "output_type": "display_data"
    },
    {
     "data": {
      "text/html": [
       "<pre>| 49        | 33300    | 2301.458188  | 0.820871          |                     | 837.880981      |</pre>"
      ],
      "text/plain": [
       "| 49        | 33300    | 2301.458188  | 0.820871          |                     | 837.880981      |"
      ]
     },
     "metadata": {},
     "output_type": "display_data"
    },
    {
     "data": {
      "text/html": [
       "<pre>| 49        | 41700    | 2311.546616  | 0.821367          |                     | 832.637207      |</pre>"
      ],
      "text/plain": [
       "| 49        | 41700    | 2311.546616  | 0.821367          |                     | 832.637207      |"
      ]
     },
     "metadata": {},
     "output_type": "display_data"
    },
    {
     "data": {
      "text/html": [
       "<pre>| 49        | 49100    | 2333.397286  | 0.821548          | 0.843477            | 338.662354      |</pre>"
      ],
      "text/plain": [
       "| 49        | 49100    | 2333.397286  | 0.821548          | 0.843477            | 338.662354      |"
      ]
     },
     "metadata": {},
     "output_type": "display_data"
    },
    {
     "data": {
      "text/html": [
       "<pre>| 50        | 8400     | 2343.495576  | 0.824286          |                     | 831.834839      |</pre>"
      ],
      "text/plain": [
       "| 50        | 8400     | 2343.495576  | 0.824286          |                     | 831.834839      |"
      ]
     },
     "metadata": {},
     "output_type": "display_data"
    },
    {
     "data": {
      "text/html": [
       "<pre>| 50        | 16800    | 2353.545230  | 0.827798          |                     | 835.849670      |</pre>"
      ],
      "text/plain": [
       "| 50        | 16800    | 2353.545230  | 0.827798          |                     | 835.849670      |"
      ]
     },
     "metadata": {},
     "output_type": "display_data"
    },
    {
     "data": {
      "text/html": [
       "<pre>| 50        | 25200    | 2363.567620  | 0.825913          |                     | 838.123474      |</pre>"
      ],
      "text/plain": [
       "| 50        | 25200    | 2363.567620  | 0.825913          |                     | 838.123474      |"
      ]
     },
     "metadata": {},
     "output_type": "display_data"
    },
    {
     "data": {
      "text/html": [
       "<pre>| 50        | 33600    | 2373.606428  | 0.825685          |                     | 836.752686      |</pre>"
      ],
      "text/plain": [
       "| 50        | 33600    | 2373.606428  | 0.825685          |                     | 836.752686      |"
      ]
     },
     "metadata": {},
     "output_type": "display_data"
    },
    {
     "data": {
      "text/html": [
       "<pre>| 50        | 42000    | 2383.619301  | 0.825024          |                     | 838.920044      |</pre>"
      ],
      "text/plain": [
       "| 50        | 42000    | 2383.619301  | 0.825024          |                     | 838.920044      |"
      ]
     },
     "metadata": {},
     "output_type": "display_data"
    },
    {
     "data": {
      "text/html": [
       "<pre>| 50        | 49100    | 2404.960368  | 0.825499          | 0.844139            | 332.691864      |</pre>"
      ],
      "text/plain": [
       "| 50        | 49100    | 2404.960368  | 0.825499          | 0.844139            | 332.691864      |"
      ]
     },
     "metadata": {},
     "output_type": "display_data"
    },
    {
     "data": {
      "text/html": [
       "<pre>+-----------+----------+--------------+-------------------+---------------------+-----------------+</pre>"
      ],
      "text/plain": [
       "+-----------+----------+--------------+-------------------+---------------------+-----------------+"
      ]
     },
     "metadata": {},
     "output_type": "display_data"
    }
   ],
   "source": [
    "m = gl.neuralnet_classifier.create(train_data, target='label',\n",
    "                                         network = net,\n",
    "                                         validation_set=valid_data,\n",
    "                                         metric=['accuracy'],\n",
    "                                         max_iterations= 50,\n",
    "                                        l2_regularization = 0.005)"
   ]
  },
  {
   "cell_type": "code",
   "execution_count": 177,
   "metadata": {},
   "outputs": [
    {
     "data": {
      "text/plain": [
       "Class               : NeuralNetClassifier\n",
       "\n",
       "Schema\n",
       "------\n",
       "Examples            : 49088\n",
       "Features            : 1\n",
       "Target column       : label\n",
       "\n",
       "Training Summary\n",
       "----------------\n",
       "Training accuracy   : 0.8255\n",
       "Validation accuracy : 0.8441\n",
       "Training time (sec) : 2405.1302"
      ]
     },
     "execution_count": 177,
     "metadata": {},
     "output_type": "execute_result"
    }
   ],
   "source": [
    "m.save(\"m3\")\n",
    "loaded_m3 = gl.load_model('m3')\n",
    "loaded_m3"
   ]
  },
  {
   "cell_type": "code",
   "execution_count": 225,
   "metadata": {},
   "outputs": [
    {
     "data": {
      "text/plain": [
       "{'accuracy': 0.8671935796737671,\n",
       " 'recall@1': 0.8671935796737671,\n",
       " 'recall@10': 1.0,\n",
       " 'recall@2': 0.937384843826294,\n",
       " 'recall@3': 0.9633209109306335,\n",
       " 'recall@4': 0.9766165614128113,\n",
       " 'recall@5': 0.9845612049102783,\n",
       " 'recall@6': 0.9898576140403748,\n",
       " 'recall@7': 0.9940483570098877,\n",
       " 'recall@8': 0.996833086013794,\n",
       " 'recall@9': 0.998730480670929}"
      ]
     },
     "execution_count": 225,
     "metadata": {},
     "output_type": "execute_result"
    }
   ],
   "source": [
    "loaded_m3.evaluate(test, metric=[ \"accuracy\",\n",
    "                                 'recall@1', 'recall@2',\n",
    "                                'recall@3', 'recall@4',\n",
    "                                'recall@5', 'recall@6',\n",
    "                                'recall@7', 'recall@8',\n",
    "                                'recall@9', 'recall@10'])"
   ]
  },
  {
   "cell_type": "markdown",
   "metadata": {},
   "source": [
    "### Model#4 -  In Progress"
   ]
  },
  {
   "cell_type": "code",
   "execution_count": 240,
   "metadata": {},
   "outputs": [
    {
     "data": {
      "text/plain": [
       "\n",
       "### network layers ###\n",
       "layer[0]: ConvolutionLayer\n",
       "  init_random = gaussian\n",
       "  padding = 0\n",
       "  stride = 1\n",
       "  num_channels = 64\n",
       "  num_groups = 1\n",
       "  kernel_size = 3\n",
       "layer[1]: MaxPoolingLayer\n",
       "  padding = 0\n",
       "  stride = 1\n",
       "  kernel_size = 3\n",
       "layer[2]: FlattenLayer\n",
       "layer[3]: FullConnectionLayer\n",
       "  init_sigma = 0.01\n",
       "  init_random = gaussian\n",
       "  init_bias = 0\n",
       "  num_hidden_units = 100\n",
       "layer[4]: RectifiedLinearLayer\n",
       "layer[5]: DropoutLayer\n",
       "  threshold = 0.5\n",
       "layer[6]: FullConnectionLayer\n",
       "  init_sigma = 0.01\n",
       "  init_random = gaussian\n",
       "  init_bias = 0\n",
       "  num_hidden_units = 10\n",
       "layer[7]: SoftmaxLayer\n",
       "### end network layers ###\n",
       "\n",
       "### network parameters ###\n",
       "learning_rate = 0.001\n",
       "momentum = 0.9\n",
       "### end network parameters ###"
      ]
     },
     "execution_count": 240,
     "metadata": {},
     "output_type": "execute_result"
    }
   ],
   "source": [
    "net.layers[0].stride = 1\n",
    "net.layers[1].stride = 1\n",
    "net.layers[3].num_hidden_units= 100\n",
    "net"
   ]
  },
  {
   "cell_type": "code",
   "execution_count": null,
   "metadata": {
    "scrolled": true
   },
   "outputs": [
    {
     "name": "stdout",
     "output_type": "stream",
     "text": [
      "Using network:\n",
      "\n",
      "### network layers ###\n",
      "layer[0]: ConvolutionLayer\n",
      "  init_random = gaussian\n",
      "  padding = 0\n",
      "  stride = 1\n",
      "  num_channels = 64\n",
      "  num_groups = 1\n",
      "  kernel_size = 3\n",
      "layer[1]: MaxPoolingLayer\n",
      "  padding = 0\n",
      "  stride = 1\n",
      "  kernel_size = 3\n",
      "layer[2]: FlattenLayer\n",
      "layer[3]: FullConnectionLayer\n",
      "  init_sigma = 0.01\n",
      "  init_random = gaussian\n",
      "  init_bias = 0\n",
      "  num_hidden_units = 100\n",
      "layer[4]: RectifiedLinearLayer\n",
      "layer[5]: DropoutLayer\n",
      "  threshold = 0.5\n",
      "layer[6]: FullConnectionLayer\n",
      "  init_sigma = 0.01\n",
      "  init_random = gaussian\n",
      "  init_bias = 0\n",
      "  num_hidden_units = 10\n",
      "layer[7]: SoftmaxLayer\n",
      "### end network layers ###\n",
      "\n",
      "### network parameters ###\n",
      "batch_size = 200\n",
      "learning_rate = 0.001\n",
      "l2_regularization = 0.01\n",
      "metric = accuracy\n",
      "momentum = 0.9\n",
      "### end network parameters ###\n",
      "\n"
     ]
    },
    {
     "data": {
      "text/html": [
       "<pre>Computing mean image...</pre>"
      ],
      "text/plain": [
       "Computing mean image..."
      ]
     },
     "metadata": {},
     "output_type": "display_data"
    },
    {
     "data": {
      "text/html": [
       "<pre>Done computing mean image.</pre>"
      ],
      "text/plain": [
       "Done computing mean image."
      ]
     },
     "metadata": {},
     "output_type": "display_data"
    },
    {
     "data": {
      "text/html": [
       "<pre>Creating neuralnet using cpu</pre>"
      ],
      "text/plain": [
       "Creating neuralnet using cpu"
      ]
     },
     "metadata": {},
     "output_type": "display_data"
    },
    {
     "data": {
      "text/html": [
       "<pre>Training with batch size = 200</pre>"
      ],
      "text/plain": [
       "Training with batch size = 200"
      ]
     },
     "metadata": {},
     "output_type": "display_data"
    },
    {
     "data": {
      "text/html": [
       "<pre>+-----------+----------+--------------+-------------------+---------------------+-----------------+</pre>"
      ],
      "text/plain": [
       "+-----------+----------+--------------+-------------------+---------------------+-----------------+"
      ]
     },
     "metadata": {},
     "output_type": "display_data"
    },
    {
     "data": {
      "text/html": [
       "<pre>| Iteration | Examples | Elapsed Time | Training-accuracy | Validation-accuracy | Examples/second |</pre>"
      ],
      "text/plain": [
       "| Iteration | Examples | Elapsed Time | Training-accuracy | Validation-accuracy | Examples/second |"
      ]
     },
     "metadata": {},
     "output_type": "display_data"
    },
    {
     "data": {
      "text/html": [
       "<pre>+-----------+----------+--------------+-------------------+---------------------+-----------------+</pre>"
      ],
      "text/plain": [
       "+-----------+----------+--------------+-------------------+---------------------+-----------------+"
      ]
     },
     "metadata": {},
     "output_type": "display_data"
    },
    {
     "data": {
      "text/html": [
       "<pre>| 1         | 1000     | 12.061194    | 0.111000          |                     | 82.910538       |</pre>"
      ],
      "text/plain": [
       "| 1         | 1000     | 12.061194    | 0.111000          |                     | 82.910538       |"
      ]
     },
     "metadata": {},
     "output_type": "display_data"
    },
    {
     "data": {
      "text/html": [
       "<pre>| 1         | 2000     | 23.892423    | 0.140000          |                     | 84.522079       |</pre>"
      ],
      "text/plain": [
       "| 1         | 2000     | 23.892423    | 0.140000          |                     | 84.522079       |"
      ]
     },
     "metadata": {},
     "output_type": "display_data"
    },
    {
     "data": {
      "text/html": [
       "<pre>| 1         | 3000     | 35.707132    | 0.152000          |                     | 84.640266       |</pre>"
      ],
      "text/plain": [
       "| 1         | 3000     | 35.707132    | 0.152000          |                     | 84.640266       |"
      ]
     },
     "metadata": {},
     "output_type": "display_data"
    },
    {
     "data": {
      "text/html": [
       "<pre>| 1         | 4000     | 47.457324    | 0.154250          |                     | 85.104988       |</pre>"
      ],
      "text/plain": [
       "| 1         | 4000     | 47.457324    | 0.154250          |                     | 85.104988       |"
      ]
     },
     "metadata": {},
     "output_type": "display_data"
    },
    {
     "data": {
      "text/html": [
       "<pre>| 1         | 5000     | 59.264072    | 0.154000          |                     | 84.697334       |</pre>"
      ],
      "text/plain": [
       "| 1         | 5000     | 59.264072    | 0.154000          |                     | 84.697334       |"
      ]
     },
     "metadata": {},
     "output_type": "display_data"
    },
    {
     "data": {
      "text/html": [
       "<pre>| 1         | 6000     | 70.989974    | 0.157833          |                     | 85.281288       |</pre>"
      ],
      "text/plain": [
       "| 1         | 6000     | 70.989974    | 0.157833          |                     | 85.281288       |"
      ]
     },
     "metadata": {},
     "output_type": "display_data"
    },
    {
     "data": {
      "text/html": [
       "<pre>| 1         | 7000     | 82.764752    | 0.162429          |                     | 84.927422       |</pre>"
      ],
      "text/plain": [
       "| 1         | 7000     | 82.764752    | 0.162429          |                     | 84.927422       |"
      ]
     },
     "metadata": {},
     "output_type": "display_data"
    },
    {
     "data": {
      "text/html": [
       "<pre>| 1         | 8000     | 94.477266    | 0.167125          |                     | 85.378624       |</pre>"
      ],
      "text/plain": [
       "| 1         | 8000     | 94.477266    | 0.167125          |                     | 85.378624       |"
      ]
     },
     "metadata": {},
     "output_type": "display_data"
    },
    {
     "data": {
      "text/html": [
       "<pre>| 1         | 9000     | 106.136762   | 0.171222          |                     | 85.766998       |</pre>"
      ],
      "text/plain": [
       "| 1         | 9000     | 106.136762   | 0.171222          |                     | 85.766998       |"
      ]
     },
     "metadata": {},
     "output_type": "display_data"
    },
    {
     "data": {
      "text/html": [
       "<pre>| 1         | 10000    | 117.927756   | 0.174200          |                     | 84.810493       |</pre>"
      ],
      "text/plain": [
       "| 1         | 10000    | 117.927756   | 0.174200          |                     | 84.810493       |"
      ]
     },
     "metadata": {},
     "output_type": "display_data"
    },
    {
     "data": {
      "text/html": [
       "<pre>| 1         | 11000    | 129.643438   | 0.176727          |                     | 85.355820       |</pre>"
      ],
      "text/plain": [
       "| 1         | 11000    | 129.643438   | 0.176727          |                     | 85.355820       |"
      ]
     },
     "metadata": {},
     "output_type": "display_data"
    },
    {
     "data": {
      "text/html": [
       "<pre>| 1         | 12000    | 141.342735   | 0.178417          |                     | 85.475227       |</pre>"
      ],
      "text/plain": [
       "| 1         | 12000    | 141.342735   | 0.178417          |                     | 85.475227       |"
      ]
     },
     "metadata": {},
     "output_type": "display_data"
    },
    {
     "data": {
      "text/html": [
       "<pre>| 1         | 13000    | 153.012030   | 0.179231          |                     | 85.694969       |</pre>"
      ],
      "text/plain": [
       "| 1         | 13000    | 153.012030   | 0.179231          |                     | 85.694969       |"
      ]
     },
     "metadata": {},
     "output_type": "display_data"
    },
    {
     "data": {
      "text/html": [
       "<pre>| 1         | 14000    | 164.667211   | 0.182929          |                     | 85.798622       |</pre>"
      ],
      "text/plain": [
       "| 1         | 14000    | 164.667211   | 0.182929          |                     | 85.798622       |"
      ]
     },
     "metadata": {},
     "output_type": "display_data"
    },
    {
     "data": {
      "text/html": [
       "<pre>| 1         | 15000    | 176.295346   | 0.186533          |                     | 85.998306       |</pre>"
      ],
      "text/plain": [
       "| 1         | 15000    | 176.295346   | 0.186533          |                     | 85.998306       |"
      ]
     },
     "metadata": {},
     "output_type": "display_data"
    },
    {
     "data": {
      "text/html": [
       "<pre>| 1         | 16000    | 187.869868   | 0.189688          |                     | 86.396660       |</pre>"
      ],
      "text/plain": [
       "| 1         | 16000    | 187.869868   | 0.189688          |                     | 86.396660       |"
      ]
     },
     "metadata": {},
     "output_type": "display_data"
    },
    {
     "data": {
      "text/html": [
       "<pre>| 1         | 17000    | 199.374937   | 0.193235          |                     | 86.918350       |</pre>"
      ],
      "text/plain": [
       "| 1         | 17000    | 199.374937   | 0.193235          |                     | 86.918350       |"
      ]
     },
     "metadata": {},
     "output_type": "display_data"
    },
    {
     "data": {
      "text/html": [
       "<pre>| 1         | 18000    | 211.053508   | 0.196333          |                     | 85.626778       |</pre>"
      ],
      "text/plain": [
       "| 1         | 18000    | 211.053508   | 0.196333          |                     | 85.626778       |"
      ]
     },
     "metadata": {},
     "output_type": "display_data"
    },
    {
     "data": {
      "text/html": [
       "<pre>| 1         | 19000    | 222.604187   | 0.200000          |                     | 86.575005       |</pre>"
      ],
      "text/plain": [
       "| 1         | 19000    | 222.604187   | 0.200000          |                     | 86.575005       |"
      ]
     },
     "metadata": {},
     "output_type": "display_data"
    },
    {
     "data": {
      "text/html": [
       "<pre>| 1         | 20000    | 234.159656   | 0.203900          |                     | 86.539108       |</pre>"
      ],
      "text/plain": [
       "| 1         | 20000    | 234.159656   | 0.203900          |                     | 86.539108       |"
      ]
     },
     "metadata": {},
     "output_type": "display_data"
    },
    {
     "data": {
      "text/html": [
       "<pre>| 1         | 21000    | 245.724658   | 0.207238          |                     | 86.467789       |</pre>"
      ],
      "text/plain": [
       "| 1         | 21000    | 245.724658   | 0.207238          |                     | 86.467789       |"
      ]
     },
     "metadata": {},
     "output_type": "display_data"
    },
    {
     "data": {
      "text/html": [
       "<pre>| 1         | 22000    | 257.425462   | 0.211364          |                     | 85.464203       |</pre>"
      ],
      "text/plain": [
       "| 1         | 22000    | 257.425462   | 0.211364          |                     | 85.464203       |"
      ]
     },
     "metadata": {},
     "output_type": "display_data"
    },
    {
     "data": {
      "text/html": [
       "<pre>| 1         | 23000    | 269.014358   | 0.215870          |                     | 86.289490       |</pre>"
      ],
      "text/plain": [
       "| 1         | 23000    | 269.014358   | 0.215870          |                     | 86.289490       |"
      ]
     },
     "metadata": {},
     "output_type": "display_data"
    },
    {
     "data": {
      "text/html": [
       "<pre>| 1         | 24000    | 280.581409   | 0.220250          |                     | 86.452461       |</pre>"
      ],
      "text/plain": [
       "| 1         | 24000    | 280.581409   | 0.220250          |                     | 86.452461       |"
      ]
     },
     "metadata": {},
     "output_type": "display_data"
    },
    {
     "data": {
      "text/html": [
       "<pre>| 1         | 25000    | 292.067745   | 0.224480          |                     | 87.059959       |</pre>"
      ],
      "text/plain": [
       "| 1         | 25000    | 292.067745   | 0.224480          |                     | 87.059959       |"
      ]
     },
     "metadata": {},
     "output_type": "display_data"
    },
    {
     "data": {
      "text/html": [
       "<pre>| 1         | 26000    | 303.659369   | 0.229077          |                     | 86.269348       |</pre>"
      ],
      "text/plain": [
       "| 1         | 26000    | 303.659369   | 0.229077          |                     | 86.269348       |"
      ]
     },
     "metadata": {},
     "output_type": "display_data"
    },
    {
     "data": {
      "text/html": [
       "<pre>| 1         | 27000    | 315.282709   | 0.233222          |                     | 86.033653       |</pre>"
      ],
      "text/plain": [
       "| 1         | 27000    | 315.282709   | 0.233222          |                     | 86.033653       |"
      ]
     },
     "metadata": {},
     "output_type": "display_data"
    },
    {
     "data": {
      "text/html": [
       "<pre>| 1         | 28000    | 326.994816   | 0.237786          |                     | 85.381729       |</pre>"
      ],
      "text/plain": [
       "| 1         | 28000    | 326.994816   | 0.237786          |                     | 85.381729       |"
      ]
     },
     "metadata": {},
     "output_type": "display_data"
    },
    {
     "data": {
      "text/html": [
       "<pre>| 1         | 29000    | 338.605860   | 0.241379          |                     | 86.124893       |</pre>"
      ],
      "text/plain": [
       "| 1         | 29000    | 338.605860   | 0.241379          |                     | 86.124893       |"
      ]
     },
     "metadata": {},
     "output_type": "display_data"
    },
    {
     "data": {
      "text/html": [
       "<pre>| 1         | 30000    | 350.121679   | 0.245800          |                     | 86.837082       |</pre>"
      ],
      "text/plain": [
       "| 1         | 30000    | 350.121679   | 0.245800          |                     | 86.837082       |"
      ]
     },
     "metadata": {},
     "output_type": "display_data"
    },
    {
     "data": {
      "text/html": [
       "<pre>| 1         | 31000    | 361.533583   | 0.250710          |                     | 87.627800       |</pre>"
      ],
      "text/plain": [
       "| 1         | 31000    | 361.533583   | 0.250710          |                     | 87.627800       |"
      ]
     },
     "metadata": {},
     "output_type": "display_data"
    },
    {
     "data": {
      "text/html": [
       "<pre>| 1         | 32000    | 372.975685   | 0.255219          |                     | 87.396530       |</pre>"
      ],
      "text/plain": [
       "| 1         | 32000    | 372.975685   | 0.255219          |                     | 87.396530       |"
      ]
     },
     "metadata": {},
     "output_type": "display_data"
    },
    {
     "data": {
      "text/html": [
       "<pre>| 1         | 33000    | 384.406735   | 0.258879          |                     | 87.481163       |</pre>"
      ],
      "text/plain": [
       "| 1         | 33000    | 384.406735   | 0.258879          |                     | 87.481163       |"
      ]
     },
     "metadata": {},
     "output_type": "display_data"
    },
    {
     "data": {
      "text/html": [
       "<pre>| 1         | 34000    | 395.912919   | 0.263500          |                     | 86.909645       |</pre>"
      ],
      "text/plain": [
       "| 1         | 34000    | 395.912919   | 0.263500          |                     | 86.909645       |"
      ]
     },
     "metadata": {},
     "output_type": "display_data"
    },
    {
     "data": {
      "text/html": [
       "<pre>| 1         | 35000    | 407.449737   | 0.268057          |                     | 86.679008       |</pre>"
      ],
      "text/plain": [
       "| 1         | 35000    | 407.449737   | 0.268057          |                     | 86.679008       |"
      ]
     },
     "metadata": {},
     "output_type": "display_data"
    },
    {
     "data": {
      "text/html": [
       "<pre>| 1         | 36000    | 418.842586   | 0.272778          |                     | 87.774353       |</pre>"
      ],
      "text/plain": [
       "| 1         | 36000    | 418.842586   | 0.272778          |                     | 87.774353       |"
      ]
     },
     "metadata": {},
     "output_type": "display_data"
    },
    {
     "data": {
      "text/html": [
       "<pre>| 1         | 37000    | 430.274594   | 0.277000          |                     | 87.473709       |</pre>"
      ],
      "text/plain": [
       "| 1         | 37000    | 430.274594   | 0.277000          |                     | 87.473709       |"
      ]
     },
     "metadata": {},
     "output_type": "display_data"
    },
    {
     "data": {
      "text/html": [
       "<pre>| 1         | 38000    | 441.701010   | 0.281289          |                     | 87.516502       |</pre>"
      ],
      "text/plain": [
       "| 1         | 38000    | 441.701010   | 0.281289          |                     | 87.516502       |"
      ]
     },
     "metadata": {},
     "output_type": "display_data"
    },
    {
     "data": {
      "text/html": [
       "<pre>| 1         | 39000    | 453.121597   | 0.285000          |                     | 87.561325       |</pre>"
      ],
      "text/plain": [
       "| 1         | 39000    | 453.121597   | 0.285000          |                     | 87.561325       |"
      ]
     },
     "metadata": {},
     "output_type": "display_data"
    },
    {
     "data": {
      "text/html": [
       "<pre>| 1         | 40000    | 464.549408   | 0.289025          |                     | 87.505669       |</pre>"
      ],
      "text/plain": [
       "| 1         | 40000    | 464.549408   | 0.289025          |                     | 87.505669       |"
      ]
     },
     "metadata": {},
     "output_type": "display_data"
    },
    {
     "data": {
      "text/html": [
       "<pre>| 1         | 41000    | 476.172566   | 0.293244          |                     | 86.035141       |</pre>"
      ],
      "text/plain": [
       "| 1         | 41000    | 476.172566   | 0.293244          |                     | 86.035141       |"
      ]
     },
     "metadata": {},
     "output_type": "display_data"
    },
    {
     "data": {
      "text/html": [
       "<pre>| 1         | 42000    | 487.969142   | 0.297357          |                     | 84.770363       |</pre>"
      ],
      "text/plain": [
       "| 1         | 42000    | 487.969142   | 0.297357          |                     | 84.770363       |"
      ]
     },
     "metadata": {},
     "output_type": "display_data"
    },
    {
     "data": {
      "text/html": [
       "<pre>| 1         | 43000    | 499.409715   | 0.301953          |                     | 87.408211       |</pre>"
      ],
      "text/plain": [
       "| 1         | 43000    | 499.409715   | 0.301953          |                     | 87.408211       |"
      ]
     },
     "metadata": {},
     "output_type": "display_data"
    },
    {
     "data": {
      "text/html": [
       "<pre>| 1         | 44000    | 510.837795   | 0.306114          |                     | 87.503761       |</pre>"
      ],
      "text/plain": [
       "| 1         | 44000    | 510.837795   | 0.306114          |                     | 87.503761       |"
      ]
     },
     "metadata": {},
     "output_type": "display_data"
    },
    {
     "data": {
      "text/html": [
       "<pre>| 1         | 45000    | 522.312260   | 0.310689          |                     | 87.150032       |</pre>"
      ],
      "text/plain": [
       "| 1         | 45000    | 522.312260   | 0.310689          |                     | 87.150032       |"
      ]
     },
     "metadata": {},
     "output_type": "display_data"
    },
    {
     "data": {
      "text/html": [
       "<pre>| 1         | 46000    | 533.788025   | 0.315022          |                     | 87.140160       |</pre>"
      ],
      "text/plain": [
       "| 1         | 46000    | 533.788025   | 0.315022          |                     | 87.140160       |"
      ]
     },
     "metadata": {},
     "output_type": "display_data"
    },
    {
     "data": {
      "text/html": [
       "<pre>| 1         | 47000    | 545.317654   | 0.318638          |                     | 86.733055       |</pre>"
      ],
      "text/plain": [
       "| 1         | 47000    | 545.317654   | 0.318638          |                     | 86.733055       |"
      ]
     },
     "metadata": {},
     "output_type": "display_data"
    },
    {
     "data": {
      "text/html": [
       "<pre>| 1         | 48000    | 556.770545   | 0.322646          |                     | 87.314201       |</pre>"
      ],
      "text/plain": [
       "| 1         | 48000    | 556.770545   | 0.322646          |                     | 87.314201       |"
      ]
     },
     "metadata": {},
     "output_type": "display_data"
    },
    {
     "data": {
      "text/html": [
       "<pre>| 1         | 49000    | 568.186374   | 0.326898          |                     | 87.597816       |</pre>"
      ],
      "text/plain": [
       "| 1         | 49000    | 568.186374   | 0.326898          |                     | 87.597816       |"
      ]
     },
     "metadata": {},
     "output_type": "display_data"
    },
    {
     "data": {
      "text/html": [
       "<pre>| 1         | 49200    | 737.303596   | 0.327805          | 0.623567            | 1.182611        |</pre>"
      ],
      "text/plain": [
       "| 1         | 49200    | 737.303596   | 0.327805          | 0.623567            | 1.182611        |"
      ]
     },
     "metadata": {},
     "output_type": "display_data"
    },
    {
     "data": {
      "text/html": [
       "<pre>| 2         | 1000     | 748.834867   | 0.508000          |                     | 86.728065       |</pre>"
      ],
      "text/plain": [
       "| 2         | 1000     | 748.834867   | 0.508000          |                     | 86.728065       |"
      ]
     },
     "metadata": {},
     "output_type": "display_data"
    },
    {
     "data": {
      "text/html": [
       "<pre>| 2         | 2000     | 760.297085   | 0.520500          |                     | 87.243149       |</pre>"
      ],
      "text/plain": [
       "| 2         | 2000     | 760.297085   | 0.520500          |                     | 87.243149       |"
      ]
     },
     "metadata": {},
     "output_type": "display_data"
    },
    {
     "data": {
      "text/html": [
       "<pre>| 2         | 3000     | 771.717882   | 0.515000          |                     | 87.559563       |</pre>"
      ],
      "text/plain": [
       "| 2         | 3000     | 771.717882   | 0.515000          |                     | 87.559563       |"
      ]
     },
     "metadata": {},
     "output_type": "display_data"
    },
    {
     "data": {
      "text/html": [
       "<pre>| 2         | 4000     | 783.076769   | 0.510750          |                     | 88.036797       |</pre>"
      ],
      "text/plain": [
       "| 2         | 4000     | 783.076769   | 0.510750          |                     | 88.036797       |"
      ]
     },
     "metadata": {},
     "output_type": "display_data"
    },
    {
     "data": {
      "text/html": [
       "<pre>| 2         | 5000     | 794.467085   | 0.513600          |                     | 87.793877       |</pre>"
      ],
      "text/plain": [
       "| 2         | 5000     | 794.467085   | 0.513600          |                     | 87.793877       |"
      ]
     },
     "metadata": {},
     "output_type": "display_data"
    },
    {
     "data": {
      "text/html": [
       "<pre>| 2         | 6000     | 805.810943   | 0.517167          |                     | 88.153435       |</pre>"
      ],
      "text/plain": [
       "| 2         | 6000     | 805.810943   | 0.517167          |                     | 88.153435       |"
      ]
     },
     "metadata": {},
     "output_type": "display_data"
    },
    {
     "data": {
      "text/html": [
       "<pre>| 2         | 7000     | 817.304403   | 0.520714          |                     | 87.005997       |</pre>"
      ],
      "text/plain": [
       "| 2         | 7000     | 817.304403   | 0.520714          |                     | 87.005997       |"
      ]
     },
     "metadata": {},
     "output_type": "display_data"
    },
    {
     "data": {
      "text/html": [
       "<pre>| 2         | 8000     | 828.716044   | 0.522625          |                     | 87.629959       |</pre>"
      ],
      "text/plain": [
       "| 2         | 8000     | 828.716044   | 0.522625          |                     | 87.629959       |"
      ]
     },
     "metadata": {},
     "output_type": "display_data"
    },
    {
     "data": {
      "text/html": [
       "<pre>| 2         | 9000     | 840.153532   | 0.525556          |                     | 87.431648       |</pre>"
      ],
      "text/plain": [
       "| 2         | 9000     | 840.153532   | 0.525556          |                     | 87.431648       |"
      ]
     },
     "metadata": {},
     "output_type": "display_data"
    },
    {
     "data": {
      "text/html": [
       "<pre>| 2         | 10000    | 851.545713   | 0.526600          |                     | 87.779640       |</pre>"
      ],
      "text/plain": [
       "| 2         | 10000    | 851.545713   | 0.526600          |                     | 87.779640       |"
      ]
     },
     "metadata": {},
     "output_type": "display_data"
    },
    {
     "data": {
      "text/html": [
       "<pre>| 2         | 11000    | 862.943180   | 0.525545          |                     | 87.738655       |</pre>"
      ],
      "text/plain": [
       "| 2         | 11000    | 862.943180   | 0.525545          |                     | 87.738655       |"
      ]
     },
     "metadata": {},
     "output_type": "display_data"
    },
    {
     "data": {
      "text/html": [
       "<pre>| 2         | 12000    | 874.472290   | 0.528083          |                     | 86.736969       |</pre>"
      ],
      "text/plain": [
       "| 2         | 12000    | 874.472290   | 0.528083          |                     | 86.736969       |"
      ]
     },
     "metadata": {},
     "output_type": "display_data"
    },
    {
     "data": {
      "text/html": [
       "<pre>| 2         | 13000    | 885.853056   | 0.530538          |                     | 87.867546       |</pre>"
      ],
      "text/plain": [
       "| 2         | 13000    | 885.853056   | 0.530538          |                     | 87.867546       |"
      ]
     },
     "metadata": {},
     "output_type": "display_data"
    },
    {
     "data": {
      "text/html": [
       "<pre>| 2         | 14000    | 897.220420   | 0.534357          |                     | 87.971283       |</pre>"
      ],
      "text/plain": [
       "| 2         | 14000    | 897.220420   | 0.534357          |                     | 87.971283       |"
      ]
     },
     "metadata": {},
     "output_type": "display_data"
    },
    {
     "data": {
      "text/html": [
       "<pre>| 2         | 15000    | 908.611010   | 0.535933          |                     | 87.791626       |</pre>"
      ],
      "text/plain": [
       "| 2         | 15000    | 908.611010   | 0.535933          |                     | 87.791626       |"
      ]
     },
     "metadata": {},
     "output_type": "display_data"
    },
    {
     "data": {
      "text/html": [
       "<pre>| 2         | 16000    | 919.971131   | 0.538250          |                     | 88.027237       |</pre>"
      ],
      "text/plain": [
       "| 2         | 16000    | 919.971131   | 0.538250          |                     | 88.027237       |"
      ]
     },
     "metadata": {},
     "output_type": "display_data"
    },
    {
     "data": {
      "text/html": [
       "<pre>| 2         | 17000    | 931.357508   | 0.541824          |                     | 87.824242       |</pre>"
      ],
      "text/plain": [
       "| 2         | 17000    | 931.357508   | 0.541824          |                     | 87.824242       |"
      ]
     },
     "metadata": {},
     "output_type": "display_data"
    },
    {
     "data": {
      "text/html": [
       "<pre>| 2         | 18000    | 942.765582   | 0.544833          |                     | 87.657219       |</pre>"
      ],
      "text/plain": [
       "| 2         | 18000    | 942.765582   | 0.544833          |                     | 87.657219       |"
      ]
     },
     "metadata": {},
     "output_type": "display_data"
    },
    {
     "data": {
      "text/html": [
       "<pre>| 2         | 19000    | 954.766709   | 0.547000          |                     | 83.325508       |</pre>"
      ],
      "text/plain": [
       "| 2         | 19000    | 954.766709   | 0.547000          |                     | 83.325508       |"
      ]
     },
     "metadata": {},
     "output_type": "display_data"
    },
    {
     "data": {
      "text/html": [
       "<pre>| 2         | 20000    | 967.221866   | 0.548150          |                     | 80.288033       |</pre>"
      ],
      "text/plain": [
       "| 2         | 20000    | 967.221866   | 0.548150          |                     | 80.288033       |"
      ]
     },
     "metadata": {},
     "output_type": "display_data"
    },
    {
     "data": {
      "text/html": [
       "<pre>| 2         | 21000    | 979.530875   | 0.549524          |                     | 81.241310       |</pre>"
      ],
      "text/plain": [
       "| 2         | 21000    | 979.530875   | 0.549524          |                     | 81.241310       |"
      ]
     },
     "metadata": {},
     "output_type": "display_data"
    },
    {
     "data": {
      "text/html": [
       "<pre>| 2         | 22000    | 991.297700   | 0.552045          |                     | 84.984688       |</pre>"
      ],
      "text/plain": [
       "| 2         | 22000    | 991.297700   | 0.552045          |                     | 84.984688       |"
      ]
     },
     "metadata": {},
     "output_type": "display_data"
    },
    {
     "data": {
      "text/html": [
       "<pre>| 2         | 23000    | 1002.780797  | 0.553609          |                     | 87.084518       |</pre>"
      ],
      "text/plain": [
       "| 2         | 23000    | 1002.780797  | 0.553609          |                     | 87.084518       |"
      ]
     },
     "metadata": {},
     "output_type": "display_data"
    },
    {
     "data": {
      "text/html": [
       "<pre>| 2         | 24000    | 1014.164292  | 0.556250          |                     | 87.846489       |</pre>"
      ],
      "text/plain": [
       "| 2         | 24000    | 1014.164292  | 0.556250          |                     | 87.846489       |"
      ]
     },
     "metadata": {},
     "output_type": "display_data"
    },
    {
     "data": {
      "text/html": [
       "<pre>| 2         | 25000    | 1025.548389  | 0.559040          |                     | 87.841835       |</pre>"
      ],
      "text/plain": [
       "| 2         | 25000    | 1025.548389  | 0.559040          |                     | 87.841835       |"
      ]
     },
     "metadata": {},
     "output_type": "display_data"
    },
    {
     "data": {
      "text/html": [
       "<pre>| 2         | 26000    | 1036.908233  | 0.562000          |                     | 88.029373       |</pre>"
      ],
      "text/plain": [
       "| 2         | 26000    | 1036.908233  | 0.562000          |                     | 88.029373       |"
      ]
     },
     "metadata": {},
     "output_type": "display_data"
    },
    {
     "data": {
      "text/html": [
       "<pre>| 2         | 27000    | 1048.383125  | 0.563556          |                     | 87.146797       |</pre>"
      ],
      "text/plain": [
       "| 2         | 27000    | 1048.383125  | 0.563556          |                     | 87.146797       |"
      ]
     },
     "metadata": {},
     "output_type": "display_data"
    },
    {
     "data": {
      "text/html": [
       "<pre>| 2         | 28000    | 1059.757420  | 0.564750          |                     | 87.917526       |</pre>"
      ],
      "text/plain": [
       "| 2         | 28000    | 1059.757420  | 0.564750          |                     | 87.917526       |"
      ]
     },
     "metadata": {},
     "output_type": "display_data"
    },
    {
     "data": {
      "text/html": [
       "<pre>| 2         | 29000    | 1071.277009  | 0.565828          |                     | 86.808655       |</pre>"
      ],
      "text/plain": [
       "| 2         | 29000    | 1071.277009  | 0.565828          |                     | 86.808655       |"
      ]
     },
     "metadata": {},
     "output_type": "display_data"
    },
    {
     "data": {
      "text/html": [
       "<pre>| 2         | 30000    | 1082.837395  | 0.567167          |                     | 86.502296       |</pre>"
      ],
      "text/plain": [
       "| 2         | 30000    | 1082.837395  | 0.567167          |                     | 86.502296       |"
      ]
     },
     "metadata": {},
     "output_type": "display_data"
    },
    {
     "data": {
      "text/html": [
       "<pre>| 2         | 31000    | 1094.356161  | 0.569387          |                     | 86.814857       |</pre>"
      ],
      "text/plain": [
       "| 2         | 31000    | 1094.356161  | 0.569387          |                     | 86.814857       |"
      ]
     },
     "metadata": {},
     "output_type": "display_data"
    },
    {
     "data": {
      "text/html": [
       "<pre>| 2         | 32000    | 1105.704776  | 0.571344          |                     | 88.116478       |</pre>"
      ],
      "text/plain": [
       "| 2         | 32000    | 1105.704776  | 0.571344          |                     | 88.116478       |"
      ]
     },
     "metadata": {},
     "output_type": "display_data"
    },
    {
     "data": {
      "text/html": [
       "<pre>| 2         | 33000    | 1117.089499  | 0.573182          |                     | 87.836998       |</pre>"
      ],
      "text/plain": [
       "| 2         | 33000    | 1117.089499  | 0.573182          |                     | 87.836998       |"
      ]
     },
     "metadata": {},
     "output_type": "display_data"
    },
    {
     "data": {
      "text/html": [
       "<pre>| 2         | 34000    | 1128.464189  | 0.575206          |                     | 87.914490       |</pre>"
      ],
      "text/plain": [
       "| 2         | 34000    | 1128.464189  | 0.575206          |                     | 87.914490       |"
      ]
     },
     "metadata": {},
     "output_type": "display_data"
    },
    {
     "data": {
      "text/html": [
       "<pre>| 2         | 35000    | 1139.841856  | 0.577143          |                     | 87.891479       |</pre>"
      ],
      "text/plain": [
       "| 2         | 35000    | 1139.841856  | 0.577143          |                     | 87.891479       |"
      ]
     },
     "metadata": {},
     "output_type": "display_data"
    },
    {
     "data": {
      "text/html": [
       "<pre>| 2         | 36000    | 1151.217763  | 0.579361          |                     | 87.905083       |</pre>"
      ],
      "text/plain": [
       "| 2         | 36000    | 1151.217763  | 0.579361          |                     | 87.905083       |"
      ]
     },
     "metadata": {},
     "output_type": "display_data"
    },
    {
     "data": {
      "text/html": [
       "<pre>| 2         | 37000    | 1162.592378  | 0.581378          |                     | 87.915070       |</pre>"
      ],
      "text/plain": [
       "| 2         | 37000    | 1162.592378  | 0.581378          |                     | 87.915070       |"
      ]
     },
     "metadata": {},
     "output_type": "display_data"
    },
    {
     "data": {
      "text/html": [
       "<pre>| 2         | 38000    | 1173.949722  | 0.583526          |                     | 88.048752       |</pre>"
      ],
      "text/plain": [
       "| 2         | 38000    | 1173.949722  | 0.583526          |                     | 88.048752       |"
      ]
     },
     "metadata": {},
     "output_type": "display_data"
    },
    {
     "data": {
      "text/html": [
       "<pre>| 2         | 39000    | 1185.317798  | 0.585103          |                     | 87.965767       |</pre>"
      ],
      "text/plain": [
       "| 2         | 39000    | 1185.317798  | 0.585103          |                     | 87.965767       |"
      ]
     },
     "metadata": {},
     "output_type": "display_data"
    },
    {
     "data": {
      "text/html": [
       "<pre>| 2         | 40000    | 1196.744486  | 0.586375          |                     | 87.514282       |</pre>"
      ],
      "text/plain": [
       "| 2         | 40000    | 1196.744486  | 0.586375          |                     | 87.514282       |"
      ]
     },
     "metadata": {},
     "output_type": "display_data"
    },
    {
     "data": {
      "text/html": [
       "<pre>| 2         | 41000    | 1208.134519  | 0.587488          |                     | 87.796204       |</pre>"
      ],
      "text/plain": [
       "| 2         | 41000    | 1208.134519  | 0.587488          |                     | 87.796204       |"
      ]
     },
     "metadata": {},
     "output_type": "display_data"
    },
    {
     "data": {
      "text/html": [
       "<pre>| 2         | 42000    | 1219.472598  | 0.588762          |                     | 88.198219       |</pre>"
      ],
      "text/plain": [
       "| 2         | 42000    | 1219.472598  | 0.588762          |                     | 88.198219       |"
      ]
     },
     "metadata": {},
     "output_type": "display_data"
    },
    {
     "data": {
      "text/html": [
       "<pre>| 2         | 43000    | 1230.811869  | 0.590884          |                     | 88.189095       |</pre>"
      ],
      "text/plain": [
       "| 2         | 43000    | 1230.811869  | 0.590884          |                     | 88.189095       |"
      ]
     },
     "metadata": {},
     "output_type": "display_data"
    },
    {
     "data": {
      "text/html": [
       "<pre>| 2         | 44000    | 1242.181171  | 0.592250          |                     | 87.956291       |</pre>"
      ],
      "text/plain": [
       "| 2         | 44000    | 1242.181171  | 0.592250          |                     | 87.956291       |"
      ]
     },
     "metadata": {},
     "output_type": "display_data"
    },
    {
     "data": {
      "text/html": [
       "<pre>| 2         | 45000    | 1253.564751  | 0.593933          |                     | 87.845673       |</pre>"
      ],
      "text/plain": [
       "| 2         | 45000    | 1253.564751  | 0.593933          |                     | 87.845673       |"
      ]
     },
     "metadata": {},
     "output_type": "display_data"
    },
    {
     "data": {
      "text/html": [
       "<pre>| 2         | 46000    | 1264.976516  | 0.595065          |                     | 87.628876       |</pre>"
      ],
      "text/plain": [
       "| 2         | 46000    | 1264.976516  | 0.595065          |                     | 87.628876       |"
      ]
     },
     "metadata": {},
     "output_type": "display_data"
    },
    {
     "data": {
      "text/html": [
       "<pre>| 2         | 47000    | 1276.314392  | 0.596404          |                     | 88.199936       |</pre>"
      ],
      "text/plain": [
       "| 2         | 47000    | 1276.314392  | 0.596404          |                     | 88.199936       |"
      ]
     },
     "metadata": {},
     "output_type": "display_data"
    },
    {
     "data": {
      "text/html": [
       "<pre>| 2         | 48000    | 1287.707090  | 0.597188          |                     | 87.775520       |</pre>"
      ],
      "text/plain": [
       "| 2         | 48000    | 1287.707090  | 0.597188          |                     | 87.775520       |"
      ]
     },
     "metadata": {},
     "output_type": "display_data"
    },
    {
     "data": {
      "text/html": [
       "<pre>| 2         | 49000    | 1299.058285  | 0.598612          |                     | 88.096451       |</pre>"
      ],
      "text/plain": [
       "| 2         | 49000    | 1299.058285  | 0.598612          |                     | 88.096451       |"
      ]
     },
     "metadata": {},
     "output_type": "display_data"
    },
    {
     "data": {
      "text/html": [
       "<pre>| 2         | 49200    | 1467.557363  | 0.598984          | 0.758285            | 1.186950        |</pre>"
      ],
      "text/plain": [
       "| 2         | 49200    | 1467.557363  | 0.598984          | 0.758285            | 1.186950        |"
      ]
     },
     "metadata": {},
     "output_type": "display_data"
    },
    {
     "data": {
      "text/html": [
       "<pre>| 3         | 1000     | 1478.915735  | 0.678000          |                     | 88.049179       |</pre>"
      ],
      "text/plain": [
       "| 3         | 1000     | 1478.915735  | 0.678000          |                     | 88.049179       |"
      ]
     },
     "metadata": {},
     "output_type": "display_data"
    },
    {
     "data": {
      "text/html": [
       "<pre>| 3         | 2000     | 1490.262579  | 0.673500          |                     | 88.130219       |</pre>"
      ],
      "text/plain": [
       "| 3         | 2000     | 1490.262579  | 0.673500          |                     | 88.130219       |"
      ]
     },
     "metadata": {},
     "output_type": "display_data"
    },
    {
     "data": {
      "text/html": [
       "<pre>| 3         | 3000     | 1501.603143  | 0.668667          |                     | 88.179047       |</pre>"
      ],
      "text/plain": [
       "| 3         | 3000     | 1501.603143  | 0.668667          |                     | 88.179047       |"
      ]
     },
     "metadata": {},
     "output_type": "display_data"
    },
    {
     "data": {
      "text/html": [
       "<pre>| 3         | 4000     | 1512.947880  | 0.663250          |                     | 88.146606       |</pre>"
      ],
      "text/plain": [
       "| 3         | 4000     | 1512.947880  | 0.663250          |                     | 88.146606       |"
      ]
     },
     "metadata": {},
     "output_type": "display_data"
    },
    {
     "data": {
      "text/html": [
       "<pre>| 3         | 5000     | 1524.266109  | 0.664000          |                     | 88.353050       |</pre>"
      ],
      "text/plain": [
       "| 3         | 5000     | 1524.266109  | 0.664000          |                     | 88.353050       |"
      ]
     },
     "metadata": {},
     "output_type": "display_data"
    },
    {
     "data": {
      "text/html": [
       "<pre>| 3         | 6000     | 1535.612960  | 0.662333          |                     | 88.130173       |</pre>"
      ],
      "text/plain": [
       "| 3         | 6000     | 1535.612960  | 0.662333          |                     | 88.130173       |"
      ]
     },
     "metadata": {},
     "output_type": "display_data"
    },
    {
     "data": {
      "text/html": [
       "<pre>| 3         | 7000     | 1547.003886  | 0.665571          |                     | 87.789177       |</pre>"
      ],
      "text/plain": [
       "| 3         | 7000     | 1547.003886  | 0.665571          |                     | 87.789177       |"
      ]
     },
     "metadata": {},
     "output_type": "display_data"
    },
    {
     "data": {
      "text/html": [
       "<pre>| 3         | 8000     | 1558.350210  | 0.666875          |                     | 88.134270       |</pre>"
      ],
      "text/plain": [
       "| 3         | 8000     | 1558.350210  | 0.666875          |                     | 88.134270       |"
      ]
     },
     "metadata": {},
     "output_type": "display_data"
    },
    {
     "data": {
      "text/html": [
       "<pre>| 3         | 9000     | 1569.699537  | 0.665222          |                     | 88.110954       |</pre>"
      ],
      "text/plain": [
       "| 3         | 9000     | 1569.699537  | 0.665222          |                     | 88.110954       |"
      ]
     },
     "metadata": {},
     "output_type": "display_data"
    },
    {
     "data": {
      "text/html": [
       "<pre>| 3         | 10000    | 1581.029124  | 0.669200          |                     | 88.264473       |</pre>"
      ],
      "text/plain": [
       "| 3         | 10000    | 1581.029124  | 0.669200          |                     | 88.264473       |"
      ]
     },
     "metadata": {},
     "output_type": "display_data"
    },
    {
     "data": {
      "text/html": [
       "<pre>| 3         | 11000    | 1592.341790  | 0.668182          |                     | 88.396492       |</pre>"
      ],
      "text/plain": [
       "| 3         | 11000    | 1592.341790  | 0.668182          |                     | 88.396492       |"
      ]
     },
     "metadata": {},
     "output_type": "display_data"
    },
    {
     "data": {
      "text/html": [
       "<pre>| 3         | 12000    | 1603.682342  | 0.669667          |                     | 88.179131       |</pre>"
      ],
      "text/plain": [
       "| 3         | 12000    | 1603.682342  | 0.669667          |                     | 88.179131       |"
      ]
     },
     "metadata": {},
     "output_type": "display_data"
    },
    {
     "data": {
      "text/html": [
       "<pre>| 3         | 13000    | 1615.053113  | 0.671462          |                     | 87.944786       |</pre>"
      ],
      "text/plain": [
       "| 3         | 13000    | 1615.053113  | 0.671462          |                     | 87.944786       |"
      ]
     },
     "metadata": {},
     "output_type": "display_data"
    },
    {
     "data": {
      "text/html": [
       "<pre>| 3         | 14000    | 1626.396241  | 0.672357          |                     | 88.159103       |</pre>"
      ],
      "text/plain": [
       "| 3         | 14000    | 1626.396241  | 0.672357          |                     | 88.159103       |"
      ]
     },
     "metadata": {},
     "output_type": "display_data"
    },
    {
     "data": {
      "text/html": [
       "<pre>| 3         | 15000    | 1637.713866  | 0.673400          |                     | 88.357910       |</pre>"
      ],
      "text/plain": [
       "| 3         | 15000    | 1637.713866  | 0.673400          |                     | 88.357910       |"
      ]
     },
     "metadata": {},
     "output_type": "display_data"
    },
    {
     "data": {
      "text/html": [
       "<pre>| 3         | 16000    | 1649.052196  | 0.674937          |                     | 88.196259       |</pre>"
      ],
      "text/plain": [
       "| 3         | 16000    | 1649.052196  | 0.674937          |                     | 88.196259       |"
      ]
     },
     "metadata": {},
     "output_type": "display_data"
    },
    {
     "data": {
      "text/html": [
       "<pre>| 3         | 17000    | 1660.398335  | 0.675000          |                     | 88.135696       |</pre>"
      ],
      "text/plain": [
       "| 3         | 17000    | 1660.398335  | 0.675000          |                     | 88.135696       |"
      ]
     },
     "metadata": {},
     "output_type": "display_data"
    },
    {
     "data": {
      "text/html": [
       "<pre>| 3         | 18000    | 1671.840837  | 0.676167          |                     | 87.393478       |</pre>"
      ],
      "text/plain": [
       "| 3         | 18000    | 1671.840837  | 0.676167          |                     | 87.393478       |"
      ]
     },
     "metadata": {},
     "output_type": "display_data"
    },
    {
     "data": {
      "text/html": [
       "<pre>| 3         | 19000    | 1683.167639  | 0.674947          |                     | 88.286186       |</pre>"
      ],
      "text/plain": [
       "| 3         | 19000    | 1683.167639  | 0.674947          |                     | 88.286186       |"
      ]
     },
     "metadata": {},
     "output_type": "display_data"
    },
    {
     "data": {
      "text/html": [
       "<pre>| 3         | 20000    | 1694.561885  | 0.676250          |                     | 87.763588       |</pre>"
      ],
      "text/plain": [
       "| 3         | 20000    | 1694.561885  | 0.676250          |                     | 87.763588       |"
      ]
     },
     "metadata": {},
     "output_type": "display_data"
    },
    {
     "data": {
      "text/html": [
       "<pre>| 3         | 21000    | 1705.895228  | 0.675143          |                     | 88.235222       |</pre>"
      ],
      "text/plain": [
       "| 3         | 21000    | 1705.895228  | 0.675143          |                     | 88.235222       |"
      ]
     },
     "metadata": {},
     "output_type": "display_data"
    },
    {
     "data": {
      "text/html": [
       "<pre>| 3         | 22000    | 1717.284366  | 0.676227          |                     | 87.802956       |</pre>"
      ],
      "text/plain": [
       "| 3         | 22000    | 1717.284366  | 0.676227          |                     | 87.802956       |"
      ]
     },
     "metadata": {},
     "output_type": "display_data"
    },
    {
     "data": {
      "text/html": [
       "<pre>| 3         | 23000    | 1728.590909  | 0.676087          |                     | 88.444351       |</pre>"
      ],
      "text/plain": [
       "| 3         | 23000    | 1728.590909  | 0.676087          |                     | 88.444351       |"
      ]
     },
     "metadata": {},
     "output_type": "display_data"
    },
    {
     "data": {
      "text/html": [
       "<pre>| 3         | 24000    | 1739.900169  | 0.676292          |                     | 88.423119       |</pre>"
      ],
      "text/plain": [
       "| 3         | 24000    | 1739.900169  | 0.676292          |                     | 88.423119       |"
      ]
     },
     "metadata": {},
     "output_type": "display_data"
    },
    {
     "data": {
      "text/html": [
       "<pre>| 3         | 25000    | 1751.276830  | 0.677400          |                     | 87.899406       |</pre>"
      ],
      "text/plain": [
       "| 3         | 25000    | 1751.276830  | 0.677400          |                     | 87.899406       |"
      ]
     },
     "metadata": {},
     "output_type": "display_data"
    },
    {
     "data": {
      "text/html": [
       "<pre>| 3         | 26000    | 1762.599382  | 0.677385          |                     | 88.319160       |</pre>"
      ],
      "text/plain": [
       "| 3         | 26000    | 1762.599382  | 0.677385          |                     | 88.319160       |"
      ]
     },
     "metadata": {},
     "output_type": "display_data"
    },
    {
     "data": {
      "text/html": [
       "<pre>| 3         | 27000    | 1773.941621  | 0.677481          |                     | 88.166016       |</pre>"
      ],
      "text/plain": [
       "| 3         | 27000    | 1773.941621  | 0.677481          |                     | 88.166016       |"
      ]
     },
     "metadata": {},
     "output_type": "display_data"
    },
    {
     "data": {
      "text/html": [
       "<pre>| 3         | 28000    | 1785.314760  | 0.677929          |                     | 87.926476       |</pre>"
      ],
      "text/plain": [
       "| 3         | 28000    | 1785.314760  | 0.677929          |                     | 87.926476       |"
      ]
     },
     "metadata": {},
     "output_type": "display_data"
    },
    {
     "data": {
      "text/html": [
       "<pre>| 3         | 29000    | 1796.712514  | 0.678379          |                     | 87.736588       |</pre>"
      ],
      "text/plain": [
       "| 3         | 29000    | 1796.712514  | 0.678379          |                     | 87.736588       |"
      ]
     },
     "metadata": {},
     "output_type": "display_data"
    },
    {
     "data": {
      "text/html": [
       "<pre>| 3         | 30000    | 1808.069654  | 0.679100          |                     | 88.050331       |</pre>"
      ],
      "text/plain": [
       "| 3         | 30000    | 1808.069654  | 0.679100          |                     | 88.050331       |"
      ]
     },
     "metadata": {},
     "output_type": "display_data"
    },
    {
     "data": {
      "text/html": [
       "<pre>| 3         | 31000    | 1819.452502  | 0.680129          |                     | 87.851471       |</pre>"
      ],
      "text/plain": [
       "| 3         | 31000    | 1819.452502  | 0.680129          |                     | 87.851471       |"
      ]
     },
     "metadata": {},
     "output_type": "display_data"
    },
    {
     "data": {
      "text/html": [
       "<pre>| 3         | 32000    | 1830.755035  | 0.680281          |                     | 88.475754       |</pre>"
      ],
      "text/plain": [
       "| 3         | 32000    | 1830.755035  | 0.680281          |                     | 88.475754       |"
      ]
     },
     "metadata": {},
     "output_type": "display_data"
    },
    {
     "data": {
      "text/html": [
       "<pre>| 3         | 33000    | 1842.097981  | 0.680939          |                     | 88.160660       |</pre>"
      ],
      "text/plain": [
       "| 3         | 33000    | 1842.097981  | 0.680939          |                     | 88.160660       |"
      ]
     },
     "metadata": {},
     "output_type": "display_data"
    },
    {
     "data": {
      "text/html": [
       "<pre>| 3         | 34000    | 1853.408866  | 0.681294          |                     | 88.410271       |</pre>"
      ],
      "text/plain": [
       "| 3         | 34000    | 1853.408866  | 0.681294          |                     | 88.410271       |"
      ]
     },
     "metadata": {},
     "output_type": "display_data"
    },
    {
     "data": {
      "text/html": [
       "<pre>| 3         | 35000    | 1864.795034  | 0.682200          |                     | 87.825859       |</pre>"
      ],
      "text/plain": [
       "| 3         | 35000    | 1864.795034  | 0.682200          |                     | 87.825859       |"
      ]
     },
     "metadata": {},
     "output_type": "display_data"
    },
    {
     "data": {
      "text/html": [
       "<pre>| 3         | 36000    | 1876.106144  | 0.682556          |                     | 88.408653       |</pre>"
      ],
      "text/plain": [
       "| 3         | 36000    | 1876.106144  | 0.682556          |                     | 88.408653       |"
      ]
     },
     "metadata": {},
     "output_type": "display_data"
    },
    {
     "data": {
      "text/html": [
       "<pre>| 3         | 37000    | 1887.476148  | 0.682892          |                     | 87.950714       |</pre>"
      ],
      "text/plain": [
       "| 3         | 37000    | 1887.476148  | 0.682892          |                     | 87.950714       |"
      ]
     },
     "metadata": {},
     "output_type": "display_data"
    },
    {
     "data": {
      "text/html": [
       "<pre>| 3         | 38000    | 1898.804811  | 0.684158          |                     | 88.271820       |</pre>"
      ],
      "text/plain": [
       "| 3         | 38000    | 1898.804811  | 0.684158          |                     | 88.271820       |"
      ]
     },
     "metadata": {},
     "output_type": "display_data"
    },
    {
     "data": {
      "text/html": [
       "<pre>| 3         | 39000    | 1910.205851  | 0.684385          |                     | 87.711151       |</pre>"
      ],
      "text/plain": [
       "| 3         | 39000    | 1910.205851  | 0.684385          |                     | 87.711151       |"
      ]
     },
     "metadata": {},
     "output_type": "display_data"
    },
    {
     "data": {
      "text/html": [
       "<pre>| 3         | 40000    | 1921.570525  | 0.684675          |                     | 87.991966       |</pre>"
      ],
      "text/plain": [
       "| 3         | 40000    | 1921.570525  | 0.684675          |                     | 87.991966       |"
      ]
     },
     "metadata": {},
     "output_type": "display_data"
    },
    {
     "data": {
      "text/html": [
       "<pre>| 3         | 41000    | 1932.987535  | 0.685293          |                     | 87.588615       |</pre>"
      ],
      "text/plain": [
       "| 3         | 41000    | 1932.987535  | 0.685293          |                     | 87.588615       |"
      ]
     },
     "metadata": {},
     "output_type": "display_data"
    },
    {
     "data": {
      "text/html": [
       "<pre>| 3         | 42000    | 1944.319143  | 0.685643          |                     | 88.248718       |</pre>"
      ],
      "text/plain": [
       "| 3         | 42000    | 1944.319143  | 0.685643          |                     | 88.248718       |"
      ]
     },
     "metadata": {},
     "output_type": "display_data"
    },
    {
     "data": {
      "text/html": [
       "<pre>| 3         | 43000    | 1955.661645  | 0.686256          |                     | 88.163971       |</pre>"
      ],
      "text/plain": [
       "| 3         | 43000    | 1955.661645  | 0.686256          |                     | 88.163971       |"
      ]
     },
     "metadata": {},
     "output_type": "display_data"
    },
    {
     "data": {
      "text/html": [
       "<pre>| 3         | 44000    | 1966.956506  | 0.686000          |                     | 88.535835       |</pre>"
      ],
      "text/plain": [
       "| 3         | 44000    | 1966.956506  | 0.686000          |                     | 88.535835       |"
      ]
     },
     "metadata": {},
     "output_type": "display_data"
    },
    {
     "data": {
      "text/html": [
       "<pre>| 3         | 45000    | 1978.269831  | 0.686467          |                     | 88.391342       |</pre>"
      ],
      "text/plain": [
       "| 3         | 45000    | 1978.269831  | 0.686467          |                     | 88.391342       |"
      ]
     },
     "metadata": {},
     "output_type": "display_data"
    },
    {
     "data": {
      "text/html": [
       "<pre>| 3         | 46000    | 1989.608678  | 0.686739          |                     | 88.192383       |</pre>"
      ],
      "text/plain": [
       "| 3         | 46000    | 1989.608678  | 0.686739          |                     | 88.192383       |"
      ]
     },
     "metadata": {},
     "output_type": "display_data"
    },
    {
     "data": {
      "text/html": [
       "<pre>| 3         | 47000    | 2000.924222  | 0.686809          |                     | 88.374016       |</pre>"
      ],
      "text/plain": [
       "| 3         | 47000    | 2000.924222  | 0.686809          |                     | 88.374016       |"
      ]
     },
     "metadata": {},
     "output_type": "display_data"
    },
    {
     "data": {
      "text/html": [
       "<pre>| 3         | 48000    | 2012.254575  | 0.687146          |                     | 88.258507       |</pre>"
      ],
      "text/plain": [
       "| 3         | 48000    | 2012.254575  | 0.687146          |                     | 88.258507       |"
      ]
     },
     "metadata": {},
     "output_type": "display_data"
    },
    {
     "data": {
      "text/html": [
       "<pre>| 3         | 49000    | 2023.611291  | 0.687959          |                     | 88.053772       |</pre>"
      ],
      "text/plain": [
       "| 3         | 49000    | 2023.611291  | 0.687959          |                     | 88.053772       |"
      ]
     },
     "metadata": {},
     "output_type": "display_data"
    },
    {
     "data": {
      "text/html": [
       "<pre>| 3         | 49200    | 2192.129526  | 0.688110          | 0.788365            | 1.186815        |</pre>"
      ],
      "text/plain": [
       "| 3         | 49200    | 2192.129526  | 0.688110          | 0.788365            | 1.186815        |"
      ]
     },
     "metadata": {},
     "output_type": "display_data"
    },
    {
     "data": {
      "text/html": [
       "<pre>| 4         | 1000     | 2203.476732  | 0.723000          |                     | 88.135262       |</pre>"
      ],
      "text/plain": [
       "| 4         | 1000     | 2203.476732  | 0.723000          |                     | 88.135262       |"
      ]
     },
     "metadata": {},
     "output_type": "display_data"
    },
    {
     "data": {
      "text/html": [
       "<pre>| 4         | 2000     | 2214.811502  | 0.720500          |                     | 88.224266       |</pre>"
      ],
      "text/plain": [
       "| 4         | 2000     | 2214.811502  | 0.720500          |                     | 88.224266       |"
      ]
     },
     "metadata": {},
     "output_type": "display_data"
    },
    {
     "data": {
      "text/html": [
       "<pre>| 4         | 3000     | 2226.145051  | 0.720000          |                     | 88.233467       |</pre>"
      ],
      "text/plain": [
       "| 4         | 3000     | 2226.145051  | 0.720000          |                     | 88.233467       |"
      ]
     },
     "metadata": {},
     "output_type": "display_data"
    },
    {
     "data": {
      "text/html": [
       "<pre>| 4         | 4000     | 2237.482860  | 0.717750          |                     | 88.200470       |</pre>"
      ],
      "text/plain": [
       "| 4         | 4000     | 2237.482860  | 0.717750          |                     | 88.200470       |"
      ]
     },
     "metadata": {},
     "output_type": "display_data"
    },
    {
     "data": {
      "text/html": [
       "<pre>| 4         | 5000     | 2248.814846  | 0.713600          |                     | 88.245934       |</pre>"
      ],
      "text/plain": [
       "| 4         | 5000     | 2248.814846  | 0.713600          |                     | 88.245934       |"
      ]
     },
     "metadata": {},
     "output_type": "display_data"
    },
    {
     "data": {
      "text/html": [
       "<pre>| 4         | 6000     | 2260.183696  | 0.712500          |                     | 87.959496       |</pre>"
      ],
      "text/plain": [
       "| 4         | 6000     | 2260.183696  | 0.712500          |                     | 87.959496       |"
      ]
     },
     "metadata": {},
     "output_type": "display_data"
    },
    {
     "data": {
      "text/html": [
       "<pre>| 4         | 7000     | 2271.728029  | 0.709429          |                     | 86.622589       |</pre>"
      ],
      "text/plain": [
       "| 4         | 7000     | 2271.728029  | 0.709429          |                     | 86.622589       |"
      ]
     },
     "metadata": {},
     "output_type": "display_data"
    },
    {
     "data": {
      "text/html": [
       "<pre>| 4         | 8000     | 2283.025433  | 0.710250          |                     | 88.515907       |</pre>"
      ],
      "text/plain": [
       "| 4         | 8000     | 2283.025433  | 0.710250          |                     | 88.515907       |"
      ]
     },
     "metadata": {},
     "output_type": "display_data"
    },
    {
     "data": {
      "text/html": [
       "<pre>| 4         | 9000     | 2294.411144  | 0.709778          |                     | 87.829391       |</pre>"
      ],
      "text/plain": [
       "| 4         | 9000     | 2294.411144  | 0.709778          |                     | 87.829391       |"
      ]
     },
     "metadata": {},
     "output_type": "display_data"
    },
    {
     "data": {
      "text/html": [
       "<pre>| 4         | 10000    | 2305.738579  | 0.711600          |                     | 88.281227       |</pre>"
      ],
      "text/plain": [
       "| 4         | 10000    | 2305.738579  | 0.711600          |                     | 88.281227       |"
      ]
     },
     "metadata": {},
     "output_type": "display_data"
    },
    {
     "data": {
      "text/html": [
       "<pre>| 4         | 11000    | 2317.083053  | 0.707909          |                     | 88.148651       |</pre>"
      ],
      "text/plain": [
       "| 4         | 11000    | 2317.083053  | 0.707909          |                     | 88.148651       |"
      ]
     },
     "metadata": {},
     "output_type": "display_data"
    },
    {
     "data": {
      "text/html": [
       "<pre>| 4         | 12000    | 2328.415963  | 0.707333          |                     | 88.238586       |</pre>"
      ],
      "text/plain": [
       "| 4         | 12000    | 2328.415963  | 0.707333          |                     | 88.238586       |"
      ]
     },
     "metadata": {},
     "output_type": "display_data"
    },
    {
     "data": {
      "text/html": [
       "<pre>| 4         | 13000    | 2339.755069  | 0.707000          |                     | 88.190514       |</pre>"
      ],
      "text/plain": [
       "| 4         | 13000    | 2339.755069  | 0.707000          |                     | 88.190514       |"
      ]
     },
     "metadata": {},
     "output_type": "display_data"
    },
    {
     "data": {
      "text/html": [
       "<pre>| 4         | 14000    | 2351.149324  | 0.706857          |                     | 87.763390       |</pre>"
      ],
      "text/plain": [
       "| 4         | 14000    | 2351.149324  | 0.706857          |                     | 87.763390       |"
      ]
     },
     "metadata": {},
     "output_type": "display_data"
    },
    {
     "data": {
      "text/html": [
       "<pre>| 4         | 15000    | 2362.483856  | 0.707000          |                     | 88.225960       |</pre>"
      ],
      "text/plain": [
       "| 4         | 15000    | 2362.483856  | 0.707000          |                     | 88.225960       |"
      ]
     },
     "metadata": {},
     "output_type": "display_data"
    },
    {
     "data": {
      "text/html": [
       "<pre>| 4         | 16000    | 2373.822469  | 0.708375          |                     | 88.194214       |</pre>"
      ],
      "text/plain": [
       "| 4         | 16000    | 2373.822469  | 0.708375          |                     | 88.194214       |"
      ]
     },
     "metadata": {},
     "output_type": "display_data"
    },
    {
     "data": {
      "text/html": [
       "<pre>| 4         | 17000    | 2385.147659  | 0.708941          |                     | 88.298737       |</pre>"
      ],
      "text/plain": [
       "| 4         | 17000    | 2385.147659  | 0.708941          |                     | 88.298737       |"
      ]
     },
     "metadata": {},
     "output_type": "display_data"
    },
    {
     "data": {
      "text/html": [
       "<pre>| 4         | 18000    | 2396.537271  | 0.709000          |                     | 87.799301       |</pre>"
      ],
      "text/plain": [
       "| 4         | 18000    | 2396.537271  | 0.709000          |                     | 87.799301       |"
      ]
     },
     "metadata": {},
     "output_type": "display_data"
    },
    {
     "data": {
      "text/html": [
       "<pre>| 4         | 19000    | 2407.879105  | 0.706895          |                     | 88.169167       |</pre>"
      ],
      "text/plain": [
       "| 4         | 19000    | 2407.879105  | 0.706895          |                     | 88.169167       |"
      ]
     },
     "metadata": {},
     "output_type": "display_data"
    },
    {
     "data": {
      "text/html": [
       "<pre>| 4         | 20000    | 2419.210984  | 0.707550          |                     | 88.246613       |</pre>"
      ],
      "text/plain": [
       "| 4         | 20000    | 2419.210984  | 0.707550          |                     | 88.246613       |"
      ]
     },
     "metadata": {},
     "output_type": "display_data"
    },
    {
     "data": {
      "text/html": [
       "<pre>| 4         | 21000    | 2430.531931  | 0.707476          |                     | 88.331841       |</pre>"
      ],
      "text/plain": [
       "| 4         | 21000    | 2430.531931  | 0.707476          |                     | 88.331841       |"
      ]
     },
     "metadata": {},
     "output_type": "display_data"
    },
    {
     "data": {
      "text/html": [
       "<pre>| 4         | 22000    | 2441.900944  | 0.707182          |                     | 87.958382       |</pre>"
      ],
      "text/plain": [
       "| 4         | 22000    | 2441.900944  | 0.707182          |                     | 87.958382       |"
      ]
     },
     "metadata": {},
     "output_type": "display_data"
    },
    {
     "data": {
      "text/html": [
       "<pre>| 4         | 23000    | 2453.261473  | 0.707826          |                     | 88.024071       |</pre>"
      ],
      "text/plain": [
       "| 4         | 23000    | 2453.261473  | 0.707826          |                     | 88.024071       |"
      ]
     },
     "metadata": {},
     "output_type": "display_data"
    },
    {
     "data": {
      "text/html": [
       "<pre>| 4         | 24000    | 2464.645139  | 0.708167          |                     | 87.845177       |</pre>"
      ],
      "text/plain": [
       "| 4         | 24000    | 2464.645139  | 0.708167          |                     | 87.845177       |"
      ]
     },
     "metadata": {},
     "output_type": "display_data"
    },
    {
     "data": {
      "text/html": [
       "<pre>| 4         | 25000    | 2475.976100  | 0.709080          |                     | 88.253761       |</pre>"
      ],
      "text/plain": [
       "| 4         | 25000    | 2475.976100  | 0.709080          |                     | 88.253761       |"
      ]
     },
     "metadata": {},
     "output_type": "display_data"
    },
    {
     "data": {
      "text/html": [
       "<pre>| 4         | 26000    | 2487.363768  | 0.709346          |                     | 87.814293       |</pre>"
      ],
      "text/plain": [
       "| 4         | 26000    | 2487.363768  | 0.709346          |                     | 87.814293       |"
      ]
     },
     "metadata": {},
     "output_type": "display_data"
    },
    {
     "data": {
      "text/html": [
       "<pre>| 4         | 27000    | 2498.737368  | 0.709889          |                     | 87.922905       |</pre>"
      ],
      "text/plain": [
       "| 4         | 27000    | 2498.737368  | 0.709889          |                     | 87.922905       |"
      ]
     },
     "metadata": {},
     "output_type": "display_data"
    },
    {
     "data": {
      "text/html": [
       "<pre>| 4         | 28000    | 2510.062127  | 0.709357          |                     | 88.302238       |</pre>"
      ],
      "text/plain": [
       "| 4         | 28000    | 2510.062127  | 0.709357          |                     | 88.302238       |"
      ]
     },
     "metadata": {},
     "output_type": "display_data"
    },
    {
     "data": {
      "text/html": [
       "<pre>| 4         | 29000    | 2521.458301  | 0.710103          |                     | 87.748611       |</pre>"
      ],
      "text/plain": [
       "| 4         | 29000    | 2521.458301  | 0.710103          |                     | 87.748611       |"
      ]
     },
     "metadata": {},
     "output_type": "display_data"
    },
    {
     "data": {
      "text/html": [
       "<pre>| 4         | 30000    | 2532.813305  | 0.710400          |                     | 88.066895       |</pre>"
      ],
      "text/plain": [
       "| 4         | 30000    | 2532.813305  | 0.710400          |                     | 88.066895       |"
      ]
     },
     "metadata": {},
     "output_type": "display_data"
    },
    {
     "data": {
      "text/html": [
       "<pre>| 4         | 31000    | 2544.161494  | 0.710226          |                     | 88.119789       |</pre>"
      ],
      "text/plain": [
       "| 4         | 31000    | 2544.161494  | 0.710226          |                     | 88.119789       |"
      ]
     },
     "metadata": {},
     "output_type": "display_data"
    },
    {
     "data": {
      "text/html": [
       "<pre>| 4         | 32000    | 2555.497382  | 0.710906          |                     | 88.215401       |</pre>"
      ],
      "text/plain": [
       "| 4         | 32000    | 2555.497382  | 0.710906          |                     | 88.215401       |"
      ]
     },
     "metadata": {},
     "output_type": "display_data"
    },
    {
     "data": {
      "text/html": [
       "<pre>| 4         | 33000    | 2566.868608  | 0.711303          |                     | 87.941414       |</pre>"
      ],
      "text/plain": [
       "| 4         | 33000    | 2566.868608  | 0.711303          |                     | 87.941414       |"
      ]
     },
     "metadata": {},
     "output_type": "display_data"
    },
    {
     "data": {
      "text/html": [
       "<pre>| 4         | 34000    | 2578.224312  | 0.711059          |                     | 88.061325       |</pre>"
      ],
      "text/plain": [
       "| 4         | 34000    | 2578.224312  | 0.711059          |                     | 88.061325       |"
      ]
     },
     "metadata": {},
     "output_type": "display_data"
    },
    {
     "data": {
      "text/html": [
       "<pre>| 4         | 35000    | 2589.545188  | 0.711486          |                     | 88.332527       |</pre>"
      ],
      "text/plain": [
       "| 4         | 35000    | 2589.545188  | 0.711486          |                     | 88.332527       |"
      ]
     },
     "metadata": {},
     "output_type": "display_data"
    },
    {
     "data": {
      "text/html": [
       "<pre>| 4         | 36000    | 2600.857429  | 0.711556          |                     | 88.399818       |</pre>"
      ],
      "text/plain": [
       "| 4         | 36000    | 2600.857429  | 0.711556          |                     | 88.399818       |"
      ]
     },
     "metadata": {},
     "output_type": "display_data"
    },
    {
     "data": {
      "text/html": [
       "<pre>| 4         | 37000    | 2612.252556  | 0.711459          |                     | 87.756660       |</pre>"
      ],
      "text/plain": [
       "| 4         | 37000    | 2612.252556  | 0.711459          |                     | 87.756660       |"
      ]
     },
     "metadata": {},
     "output_type": "display_data"
    },
    {
     "data": {
      "text/html": [
       "<pre>| 4         | 38000    | 2623.591081  | 0.712526          |                     | 88.194901       |</pre>"
      ],
      "text/plain": [
       "| 4         | 38000    | 2623.591081  | 0.712526          |                     | 88.194901       |"
      ]
     },
     "metadata": {},
     "output_type": "display_data"
    },
    {
     "data": {
      "text/html": [
       "<pre>| 4         | 39000    | 2634.922766  | 0.712564          |                     | 88.248268       |</pre>"
      ],
      "text/plain": [
       "| 4         | 39000    | 2634.922766  | 0.712564          |                     | 88.248268       |"
      ]
     },
     "metadata": {},
     "output_type": "display_data"
    },
    {
     "data": {
      "text/html": [
       "<pre>| 4         | 40000    | 2646.313555  | 0.712725          |                     | 87.790092       |</pre>"
      ],
      "text/plain": [
       "| 4         | 40000    | 2646.313555  | 0.712725          |                     | 87.790092       |"
      ]
     },
     "metadata": {},
     "output_type": "display_data"
    },
    {
     "data": {
      "text/html": [
       "<pre>| 4         | 41000    | 2657.648944  | 0.712732          |                     | 88.219284       |</pre>"
      ],
      "text/plain": [
       "| 4         | 41000    | 2657.648944  | 0.712732          |                     | 88.219284       |"
      ]
     },
     "metadata": {},
     "output_type": "display_data"
    },
    {
     "data": {
      "text/html": [
       "<pre>| 4         | 42000    | 2668.992146  | 0.713000          |                     | 88.158531       |</pre>"
      ],
      "text/plain": [
       "| 4         | 42000    | 2668.992146  | 0.713000          |                     | 88.158531       |"
      ]
     },
     "metadata": {},
     "output_type": "display_data"
    },
    {
     "data": {
      "text/html": [
       "<pre>| 4         | 43000    | 2680.309167  | 0.713721          |                     | 88.362633       |</pre>"
      ],
      "text/plain": [
       "| 4         | 43000    | 2680.309167  | 0.713721          |                     | 88.362633       |"
      ]
     },
     "metadata": {},
     "output_type": "display_data"
    },
    {
     "data": {
      "text/html": [
       "<pre>| 4         | 44000    | 2691.645123  | 0.714864          |                     | 88.214737       |</pre>"
      ],
      "text/plain": [
       "| 4         | 44000    | 2691.645123  | 0.714864          |                     | 88.214737       |"
      ]
     },
     "metadata": {},
     "output_type": "display_data"
    },
    {
     "data": {
      "text/html": [
       "<pre>| 4         | 45000    | 2702.973520  | 0.715156          |                     | 88.273735       |</pre>"
      ],
      "text/plain": [
       "| 4         | 45000    | 2702.973520  | 0.715156          |                     | 88.273735       |"
      ]
     },
     "metadata": {},
     "output_type": "display_data"
    },
    {
     "data": {
      "text/html": [
       "<pre>| 4         | 46000    | 2714.328796  | 0.715891          |                     | 88.064789       |</pre>"
      ],
      "text/plain": [
       "| 4         | 46000    | 2714.328796  | 0.715891          |                     | 88.064789       |"
      ]
     },
     "metadata": {},
     "output_type": "display_data"
    },
    {
     "data": {
      "text/html": [
       "<pre>| 4         | 47000    | 2725.655957  | 0.716447          |                     | 88.283363       |</pre>"
      ],
      "text/plain": [
       "| 4         | 47000    | 2725.655957  | 0.716447          |                     | 88.283363       |"
      ]
     },
     "metadata": {},
     "output_type": "display_data"
    },
    {
     "data": {
      "text/html": [
       "<pre>| 4         | 48000    | 2736.995354  | 0.716750          |                     | 88.188118       |</pre>"
      ],
      "text/plain": [
       "| 4         | 48000    | 2736.995354  | 0.716750          |                     | 88.188118       |"
      ]
     },
     "metadata": {},
     "output_type": "display_data"
    },
    {
     "data": {
      "text/html": [
       "<pre>| 4         | 49000    | 2748.425922  | 0.717367          |                     | 87.484718       |</pre>"
      ],
      "text/plain": [
       "| 4         | 49000    | 2748.425922  | 0.717367          |                     | 87.484718       |"
      ]
     },
     "metadata": {},
     "output_type": "display_data"
    },
    {
     "data": {
      "text/html": [
       "<pre>| 4         | 49200    | 2917.218510  | 0.717337          | 0.806157            | 1.184886        |</pre>"
      ],
      "text/plain": [
       "| 4         | 49200    | 2917.218510  | 0.717337          | 0.806157            | 1.184886        |"
      ]
     },
     "metadata": {},
     "output_type": "display_data"
    },
    {
     "data": {
      "text/html": [
       "<pre>| 5         | 1000     | 2928.549206  | 0.716000          |                     | 88.256691       |</pre>"
      ],
      "text/plain": [
       "| 5         | 1000     | 2928.549206  | 0.716000          |                     | 88.256691       |"
      ]
     },
     "metadata": {},
     "output_type": "display_data"
    },
    {
     "data": {
      "text/html": [
       "<pre>| 5         | 2000     | 2939.870086  | 0.724500          |                     | 88.332352       |</pre>"
      ],
      "text/plain": [
       "| 5         | 2000     | 2939.870086  | 0.724500          |                     | 88.332352       |"
      ]
     },
     "metadata": {},
     "output_type": "display_data"
    },
    {
     "data": {
      "text/html": [
       "<pre>| 5         | 3000     | 2951.243591  | 0.728667          |                     | 87.923653       |</pre>"
      ],
      "text/plain": [
       "| 5         | 3000     | 2951.243591  | 0.728667          |                     | 87.923653       |"
      ]
     },
     "metadata": {},
     "output_type": "display_data"
    },
    {
     "data": {
      "text/html": [
       "<pre>| 5         | 4000     | 2962.626795  | 0.727250          |                     | 87.848869       |</pre>"
      ],
      "text/plain": [
       "| 5         | 4000     | 2962.626795  | 0.727250          |                     | 87.848869       |"
      ]
     },
     "metadata": {},
     "output_type": "display_data"
    },
    {
     "data": {
      "text/html": [
       "<pre>| 5         | 5000     | 2974.011566  | 0.729400          |                     | 87.836494       |</pre>"
      ],
      "text/plain": [
       "| 5         | 5000     | 2974.011566  | 0.729400          |                     | 87.836494       |"
      ]
     },
     "metadata": {},
     "output_type": "display_data"
    },
    {
     "data": {
      "text/html": [
       "<pre>| 5         | 6000     | 2985.364468  | 0.730667          |                     | 88.083199       |</pre>"
      ],
      "text/plain": [
       "| 5         | 6000     | 2985.364468  | 0.730667          |                     | 88.083199       |"
      ]
     },
     "metadata": {},
     "output_type": "display_data"
    },
    {
     "data": {
      "text/html": [
       "<pre>| 5         | 7000     | 2996.684920  | 0.730000          |                     | 88.335693       |</pre>"
      ],
      "text/plain": [
       "| 5         | 7000     | 2996.684920  | 0.730000          |                     | 88.335693       |"
      ]
     },
     "metadata": {},
     "output_type": "display_data"
    },
    {
     "data": {
      "text/html": [
       "<pre>| 5         | 8000     | 3008.018710  | 0.729500          |                     | 88.231888       |</pre>"
      ],
      "text/plain": [
       "| 5         | 8000     | 3008.018710  | 0.729500          |                     | 88.231888       |"
      ]
     },
     "metadata": {},
     "output_type": "display_data"
    },
    {
     "data": {
      "text/html": [
       "<pre>| 5         | 9000     | 3019.360816  | 0.728333          |                     | 88.167046       |</pre>"
      ],
      "text/plain": [
       "| 5         | 9000     | 3019.360816  | 0.728333          |                     | 88.167046       |"
      ]
     },
     "metadata": {},
     "output_type": "display_data"
    },
    {
     "data": {
      "text/html": [
       "<pre>| 5         | 10000    | 3030.665854  | 0.730400          |                     | 88.456131       |</pre>"
      ],
      "text/plain": [
       "| 5         | 10000    | 3030.665854  | 0.730400          |                     | 88.456131       |"
      ]
     },
     "metadata": {},
     "output_type": "display_data"
    },
    {
     "data": {
      "text/html": [
       "<pre>| 5         | 11000    | 3042.026569  | 0.727091          |                     | 88.022484       |</pre>"
      ],
      "text/plain": [
       "| 5         | 11000    | 3042.026569  | 0.727091          |                     | 88.022484       |"
      ]
     },
     "metadata": {},
     "output_type": "display_data"
    },
    {
     "data": {
      "text/html": [
       "<pre>| 5         | 12000    | 3053.348833  | 0.729000          |                     | 88.321724       |</pre>"
      ],
      "text/plain": [
       "| 5         | 12000    | 3053.348833  | 0.729000          |                     | 88.321724       |"
      ]
     },
     "metadata": {},
     "output_type": "display_data"
    },
    {
     "data": {
      "text/html": [
       "<pre>| 5         | 13000    | 3064.692678  | 0.729077          |                     | 88.153381       |</pre>"
      ],
      "text/plain": [
       "| 5         | 13000    | 3064.692678  | 0.729077          |                     | 88.153381       |"
      ]
     },
     "metadata": {},
     "output_type": "display_data"
    },
    {
     "data": {
      "text/html": [
       "<pre>| 5         | 14000    | 3075.983086  | 0.730143          |                     | 88.570755       |</pre>"
      ],
      "text/plain": [
       "| 5         | 14000    | 3075.983086  | 0.730143          |                     | 88.570755       |"
      ]
     },
     "metadata": {},
     "output_type": "display_data"
    },
    {
     "data": {
      "text/html": [
       "<pre>| 5         | 15000    | 3087.333155  | 0.730467          |                     | 88.105186       |</pre>"
      ],
      "text/plain": [
       "| 5         | 15000    | 3087.333155  | 0.730467          |                     | 88.105186       |"
      ]
     },
     "metadata": {},
     "output_type": "display_data"
    },
    {
     "data": {
      "text/html": [
       "<pre>| 5         | 16000    | 3098.661033  | 0.731250          |                     | 88.277794       |</pre>"
      ],
      "text/plain": [
       "| 5         | 16000    | 3098.661033  | 0.731250          |                     | 88.277794       |"
      ]
     },
     "metadata": {},
     "output_type": "display_data"
    },
    {
     "data": {
      "text/html": [
       "<pre>| 5         | 17000    | 3110.058155  | 0.732706          |                     | 87.741455       |</pre>"
      ],
      "text/plain": [
       "| 5         | 17000    | 3110.058155  | 0.732706          |                     | 87.741455       |"
      ]
     },
     "metadata": {},
     "output_type": "display_data"
    },
    {
     "data": {
      "text/html": [
       "<pre>| 5         | 18000    | 3121.384499  | 0.733556          |                     | 88.289734       |</pre>"
      ],
      "text/plain": [
       "| 5         | 18000    | 3121.384499  | 0.733556          |                     | 88.289734       |"
      ]
     },
     "metadata": {},
     "output_type": "display_data"
    },
    {
     "data": {
      "text/html": [
       "<pre>| 5         | 19000    | 3132.745595  | 0.732579          |                     | 88.019821       |</pre>"
      ],
      "text/plain": [
       "| 5         | 19000    | 3132.745595  | 0.732579          |                     | 88.019821       |"
      ]
     },
     "metadata": {},
     "output_type": "display_data"
    },
    {
     "data": {
      "text/html": [
       "<pre>| 5         | 20000    | 3144.059991  | 0.732000          |                     | 88.382835       |</pre>"
      ],
      "text/plain": [
       "| 5         | 20000    | 3144.059991  | 0.732000          |                     | 88.382835       |"
      ]
     },
     "metadata": {},
     "output_type": "display_data"
    },
    {
     "data": {
      "text/html": [
       "<pre>| 5         | 21000    | 3155.395691  | 0.731143          |                     | 88.216873       |</pre>"
      ],
      "text/plain": [
       "| 5         | 21000    | 3155.395691  | 0.731143          |                     | 88.216873       |"
      ]
     },
     "metadata": {},
     "output_type": "display_data"
    },
    {
     "data": {
      "text/html": [
       "<pre>| 5         | 22000    | 3166.768568  | 0.731682          |                     | 87.928642       |</pre>"
      ],
      "text/plain": [
       "| 5         | 22000    | 3166.768568  | 0.731682          |                     | 87.928642       |"
      ]
     },
     "metadata": {},
     "output_type": "display_data"
    },
    {
     "data": {
      "text/html": [
       "<pre>| 5         | 23000    | 3178.101526  | 0.732435          |                     | 88.238075       |</pre>"
      ],
      "text/plain": [
       "| 5         | 23000    | 3178.101526  | 0.732435          |                     | 88.238075       |"
      ]
     },
     "metadata": {},
     "output_type": "display_data"
    },
    {
     "data": {
      "text/html": [
       "<pre>| 5         | 24000    | 3189.491868  | 0.733250          |                     | 87.793671       |</pre>"
      ],
      "text/plain": [
       "| 5         | 24000    | 3189.491868  | 0.733250          |                     | 87.793671       |"
      ]
     },
     "metadata": {},
     "output_type": "display_data"
    },
    {
     "data": {
      "text/html": [
       "<pre>| 5         | 25000    | 3200.942424  | 0.734000          |                     | 87.332008       |</pre>"
      ],
      "text/plain": [
       "| 5         | 25000    | 3200.942424  | 0.734000          |                     | 87.332008       |"
      ]
     },
     "metadata": {},
     "output_type": "display_data"
    },
    {
     "data": {
      "text/html": [
       "<pre>| 5         | 26000    | 3212.529079  | 0.734923          |                     | 86.306183       |</pre>"
      ],
      "text/plain": [
       "| 5         | 26000    | 3212.529079  | 0.734923          |                     | 86.306183       |"
      ]
     },
     "metadata": {},
     "output_type": "display_data"
    },
    {
     "data": {
      "text/html": [
       "<pre>| 5         | 27000    | 3224.188167  | 0.735037          |                     | 85.770004       |</pre>"
      ],
      "text/plain": [
       "| 5         | 27000    | 3224.188167  | 0.735037          |                     | 85.770004       |"
      ]
     },
     "metadata": {},
     "output_type": "display_data"
    },
    {
     "data": {
      "text/html": [
       "<pre>| 5         | 28000    | 3236.063444  | 0.734714          |                     | 84.208565       |</pre>"
      ],
      "text/plain": [
       "| 5         | 28000    | 3236.063444  | 0.734714          |                     | 84.208565       |"
      ]
     },
     "metadata": {},
     "output_type": "display_data"
    },
    {
     "data": {
      "text/html": [
       "<pre>| 5         | 29000    | 3248.122968  | 0.734966          |                     | 82.922012       |</pre>"
      ],
      "text/plain": [
       "| 5         | 29000    | 3248.122968  | 0.734966          |                     | 82.922012       |"
      ]
     },
     "metadata": {},
     "output_type": "display_data"
    },
    {
     "data": {
      "text/html": [
       "<pre>| 5         | 30000    | 3259.531158  | 0.735567          |                     | 87.656326       |</pre>"
      ],
      "text/plain": [
       "| 5         | 30000    | 3259.531158  | 0.735567          |                     | 87.656326       |"
      ]
     },
     "metadata": {},
     "output_type": "display_data"
    },
    {
     "data": {
      "text/html": [
       "<pre>| 5         | 31000    | 3270.962107  | 0.735742          |                     | 87.481804       |</pre>"
      ],
      "text/plain": [
       "| 5         | 31000    | 3270.962107  | 0.735742          |                     | 87.481804       |"
      ]
     },
     "metadata": {},
     "output_type": "display_data"
    },
    {
     "data": {
      "text/html": [
       "<pre>| 5         | 32000    | 3282.413568  | 0.735875          |                     | 87.325096       |</pre>"
      ],
      "text/plain": [
       "| 5         | 32000    | 3282.413568  | 0.735875          |                     | 87.325096       |"
      ]
     },
     "metadata": {},
     "output_type": "display_data"
    },
    {
     "data": {
      "text/html": [
       "<pre>| 5         | 33000    | 3293.844807  | 0.736394          |                     | 87.479729       |</pre>"
      ],
      "text/plain": [
       "| 5         | 33000    | 3293.844807  | 0.736394          |                     | 87.479729       |"
      ]
     },
     "metadata": {},
     "output_type": "display_data"
    },
    {
     "data": {
      "text/html": [
       "<pre>| 5         | 34000    | 3305.388777  | 0.736588          |                     | 86.625160       |</pre>"
      ],
      "text/plain": [
       "| 5         | 34000    | 3305.388777  | 0.736588          |                     | 86.625160       |"
      ]
     },
     "metadata": {},
     "output_type": "display_data"
    },
    {
     "data": {
      "text/html": [
       "<pre>| 5         | 35000    | 3316.890567  | 0.737743          |                     | 86.942993       |</pre>"
      ],
      "text/plain": [
       "| 5         | 35000    | 3316.890567  | 0.737743          |                     | 86.942993       |"
      ]
     },
     "metadata": {},
     "output_type": "display_data"
    },
    {
     "data": {
      "text/html": [
       "<pre>| 5         | 36000    | 3328.548890  | 0.737278          |                     | 85.775627       |</pre>"
      ],
      "text/plain": [
       "| 5         | 36000    | 3328.548890  | 0.737278          |                     | 85.775627       |"
      ]
     },
     "metadata": {},
     "output_type": "display_data"
    },
    {
     "data": {
      "text/html": [
       "<pre>| 5         | 37000    | 3340.078230  | 0.736919          |                     | 86.735229       |</pre>"
      ],
      "text/plain": [
       "| 5         | 37000    | 3340.078230  | 0.736919          |                     | 86.735229       |"
      ]
     },
     "metadata": {},
     "output_type": "display_data"
    },
    {
     "data": {
      "text/html": [
       "<pre>| 5         | 38000    | 3351.719441  | 0.737526          |                     | 85.901711       |</pre>"
      ],
      "text/plain": [
       "| 5         | 38000    | 3351.719441  | 0.737526          |                     | 85.901711       |"
      ]
     },
     "metadata": {},
     "output_type": "display_data"
    },
    {
     "data": {
      "text/html": [
       "<pre>| 5         | 39000    | 3363.210779  | 0.737872          |                     | 87.022079       |</pre>"
      ],
      "text/plain": [
       "| 5         | 39000    | 3363.210779  | 0.737872          |                     | 87.022079       |"
      ]
     },
     "metadata": {},
     "output_type": "display_data"
    },
    {
     "data": {
      "text/html": [
       "<pre>| 5         | 40000    | 3374.548229  | 0.737725          |                     | 88.203239       |</pre>"
      ],
      "text/plain": [
       "| 5         | 40000    | 3374.548229  | 0.737725          |                     | 88.203239       |"
      ]
     },
     "metadata": {},
     "output_type": "display_data"
    },
    {
     "data": {
      "text/html": [
       "<pre>| 5         | 41000    | 3385.893120  | 0.737537          |                     | 88.145416       |</pre>"
      ],
      "text/plain": [
       "| 5         | 41000    | 3385.893120  | 0.737537          |                     | 88.145416       |"
      ]
     },
     "metadata": {},
     "output_type": "display_data"
    },
    {
     "data": {
      "text/html": [
       "<pre>| 5         | 42000    | 3397.246192  | 0.737929          |                     | 88.081894       |</pre>"
      ],
      "text/plain": [
       "| 5         | 42000    | 3397.246192  | 0.737929          |                     | 88.081894       |"
      ]
     },
     "metadata": {},
     "output_type": "display_data"
    },
    {
     "data": {
      "text/html": [
       "<pre>| 5         | 43000    | 3408.560649  | 0.738837          |                     | 88.382492       |</pre>"
      ],
      "text/plain": [
       "| 5         | 43000    | 3408.560649  | 0.738837          |                     | 88.382492       |"
      ]
     },
     "metadata": {},
     "output_type": "display_data"
    },
    {
     "data": {
      "text/html": [
       "<pre>| 5         | 44000    | 3419.904402  | 0.739159          |                     | 88.154243       |</pre>"
      ],
      "text/plain": [
       "| 5         | 44000    | 3419.904402  | 0.739159          |                     | 88.154243       |"
      ]
     },
     "metadata": {},
     "output_type": "display_data"
    },
    {
     "data": {
      "text/html": [
       "<pre>| 5         | 45000    | 3431.311786  | 0.739089          |                     | 87.662521       |</pre>"
      ],
      "text/plain": [
       "| 5         | 45000    | 3431.311786  | 0.739089          |                     | 87.662521       |"
      ]
     },
     "metadata": {},
     "output_type": "display_data"
    },
    {
     "data": {
      "text/html": [
       "<pre>| 5         | 46000    | 3442.957988  | 0.739435          |                     | 85.864906       |</pre>"
      ],
      "text/plain": [
       "| 5         | 46000    | 3442.957988  | 0.739435          |                     | 85.864906       |"
      ]
     },
     "metadata": {},
     "output_type": "display_data"
    },
    {
     "data": {
      "text/html": [
       "<pre>| 5         | 47000    | 3454.503830  | 0.739638          |                     | 86.611267       |</pre>"
      ],
      "text/plain": [
       "| 5         | 47000    | 3454.503830  | 0.739638          |                     | 86.611267       |"
      ]
     },
     "metadata": {},
     "output_type": "display_data"
    },
    {
     "data": {
      "text/html": [
       "<pre>| 5         | 48000    | 3465.857415  | 0.739417          |                     | 88.078049       |</pre>"
      ],
      "text/plain": [
       "| 5         | 48000    | 3465.857415  | 0.739417          |                     | 88.078049       |"
      ]
     },
     "metadata": {},
     "output_type": "display_data"
    },
    {
     "data": {
      "text/html": [
       "<pre>| 5         | 49000    | 3477.204971  | 0.739306          |                     | 88.124557       |</pre>"
      ],
      "text/plain": [
       "| 5         | 49000    | 3477.204971  | 0.739306          |                     | 88.124557       |"
      ]
     },
     "metadata": {},
     "output_type": "display_data"
    },
    {
     "data": {
      "text/html": [
       "<pre>| 5         | 49200    | 3646.061412  | 0.739350          | 0.812239            | 1.184438        |</pre>"
      ],
      "text/plain": [
       "| 5         | 49200    | 3646.061412  | 0.739350          | 0.812239            | 1.184438        |"
      ]
     },
     "metadata": {},
     "output_type": "display_data"
    },
    {
     "data": {
      "text/html": [
       "<pre>| 6         | 1000     | 3657.372304  | 0.743000          |                     | 88.411232       |</pre>"
      ],
      "text/plain": [
       "| 6         | 1000     | 3657.372304  | 0.743000          |                     | 88.411232       |"
      ]
     },
     "metadata": {},
     "output_type": "display_data"
    },
    {
     "data": {
      "text/html": [
       "<pre>| 6         | 2000     | 3668.722411  | 0.745500          |                     | 88.104904       |</pre>"
      ],
      "text/plain": [
       "| 6         | 2000     | 3668.722411  | 0.745500          |                     | 88.104904       |"
      ]
     },
     "metadata": {},
     "output_type": "display_data"
    },
    {
     "data": {
      "text/html": [
       "<pre>| 6         | 3000     | 3680.159536  | 0.743000          |                     | 87.434555       |</pre>"
      ],
      "text/plain": [
       "| 6         | 3000     | 3680.159536  | 0.743000          |                     | 87.434555       |"
      ]
     },
     "metadata": {},
     "output_type": "display_data"
    },
    {
     "data": {
      "text/html": [
       "<pre>| 6         | 4000     | 3691.514951  | 0.742750          |                     | 88.063705       |</pre>"
      ],
      "text/plain": [
       "| 6         | 4000     | 3691.514951  | 0.742750          |                     | 88.063705       |"
      ]
     },
     "metadata": {},
     "output_type": "display_data"
    },
    {
     "data": {
      "text/html": [
       "<pre>| 6         | 5000     | 3702.859620  | 0.746200          |                     | 88.147141       |</pre>"
      ],
      "text/plain": [
       "| 6         | 5000     | 3702.859620  | 0.746200          |                     | 88.147141       |"
      ]
     },
     "metadata": {},
     "output_type": "display_data"
    },
    {
     "data": {
      "text/html": [
       "<pre>| 6         | 6000     | 3714.213598  | 0.744500          |                     | 88.074852       |</pre>"
      ],
      "text/plain": [
       "| 6         | 6000     | 3714.213598  | 0.744500          |                     | 88.074852       |"
      ]
     },
     "metadata": {},
     "output_type": "display_data"
    },
    {
     "data": {
      "text/html": [
       "<pre>| 6         | 7000     | 3725.547575  | 0.742857          |                     | 88.230423       |</pre>"
      ],
      "text/plain": [
       "| 6         | 7000     | 3725.547575  | 0.742857          |                     | 88.230423       |"
      ]
     },
     "metadata": {},
     "output_type": "display_data"
    },
    {
     "data": {
      "text/html": [
       "<pre>| 6         | 8000     | 3736.956538  | 0.743250          |                     | 87.650383       |</pre>"
      ],
      "text/plain": [
       "| 6         | 8000     | 3736.956538  | 0.743250          |                     | 87.650383       |"
      ]
     },
     "metadata": {},
     "output_type": "display_data"
    },
    {
     "data": {
      "text/html": [
       "<pre>| 6         | 9000     | 3748.288857  | 0.743111          |                     | 88.243050       |</pre>"
      ],
      "text/plain": [
       "| 6         | 9000     | 3748.288857  | 0.743111          |                     | 88.243050       |"
      ]
     },
     "metadata": {},
     "output_type": "display_data"
    },
    {
     "data": {
      "text/html": [
       "<pre>| 6         | 10000    | 3759.755341  | 0.743000          |                     | 87.210686       |</pre>"
      ],
      "text/plain": [
       "| 6         | 10000    | 3759.755341  | 0.743000          |                     | 87.210686       |"
      ]
     },
     "metadata": {},
     "output_type": "display_data"
    },
    {
     "data": {
      "text/html": [
       "<pre>| 6         | 11000    | 3771.248437  | 0.740545          |                     | 87.008766       |</pre>"
      ],
      "text/plain": [
       "| 6         | 11000    | 3771.248437  | 0.740545          |                     | 87.008766       |"
      ]
     },
     "metadata": {},
     "output_type": "display_data"
    },
    {
     "data": {
      "text/html": [
       "<pre>| 6         | 12000    | 3782.626189  | 0.740917          |                     | 87.890823       |</pre>"
      ],
      "text/plain": [
       "| 6         | 12000    | 3782.626189  | 0.740917          |                     | 87.890823       |"
      ]
     },
     "metadata": {},
     "output_type": "display_data"
    },
    {
     "data": {
      "text/html": [
       "<pre>| 6         | 13000    | 3793.964573  | 0.740000          |                     | 88.195992       |</pre>"
      ],
      "text/plain": [
       "| 6         | 13000    | 3793.964573  | 0.740000          |                     | 88.195992       |"
      ]
     },
     "metadata": {},
     "output_type": "display_data"
    },
    {
     "data": {
      "text/html": [
       "<pre>| 6         | 14000    | 3805.271253  | 0.742000          |                     | 88.443291       |</pre>"
      ],
      "text/plain": [
       "| 6         | 14000    | 3805.271253  | 0.742000          |                     | 88.443291       |"
      ]
     },
     "metadata": {},
     "output_type": "display_data"
    },
    {
     "data": {
      "text/html": [
       "<pre>| 6         | 15000    | 3816.611048  | 0.742333          |                     | 88.185013       |</pre>"
      ],
      "text/plain": [
       "| 6         | 15000    | 3816.611048  | 0.742333          |                     | 88.185013       |"
      ]
     },
     "metadata": {},
     "output_type": "display_data"
    },
    {
     "data": {
      "text/html": [
       "<pre>| 6         | 16000    | 3827.958052  | 0.742562          |                     | 88.128990       |</pre>"
      ],
      "text/plain": [
       "| 6         | 16000    | 3827.958052  | 0.742562          |                     | 88.128990       |"
      ]
     },
     "metadata": {},
     "output_type": "display_data"
    },
    {
     "data": {
      "text/html": [
       "<pre>| 6         | 17000    | 3839.281949  | 0.744118          |                     | 88.308830       |</pre>"
      ],
      "text/plain": [
       "| 6         | 17000    | 3839.281949  | 0.744118          |                     | 88.308830       |"
      ]
     },
     "metadata": {},
     "output_type": "display_data"
    },
    {
     "data": {
      "text/html": [
       "<pre>| 6         | 18000    | 3850.766368  | 0.743833          |                     | 87.074493       |</pre>"
      ],
      "text/plain": [
       "| 6         | 18000    | 3850.766368  | 0.743833          |                     | 87.074493       |"
      ]
     },
     "metadata": {},
     "output_type": "display_data"
    },
    {
     "data": {
      "text/html": [
       "<pre>| 6         | 19000    | 3862.122519  | 0.742105          |                     | 88.058006       |</pre>"
      ],
      "text/plain": [
       "| 6         | 19000    | 3862.122519  | 0.742105          |                     | 88.058006       |"
      ]
     },
     "metadata": {},
     "output_type": "display_data"
    },
    {
     "data": {
      "text/html": [
       "<pre>| 6         | 20000    | 3873.496766  | 0.742300          |                     | 87.917908       |</pre>"
      ],
      "text/plain": [
       "| 6         | 20000    | 3873.496766  | 0.742300          |                     | 87.917908       |"
      ]
     },
     "metadata": {},
     "output_type": "display_data"
    },
    {
     "data": {
      "text/html": [
       "<pre>| 6         | 21000    | 3884.805145  | 0.741714          |                     | 88.430000       |</pre>"
      ],
      "text/plain": [
       "| 6         | 21000    | 3884.805145  | 0.741714          |                     | 88.430000       |"
      ]
     },
     "metadata": {},
     "output_type": "display_data"
    },
    {
     "data": {
      "text/html": [
       "<pre>| 6         | 22000    | 3896.147046  | 0.742273          |                     | 88.168640       |</pre>"
      ],
      "text/plain": [
       "| 6         | 22000    | 3896.147046  | 0.742273          |                     | 88.168640       |"
      ]
     },
     "metadata": {},
     "output_type": "display_data"
    },
    {
     "data": {
      "text/html": [
       "<pre>| 6         | 23000    | 3907.498494  | 0.742696          |                     | 88.094490       |</pre>"
      ],
      "text/plain": [
       "| 6         | 23000    | 3907.498494  | 0.742696          |                     | 88.094490       |"
      ]
     },
     "metadata": {},
     "output_type": "display_data"
    },
    {
     "data": {
      "text/html": [
       "<pre>| 6         | 24000    | 3918.862871  | 0.744000          |                     | 87.994270       |</pre>"
      ],
      "text/plain": [
       "| 6         | 24000    | 3918.862871  | 0.744000          |                     | 87.994270       |"
      ]
     },
     "metadata": {},
     "output_type": "display_data"
    },
    {
     "data": {
      "text/html": [
       "<pre>| 6         | 25000    | 3930.190280  | 0.745480          |                     | 88.281441       |</pre>"
      ],
      "text/plain": [
       "| 6         | 25000    | 3930.190280  | 0.745480          |                     | 88.281441       |"
      ]
     },
     "metadata": {},
     "output_type": "display_data"
    },
    {
     "data": {
      "text/html": [
       "<pre>| 6         | 26000    | 3941.530027  | 0.746115          |                     | 88.185387       |</pre>"
      ],
      "text/plain": [
       "| 6         | 26000    | 3941.530027  | 0.746115          |                     | 88.185387       |"
      ]
     },
     "metadata": {},
     "output_type": "display_data"
    },
    {
     "data": {
      "text/html": [
       "<pre>| 6         | 27000    | 3952.885473  | 0.746556          |                     | 88.063469       |</pre>"
      ],
      "text/plain": [
       "| 6         | 27000    | 3952.885473  | 0.746556          |                     | 88.063469       |"
      ]
     },
     "metadata": {},
     "output_type": "display_data"
    },
    {
     "data": {
      "text/html": [
       "<pre>| 6         | 28000    | 3964.231879  | 0.745536          |                     | 88.133636       |</pre>"
      ],
      "text/plain": [
       "| 6         | 28000    | 3964.231879  | 0.745536          |                     | 88.133636       |"
      ]
     },
     "metadata": {},
     "output_type": "display_data"
    },
    {
     "data": {
      "text/html": [
       "<pre>| 6         | 29000    | 3975.623983  | 0.745828          |                     | 87.780090       |</pre>"
      ],
      "text/plain": [
       "| 6         | 29000    | 3975.623983  | 0.745828          |                     | 87.780090       |"
      ]
     },
     "metadata": {},
     "output_type": "display_data"
    },
    {
     "data": {
      "text/html": [
       "<pre>| 6         | 30000    | 3986.909345  | 0.746433          |                     | 88.610367       |</pre>"
      ],
      "text/plain": [
       "| 6         | 30000    | 3986.909345  | 0.746433          |                     | 88.610367       |"
      ]
     },
     "metadata": {},
     "output_type": "display_data"
    },
    {
     "data": {
      "text/html": [
       "<pre>| 6         | 31000    | 3998.247006  | 0.746581          |                     | 88.201614       |</pre>"
      ],
      "text/plain": [
       "| 6         | 31000    | 3998.247006  | 0.746581          |                     | 88.201614       |"
      ]
     },
     "metadata": {},
     "output_type": "display_data"
    },
    {
     "data": {
      "text/html": [
       "<pre>| 6         | 32000    | 4009.592732  | 0.746625          |                     | 88.138924       |</pre>"
      ],
      "text/plain": [
       "| 6         | 32000    | 4009.592732  | 0.746625          |                     | 88.138924       |"
      ]
     },
     "metadata": {},
     "output_type": "display_data"
    },
    {
     "data": {
      "text/html": [
       "<pre>| 6         | 33000    | 4020.958965  | 0.746758          |                     | 87.979889       |</pre>"
      ],
      "text/plain": [
       "| 6         | 33000    | 4020.958965  | 0.746758          |                     | 87.979889       |"
      ]
     },
     "metadata": {},
     "output_type": "display_data"
    },
    {
     "data": {
      "text/html": [
       "<pre>| 6         | 34000    | 4032.263089  | 0.746088          |                     | 88.463295       |</pre>"
      ],
      "text/plain": [
       "| 6         | 34000    | 4032.263089  | 0.746088          |                     | 88.463295       |"
      ]
     },
     "metadata": {},
     "output_type": "display_data"
    },
    {
     "data": {
      "text/html": [
       "<pre>| 6         | 35000    | 4043.590273  | 0.746229          |                     | 88.283195       |</pre>"
      ],
      "text/plain": [
       "| 6         | 35000    | 4043.590273  | 0.746229          |                     | 88.283195       |"
      ]
     },
     "metadata": {},
     "output_type": "display_data"
    },
    {
     "data": {
      "text/html": [
       "<pre>| 6         | 36000    | 4054.927459  | 0.745889          |                     | 88.205315       |</pre>"
      ],
      "text/plain": [
       "| 6         | 36000    | 4054.927459  | 0.745889          |                     | 88.205315       |"
      ]
     },
     "metadata": {},
     "output_type": "display_data"
    },
    {
     "data": {
      "text/html": [
       "<pre>| 6         | 37000    | 4066.228780  | 0.746108          |                     | 88.485229       |</pre>"
      ],
      "text/plain": [
       "| 6         | 37000    | 4066.228780  | 0.746108          |                     | 88.485229       |"
      ]
     },
     "metadata": {},
     "output_type": "display_data"
    },
    {
     "data": {
      "text/html": [
       "<pre>| 6         | 38000    | 4077.550377  | 0.747105          |                     | 88.326767       |</pre>"
      ],
      "text/plain": [
       "| 6         | 38000    | 4077.550377  | 0.747105          |                     | 88.326767       |"
      ]
     },
     "metadata": {},
     "output_type": "display_data"
    },
    {
     "data": {
      "text/html": [
       "<pre>| 6         | 39000    | 4088.943939  | 0.747256          |                     | 87.768860       |</pre>"
      ],
      "text/plain": [
       "| 6         | 39000    | 4088.943939  | 0.747256          |                     | 87.768860       |"
      ]
     },
     "metadata": {},
     "output_type": "display_data"
    },
    {
     "data": {
      "text/html": [
       "<pre>| 6         | 40000    | 4100.295971  | 0.747200          |                     | 88.090111       |</pre>"
      ],
      "text/plain": [
       "| 6         | 40000    | 4100.295971  | 0.747200          |                     | 88.090111       |"
      ]
     },
     "metadata": {},
     "output_type": "display_data"
    },
    {
     "data": {
      "text/html": [
       "<pre>| 6         | 41000    | 4111.653995  | 0.747220          |                     | 88.043488       |</pre>"
      ],
      "text/plain": [
       "| 6         | 41000    | 4111.653995  | 0.747220          |                     | 88.043488       |"
      ]
     },
     "metadata": {},
     "output_type": "display_data"
    },
    {
     "data": {
      "text/html": [
       "<pre>| 6         | 42000    | 4123.006337  | 0.747548          |                     | 88.087395       |</pre>"
      ],
      "text/plain": [
       "| 6         | 42000    | 4123.006337  | 0.747548          |                     | 88.087395       |"
      ]
     },
     "metadata": {},
     "output_type": "display_data"
    },
    {
     "data": {
      "text/html": [
       "<pre>| 6         | 43000    | 4134.320139  | 0.747814          |                     | 88.387619       |</pre>"
      ],
      "text/plain": [
       "| 6         | 43000    | 4134.320139  | 0.747814          |                     | 88.387619       |"
      ]
     },
     "metadata": {},
     "output_type": "display_data"
    },
    {
     "data": {
      "text/html": [
       "<pre>| 6         | 44000    | 4145.644429  | 0.748091          |                     | 88.305908       |</pre>"
      ],
      "text/plain": [
       "| 6         | 44000    | 4145.644429  | 0.748091          |                     | 88.305908       |"
      ]
     },
     "metadata": {},
     "output_type": "display_data"
    },
    {
     "data": {
      "text/html": [
       "<pre>| 6         | 45000    | 4156.981129  | 0.748089          |                     | 88.208939       |</pre>"
      ],
      "text/plain": [
       "| 6         | 45000    | 4156.981129  | 0.748089          |                     | 88.208939       |"
      ]
     },
     "metadata": {},
     "output_type": "display_data"
    },
    {
     "data": {
      "text/html": [
       "<pre>| 6         | 46000    | 4168.299839  | 0.748804          |                     | 88.349297       |</pre>"
      ],
      "text/plain": [
       "| 6         | 46000    | 4168.299839  | 0.748804          |                     | 88.349297       |"
      ]
     },
     "metadata": {},
     "output_type": "display_data"
    },
    {
     "data": {
      "text/html": [
       "<pre>| 6         | 47000    | 4179.623732  | 0.749340          |                     | 88.308853       |</pre>"
      ],
      "text/plain": [
       "| 6         | 47000    | 4179.623732  | 0.749340          |                     | 88.308853       |"
      ]
     },
     "metadata": {},
     "output_type": "display_data"
    },
    {
     "data": {
      "text/html": [
       "<pre>| 6         | 48000    | 4190.942661  | 0.749104          |                     | 88.347580       |</pre>"
      ],
      "text/plain": [
       "| 6         | 48000    | 4190.942661  | 0.749104          |                     | 88.347580       |"
      ]
     },
     "metadata": {},
     "output_type": "display_data"
    },
    {
     "data": {
      "text/html": [
       "<pre>| 6         | 49000    | 4202.314833  | 0.749367          |                     | 87.933952       |</pre>"
      ],
      "text/plain": [
       "| 6         | 49000    | 4202.314833  | 0.749367          |                     | 87.933952       |"
      ]
     },
     "metadata": {},
     "output_type": "display_data"
    },
    {
     "data": {
      "text/html": [
       "<pre>| 6         | 49200    | 4370.902321  | 0.749451          | 0.823865            | 1.186328        |</pre>"
      ],
      "text/plain": [
       "| 6         | 49200    | 4370.902321  | 0.749451          | 0.823865            | 1.186328        |"
      ]
     },
     "metadata": {},
     "output_type": "display_data"
    },
    {
     "data": {
      "text/html": [
       "<pre>| 7         | 1000     | 4382.236907  | 0.759000          |                     | 88.226425       |</pre>"
      ],
      "text/plain": [
       "| 7         | 1000     | 4382.236907  | 0.759000          |                     | 88.226425       |"
      ]
     },
     "metadata": {},
     "output_type": "display_data"
    },
    {
     "data": {
      "text/html": [
       "<pre>| 7         | 2000     | 4393.615717  | 0.752500          |                     | 87.882645       |</pre>"
      ],
      "text/plain": [
       "| 7         | 2000     | 4393.615717  | 0.752500          |                     | 87.882645       |"
      ]
     },
     "metadata": {},
     "output_type": "display_data"
    },
    {
     "data": {
      "text/html": [
       "<pre>| 7         | 3000     | 4404.912622  | 0.748333          |                     | 88.519821       |</pre>"
      ],
      "text/plain": [
       "| 7         | 3000     | 4404.912622  | 0.748333          |                     | 88.519821       |"
      ]
     },
     "metadata": {},
     "output_type": "display_data"
    },
    {
     "data": {
      "text/html": [
       "<pre>| 7         | 4000     | 4416.222288  | 0.748500          |                     | 88.419945       |</pre>"
      ],
      "text/plain": [
       "| 7         | 4000     | 4416.222288  | 0.748500          |                     | 88.419945       |"
      ]
     },
     "metadata": {},
     "output_type": "display_data"
    },
    {
     "data": {
      "text/html": [
       "<pre>| 7         | 5000     | 4427.516929  | 0.750200          |                     | 88.537712       |</pre>"
      ],
      "text/plain": [
       "| 7         | 5000     | 4427.516929  | 0.750200          |                     | 88.537712       |"
      ]
     },
     "metadata": {},
     "output_type": "display_data"
    },
    {
     "data": {
      "text/html": [
       "<pre>| 7         | 6000     | 4438.832676  | 0.745667          |                     | 88.372284       |</pre>"
      ],
      "text/plain": [
       "| 7         | 6000     | 4438.832676  | 0.745667          |                     | 88.372284       |"
      ]
     },
     "metadata": {},
     "output_type": "display_data"
    },
    {
     "data": {
      "text/html": [
       "<pre>| 7         | 7000     | 4450.188398  | 0.745857          |                     | 88.061478       |</pre>"
      ],
      "text/plain": [
       "| 7         | 7000     | 4450.188398  | 0.745857          |                     | 88.061478       |"
      ]
     },
     "metadata": {},
     "output_type": "display_data"
    },
    {
     "data": {
      "text/html": [
       "<pre>| 7         | 8000     | 4461.498055  | 0.745375          |                     | 88.419853       |</pre>"
      ],
      "text/plain": [
       "| 7         | 8000     | 4461.498055  | 0.745375          |                     | 88.419853       |"
      ]
     },
     "metadata": {},
     "output_type": "display_data"
    },
    {
     "data": {
      "text/html": [
       "<pre>| 7         | 9000     | 4472.905456  | 0.744111          |                     | 87.662392       |</pre>"
      ],
      "text/plain": [
       "| 7         | 9000     | 4472.905456  | 0.744111          |                     | 87.662392       |"
      ]
     },
     "metadata": {},
     "output_type": "display_data"
    },
    {
     "data": {
      "text/html": [
       "<pre>| 7         | 10000    | 4484.230952  | 0.745100          |                     | 88.296356       |</pre>"
      ],
      "text/plain": [
       "| 7         | 10000    | 4484.230952  | 0.745100          |                     | 88.296356       |"
      ]
     },
     "metadata": {},
     "output_type": "display_data"
    },
    {
     "data": {
      "text/html": [
       "<pre>| 7         | 11000    | 4495.536982  | 0.744455          |                     | 88.448364       |</pre>"
      ],
      "text/plain": [
       "| 7         | 11000    | 4495.536982  | 0.744455          |                     | 88.448364       |"
      ]
     },
     "metadata": {},
     "output_type": "display_data"
    },
    {
     "data": {
      "text/html": [
       "<pre>| 7         | 12000    | 4506.888379  | 0.745500          |                     | 88.095039       |</pre>"
      ],
      "text/plain": [
       "| 7         | 12000    | 4506.888379  | 0.745500          |                     | 88.095039       |"
      ]
     },
     "metadata": {},
     "output_type": "display_data"
    },
    {
     "data": {
      "text/html": [
       "<pre>| 7         | 13000    | 4518.347888  | 0.746846          |                     | 87.263771       |</pre>"
      ],
      "text/plain": [
       "| 7         | 13000    | 4518.347888  | 0.746846          |                     | 87.263771       |"
      ]
     },
     "metadata": {},
     "output_type": "display_data"
    },
    {
     "data": {
      "text/html": [
       "<pre>| 7         | 14000    | 4529.642966  | 0.747429          |                     | 88.533981       |</pre>"
      ],
      "text/plain": [
       "| 7         | 14000    | 4529.642966  | 0.747429          |                     | 88.533981       |"
      ]
     },
     "metadata": {},
     "output_type": "display_data"
    },
    {
     "data": {
      "text/html": [
       "<pre>| 7         | 15000    | 4540.983683  | 0.748667          |                     | 88.177856       |</pre>"
      ],
      "text/plain": [
       "| 7         | 15000    | 4540.983683  | 0.748667          |                     | 88.177856       |"
      ]
     },
     "metadata": {},
     "output_type": "display_data"
    },
    {
     "data": {
      "text/html": [
       "<pre>| 7         | 16000    | 4552.347668  | 0.749812          |                     | 87.997299       |</pre>"
      ],
      "text/plain": [
       "| 7         | 16000    | 4552.347668  | 0.749812          |                     | 87.997299       |"
      ]
     },
     "metadata": {},
     "output_type": "display_data"
    },
    {
     "data": {
      "text/html": [
       "<pre>| 7         | 17000    | 4563.666463  | 0.750706          |                     | 88.348625       |</pre>"
      ],
      "text/plain": [
       "| 7         | 17000    | 4563.666463  | 0.750706          |                     | 88.348625       |"
      ]
     },
     "metadata": {},
     "output_type": "display_data"
    },
    {
     "data": {
      "text/html": [
       "<pre>| 7         | 18000    | 4574.954230  | 0.751611          |                     | 88.591476       |</pre>"
      ],
      "text/plain": [
       "| 7         | 18000    | 4574.954230  | 0.751611          |                     | 88.591476       |"
      ]
     },
     "metadata": {},
     "output_type": "display_data"
    },
    {
     "data": {
      "text/html": [
       "<pre>| 7         | 19000    | 4586.254000  | 0.750895          |                     | 88.497528       |</pre>"
      ],
      "text/plain": [
       "| 7         | 19000    | 4586.254000  | 0.750895          |                     | 88.497528       |"
      ]
     },
     "metadata": {},
     "output_type": "display_data"
    },
    {
     "data": {
      "text/html": [
       "<pre>| 7         | 20000    | 4597.854258  | 0.751550          |                     | 86.204842       |</pre>"
      ],
      "text/plain": [
       "| 7         | 20000    | 4597.854258  | 0.751550          |                     | 86.204842       |"
      ]
     },
     "metadata": {},
     "output_type": "display_data"
    },
    {
     "data": {
      "text/html": [
       "<pre>| 7         | 21000    | 4609.223379  | 0.752238          |                     | 87.957550       |</pre>"
      ],
      "text/plain": [
       "| 7         | 21000    | 4609.223379  | 0.752238          |                     | 87.957550       |"
      ]
     },
     "metadata": {},
     "output_type": "display_data"
    },
    {
     "data": {
      "text/html": [
       "<pre>| 7         | 22000    | 4620.557335  | 0.753864          |                     | 88.230431       |</pre>"
      ],
      "text/plain": [
       "| 7         | 22000    | 4620.557335  | 0.753864          |                     | 88.230431       |"
      ]
     },
     "metadata": {},
     "output_type": "display_data"
    },
    {
     "data": {
      "text/html": [
       "<pre>| 7         | 23000    | 4631.884476  | 0.754609          |                     | 88.283546       |</pre>"
      ],
      "text/plain": [
       "| 7         | 23000    | 4631.884476  | 0.754609          |                     | 88.283546       |"
      ]
     },
     "metadata": {},
     "output_type": "display_data"
    },
    {
     "data": {
      "text/html": [
       "<pre>| 7         | 24000    | 4643.213405  | 0.754167          |                     | 88.269737       |</pre>"
      ],
      "text/plain": [
       "| 7         | 24000    | 4643.213405  | 0.754167          |                     | 88.269737       |"
      ]
     },
     "metadata": {},
     "output_type": "display_data"
    },
    {
     "data": {
      "text/html": [
       "<pre>| 7         | 25000    | 4654.576440  | 0.754720          |                     | 88.004517       |</pre>"
      ],
      "text/plain": [
       "| 7         | 25000    | 4654.576440  | 0.754720          |                     | 88.004517       |"
      ]
     },
     "metadata": {},
     "output_type": "display_data"
    },
    {
     "data": {
      "text/html": [
       "<pre>| 7         | 26000    | 4665.894761  | 0.754654          |                     | 88.352325       |</pre>"
      ],
      "text/plain": [
       "| 7         | 26000    | 4665.894761  | 0.754654          |                     | 88.352325       |"
      ]
     },
     "metadata": {},
     "output_type": "display_data"
    },
    {
     "data": {
      "text/html": [
       "<pre>| 7         | 27000    | 4677.233377  | 0.755000          |                     | 88.194176       |</pre>"
      ],
      "text/plain": [
       "| 7         | 27000    | 4677.233377  | 0.755000          |                     | 88.194176       |"
      ]
     },
     "metadata": {},
     "output_type": "display_data"
    },
    {
     "data": {
      "text/html": [
       "<pre>| 7         | 28000    | 4688.569228  | 0.754786          |                     | 88.215706       |</pre>"
      ],
      "text/plain": [
       "| 7         | 28000    | 4688.569228  | 0.754786          |                     | 88.215706       |"
      ]
     },
     "metadata": {},
     "output_type": "display_data"
    },
    {
     "data": {
      "text/html": [
       "<pre>| 7         | 29000    | 4699.946309  | 0.754552          |                     | 87.896004       |</pre>"
      ],
      "text/plain": [
       "| 7         | 29000    | 4699.946309  | 0.754552          |                     | 87.896004       |"
      ]
     },
     "metadata": {},
     "output_type": "display_data"
    },
    {
     "data": {
      "text/html": [
       "<pre>| 7         | 30000    | 4711.384242  | 0.754133          |                     | 87.428383       |</pre>"
      ],
      "text/plain": [
       "| 7         | 30000    | 4711.384242  | 0.754133          |                     | 87.428383       |"
      ]
     },
     "metadata": {},
     "output_type": "display_data"
    },
    {
     "data": {
      "text/html": [
       "<pre>| 7         | 31000    | 4722.713470  | 0.753871          |                     | 88.267273       |</pre>"
      ],
      "text/plain": [
       "| 7         | 31000    | 4722.713470  | 0.753871          |                     | 88.267273       |"
      ]
     },
     "metadata": {},
     "output_type": "display_data"
    },
    {
     "data": {
      "text/html": [
       "<pre>| 7         | 32000    | 4734.008231  | 0.753937          |                     | 88.536613       |</pre>"
      ],
      "text/plain": [
       "| 7         | 32000    | 4734.008231  | 0.753937          |                     | 88.536613       |"
      ]
     },
     "metadata": {},
     "output_type": "display_data"
    },
    {
     "data": {
      "text/html": [
       "<pre>| 7         | 33000    | 4745.407294  | 0.754333          |                     | 87.726517       |</pre>"
      ],
      "text/plain": [
       "| 7         | 33000    | 4745.407294  | 0.754333          |                     | 87.726517       |"
      ]
     },
     "metadata": {},
     "output_type": "display_data"
    },
    {
     "data": {
      "text/html": [
       "<pre>| 7         | 34000    | 4756.793313  | 0.754441          |                     | 87.827011       |</pre>"
      ],
      "text/plain": [
       "| 7         | 34000    | 4756.793313  | 0.754441          |                     | 87.827011       |"
      ]
     },
     "metadata": {},
     "output_type": "display_data"
    },
    {
     "data": {
      "text/html": [
       "<pre>| 7         | 35000    | 4768.080037  | 0.754914          |                     | 88.599663       |</pre>"
      ],
      "text/plain": [
       "| 7         | 35000    | 4768.080037  | 0.754914          |                     | 88.599663       |"
      ]
     },
     "metadata": {},
     "output_type": "display_data"
    },
    {
     "data": {
      "text/html": [
       "<pre>| 7         | 36000    | 4779.415944  | 0.755083          |                     | 88.215408       |</pre>"
      ],
      "text/plain": [
       "| 7         | 36000    | 4779.415944  | 0.755083          |                     | 88.215408       |"
      ]
     },
     "metadata": {},
     "output_type": "display_data"
    },
    {
     "data": {
      "text/html": [
       "<pre>| 7         | 37000    | 4790.715521  | 0.755351          |                     | 88.498894       |</pre>"
      ],
      "text/plain": [
       "| 7         | 37000    | 4790.715521  | 0.755351          |                     | 88.498894       |"
      ]
     },
     "metadata": {},
     "output_type": "display_data"
    },
    {
     "data": {
      "text/html": [
       "<pre>| 7         | 38000    | 4802.008586  | 0.755974          |                     | 88.549774       |</pre>"
      ],
      "text/plain": [
       "| 7         | 38000    | 4802.008586  | 0.755974          |                     | 88.549774       |"
      ]
     },
     "metadata": {},
     "output_type": "display_data"
    },
    {
     "data": {
      "text/html": [
       "<pre>| 7         | 39000    | 4813.381256  | 0.756385          |                     | 87.930092       |</pre>"
      ],
      "text/plain": [
       "| 7         | 39000    | 4813.381256  | 0.756385          |                     | 87.930092       |"
      ]
     },
     "metadata": {},
     "output_type": "display_data"
    },
    {
     "data": {
      "text/html": [
       "<pre>| 7         | 40000    | 4824.703023  | 0.756300          |                     | 88.325447       |</pre>"
      ],
      "text/plain": [
       "| 7         | 40000    | 4824.703023  | 0.756300          |                     | 88.325447       |"
      ]
     },
     "metadata": {},
     "output_type": "display_data"
    },
    {
     "data": {
      "text/html": [
       "<pre>| 7         | 41000    | 4836.139044  | 0.756732          |                     | 87.442986       |</pre>"
      ],
      "text/plain": [
       "| 7         | 41000    | 4836.139044  | 0.756732          |                     | 87.442986       |"
      ]
     },
     "metadata": {},
     "output_type": "display_data"
    },
    {
     "data": {
      "text/html": [
       "<pre>| 7         | 42000    | 4847.427828  | 0.756810          |                     | 88.583504       |</pre>"
      ],
      "text/plain": [
       "| 7         | 42000    | 4847.427828  | 0.756810          |                     | 88.583504       |"
      ]
     },
     "metadata": {},
     "output_type": "display_data"
    },
    {
     "data": {
      "text/html": [
       "<pre>| 7         | 43000    | 4858.757399  | 0.757651          |                     | 88.264595       |</pre>"
      ],
      "text/plain": [
       "| 7         | 43000    | 4858.757399  | 0.757651          |                     | 88.264595       |"
      ]
     },
     "metadata": {},
     "output_type": "display_data"
    },
    {
     "data": {
      "text/html": [
       "<pre>| 7         | 44000    | 4870.103754  | 0.758023          |                     | 88.134033       |</pre>"
      ],
      "text/plain": [
       "| 7         | 44000    | 4870.103754  | 0.758023          |                     | 88.134033       |"
      ]
     },
     "metadata": {},
     "output_type": "display_data"
    },
    {
     "data": {
      "text/html": [
       "<pre>| 7         | 45000    | 4881.446379  | 0.758556          |                     | 88.163162       |</pre>"
      ],
      "text/plain": [
       "| 7         | 45000    | 4881.446379  | 0.758556          |                     | 88.163162       |"
      ]
     },
     "metadata": {},
     "output_type": "display_data"
    },
    {
     "data": {
      "text/html": [
       "<pre>| 7         | 46000    | 4892.749873  | 0.758326          |                     | 88.468063       |</pre>"
      ],
      "text/plain": [
       "| 7         | 46000    | 4892.749873  | 0.758326          |                     | 88.468063       |"
      ]
     },
     "metadata": {},
     "output_type": "display_data"
    },
    {
     "data": {
      "text/html": [
       "<pre>| 7         | 47000    | 4904.100132  | 0.758213          |                     | 88.103722       |</pre>"
      ],
      "text/plain": [
       "| 7         | 47000    | 4904.100132  | 0.758213          |                     | 88.103722       |"
      ]
     },
     "metadata": {},
     "output_type": "display_data"
    },
    {
     "data": {
      "text/html": [
       "<pre>| 7         | 48000    | 4915.370395  | 0.757917          |                     | 88.729088       |</pre>"
      ],
      "text/plain": [
       "| 7         | 48000    | 4915.370395  | 0.757917          |                     | 88.729088       |"
      ]
     },
     "metadata": {},
     "output_type": "display_data"
    },
    {
     "data": {
      "text/html": [
       "<pre>| 7         | 49000    | 4926.975164  | 0.757939          |                     | 86.171455       |</pre>"
      ],
      "text/plain": [
       "| 7         | 49000    | 4926.975164  | 0.757939          |                     | 86.171455       |"
      ]
     },
     "metadata": {},
     "output_type": "display_data"
    },
    {
     "data": {
      "text/html": [
       "<pre>| 7         | 49200    | 5097.974216  | 0.757906          | 0.821797            | 1.169597        |</pre>"
      ],
      "text/plain": [
       "| 7         | 49200    | 5097.974216  | 0.757906          | 0.821797            | 1.169597        |"
      ]
     },
     "metadata": {},
     "output_type": "display_data"
    },
    {
     "data": {
      "text/html": [
       "<pre>| 8         | 1000     | 5109.369976  | 0.765000          |                     | 87.759369       |</pre>"
      ],
      "text/plain": [
       "| 8         | 1000     | 5109.369976  | 0.765000          |                     | 87.759369       |"
      ]
     },
     "metadata": {},
     "output_type": "display_data"
    },
    {
     "data": {
      "text/html": [
       "<pre>| 8         | 2000     | 5120.840277  | 0.759500          |                     | 87.181664       |</pre>"
      ],
      "text/plain": [
       "| 8         | 2000     | 5120.840277  | 0.759500          |                     | 87.181664       |"
      ]
     },
     "metadata": {},
     "output_type": "display_data"
    },
    {
     "data": {
      "text/html": [
       "<pre>| 8         | 3000     | 5132.314140  | 0.757000          |                     | 87.154602       |</pre>"
      ],
      "text/plain": [
       "| 8         | 3000     | 5132.314140  | 0.757000          |                     | 87.154602       |"
      ]
     },
     "metadata": {},
     "output_type": "display_data"
    },
    {
     "data": {
      "text/html": [
       "<pre>| 8         | 4000     | 5143.810731  | 0.754750          |                     | 86.982452       |</pre>"
      ],
      "text/plain": [
       "| 8         | 4000     | 5143.810731  | 0.754750          |                     | 86.982452       |"
      ]
     },
     "metadata": {},
     "output_type": "display_data"
    },
    {
     "data": {
      "text/html": [
       "<pre>| 8         | 5000     | 5155.333068  | 0.759200          |                     | 86.787804       |</pre>"
      ],
      "text/plain": [
       "| 8         | 5000     | 5155.333068  | 0.759200          |                     | 86.787804       |"
      ]
     },
     "metadata": {},
     "output_type": "display_data"
    },
    {
     "data": {
      "text/html": [
       "<pre>| 8         | 6000     | 5167.180746  | 0.758833          |                     | 84.404724       |</pre>"
      ],
      "text/plain": [
       "| 8         | 6000     | 5167.180746  | 0.758833          |                     | 84.404724       |"
      ]
     },
     "metadata": {},
     "output_type": "display_data"
    },
    {
     "data": {
      "text/html": [
       "<pre>| 8         | 7000     | 5179.192586  | 0.758714          |                     | 83.251198       |</pre>"
      ],
      "text/plain": [
       "| 8         | 7000     | 5179.192586  | 0.758714          |                     | 83.251198       |"
      ]
     },
     "metadata": {},
     "output_type": "display_data"
    },
    {
     "data": {
      "text/html": [
       "<pre>| 8         | 8000     | 5190.942907  | 0.759625          |                     | 85.104057       |</pre>"
      ],
      "text/plain": [
       "| 8         | 8000     | 5190.942907  | 0.759625          |                     | 85.104057       |"
      ]
     },
     "metadata": {},
     "output_type": "display_data"
    },
    {
     "data": {
      "text/html": [
       "<pre>| 8         | 9000     | 5202.319855  | 0.759667          |                     | 87.897041       |</pre>"
      ],
      "text/plain": [
       "| 8         | 9000     | 5202.319855  | 0.759667          |                     | 87.897041       |"
      ]
     },
     "metadata": {},
     "output_type": "display_data"
    },
    {
     "data": {
      "text/html": [
       "<pre>| 8         | 10000    | 5213.607952  | 0.761200          |                     | 88.588890       |</pre>"
      ],
      "text/plain": [
       "| 8         | 10000    | 5213.607952  | 0.761200          |                     | 88.588890       |"
      ]
     },
     "metadata": {},
     "output_type": "display_data"
    },
    {
     "data": {
      "text/html": [
       "<pre>| 8         | 11000    | 5224.933473  | 0.758636          |                     | 88.296165       |</pre>"
      ],
      "text/plain": [
       "| 8         | 11000    | 5224.933473  | 0.758636          |                     | 88.296165       |"
      ]
     },
     "metadata": {},
     "output_type": "display_data"
    },
    {
     "data": {
      "text/html": [
       "<pre>| 8         | 12000    | 5236.216680  | 0.759750          |                     | 88.627281       |</pre>"
      ],
      "text/plain": [
       "| 8         | 12000    | 5236.216680  | 0.759750          |                     | 88.627281       |"
      ]
     },
     "metadata": {},
     "output_type": "display_data"
    },
    {
     "data": {
      "text/html": [
       "<pre>| 8         | 13000    | 5247.599146  | 0.760385          |                     | 87.854431       |</pre>"
      ],
      "text/plain": [
       "| 8         | 13000    | 5247.599146  | 0.760385          |                     | 87.854431       |"
      ]
     },
     "metadata": {},
     "output_type": "display_data"
    },
    {
     "data": {
      "text/html": [
       "<pre>| 8         | 14000    | 5258.998137  | 0.761571          |                     | 87.727051       |</pre>"
      ],
      "text/plain": [
       "| 8         | 14000    | 5258.998137  | 0.761571          |                     | 87.727051       |"
      ]
     },
     "metadata": {},
     "output_type": "display_data"
    },
    {
     "data": {
      "text/html": [
       "<pre>| 8         | 15000    | 5270.333304  | 0.762533          |                     | 88.221031       |</pre>"
      ],
      "text/plain": [
       "| 8         | 15000    | 5270.333304  | 0.762533          |                     | 88.221031       |"
      ]
     },
     "metadata": {},
     "output_type": "display_data"
    },
    {
     "data": {
      "text/html": [
       "<pre>| 8         | 16000    | 5281.906324  | 0.763563          |                     | 86.407867       |</pre>"
      ],
      "text/plain": [
       "| 8         | 16000    | 5281.906324  | 0.763563          |                     | 86.407867       |"
      ]
     },
     "metadata": {},
     "output_type": "display_data"
    },
    {
     "data": {
      "text/html": [
       "<pre>| 8         | 17000    | 5293.712416  | 0.765471          |                     | 84.702026       |</pre>"
      ],
      "text/plain": [
       "| 8         | 17000    | 5293.712416  | 0.765471          |                     | 84.702026       |"
      ]
     },
     "metadata": {},
     "output_type": "display_data"
    },
    {
     "data": {
      "text/html": [
       "<pre>| 8         | 18000    | 5305.693636  | 0.765333          |                     | 83.463959       |</pre>"
      ],
      "text/plain": [
       "| 8         | 18000    | 5305.693636  | 0.765333          |                     | 83.463959       |"
      ]
     },
     "metadata": {},
     "output_type": "display_data"
    },
    {
     "data": {
      "text/html": [
       "<pre>| 8         | 19000    | 5317.403980  | 0.764421          |                     | 85.394585       |</pre>"
      ],
      "text/plain": [
       "| 8         | 19000    | 5317.403980  | 0.764421          |                     | 85.394585       |"
      ]
     },
     "metadata": {},
     "output_type": "display_data"
    },
    {
     "data": {
      "text/html": [
       "<pre>| 8         | 20000    | 5328.890910  | 0.765200          |                     | 87.055473       |</pre>"
      ],
      "text/plain": [
       "| 8         | 20000    | 5328.890910  | 0.765200          |                     | 87.055473       |"
      ]
     },
     "metadata": {},
     "output_type": "display_data"
    },
    {
     "data": {
      "text/html": [
       "<pre>| 8         | 21000    | 5340.709681  | 0.765095          |                     | 84.611160       |</pre>"
      ],
      "text/plain": [
       "| 8         | 21000    | 5340.709681  | 0.765095          |                     | 84.611160       |"
      ]
     },
     "metadata": {},
     "output_type": "display_data"
    },
    {
     "data": {
      "text/html": [
       "<pre>| 8         | 22000    | 5352.184725  | 0.765455          |                     | 87.145638       |</pre>"
      ],
      "text/plain": [
       "| 8         | 22000    | 5352.184725  | 0.765455          |                     | 87.145638       |"
      ]
     },
     "metadata": {},
     "output_type": "display_data"
    },
    {
     "data": {
      "text/html": [
       "<pre>| 8         | 23000    | 5363.519352  | 0.765043          |                     | 88.225220       |</pre>"
      ],
      "text/plain": [
       "| 8         | 23000    | 5363.519352  | 0.765043          |                     | 88.225220       |"
      ]
     },
     "metadata": {},
     "output_type": "display_data"
    },
    {
     "data": {
      "text/html": [
       "<pre>| 8         | 24000    | 5375.180143  | 0.765542          |                     | 85.757477       |</pre>"
      ],
      "text/plain": [
       "| 8         | 24000    | 5375.180143  | 0.765542          |                     | 85.757477       |"
      ]
     },
     "metadata": {},
     "output_type": "display_data"
    },
    {
     "data": {
      "text/html": [
       "<pre>| 8         | 25000    | 5386.493098  | 0.766160          |                     | 88.394241       |</pre>"
      ],
      "text/plain": [
       "| 8         | 25000    | 5386.493098  | 0.766160          |                     | 88.394241       |"
      ]
     },
     "metadata": {},
     "output_type": "display_data"
    },
    {
     "data": {
      "text/html": [
       "<pre>| 8         | 26000    | 5397.783934  | 0.766154          |                     | 88.567390       |</pre>"
      ],
      "text/plain": [
       "| 8         | 26000    | 5397.783934  | 0.766154          |                     | 88.567390       |"
      ]
     },
     "metadata": {},
     "output_type": "display_data"
    },
    {
     "data": {
      "text/html": [
       "<pre>| 8         | 27000    | 5409.135672  | 0.766481          |                     | 88.092239       |</pre>"
      ],
      "text/plain": [
       "| 8         | 27000    | 5409.135672  | 0.766481          |                     | 88.092239       |"
      ]
     },
     "metadata": {},
     "output_type": "display_data"
    },
    {
     "data": {
      "text/html": [
       "<pre>| 8         | 28000    | 5420.435188  | 0.765857          |                     | 88.499374       |</pre>"
      ],
      "text/plain": [
       "| 8         | 28000    | 5420.435188  | 0.765857          |                     | 88.499374       |"
      ]
     },
     "metadata": {},
     "output_type": "display_data"
    },
    {
     "data": {
      "text/html": [
       "<pre>| 8         | 29000    | 5431.949681  | 0.765448          |                     | 86.847069       |</pre>"
      ],
      "text/plain": [
       "| 8         | 29000    | 5431.949681  | 0.765448          |                     | 86.847069       |"
      ]
     },
     "metadata": {},
     "output_type": "display_data"
    },
    {
     "data": {
      "text/html": [
       "<pre>| 8         | 30000    | 5444.232378  | 0.765367          |                     | 81.415337       |</pre>"
      ],
      "text/plain": [
       "| 8         | 30000    | 5444.232378  | 0.765367          |                     | 81.415337       |"
      ]
     },
     "metadata": {},
     "output_type": "display_data"
    },
    {
     "data": {
      "text/html": [
       "<pre>| 8         | 31000    | 5455.824106  | 0.765323          |                     | 86.268425       |</pre>"
      ],
      "text/plain": [
       "| 8         | 31000    | 5455.824106  | 0.765323          |                     | 86.268425       |"
      ]
     },
     "metadata": {},
     "output_type": "display_data"
    },
    {
     "data": {
      "text/html": [
       "<pre>| 8         | 32000    | 5467.145369  | 0.765562          |                     | 88.329361       |</pre>"
      ],
      "text/plain": [
       "| 8         | 32000    | 5467.145369  | 0.765562          |                     | 88.329361       |"
      ]
     },
     "metadata": {},
     "output_type": "display_data"
    },
    {
     "data": {
      "text/html": [
       "<pre>| 8         | 33000    | 5478.450430  | 0.765667          |                     | 88.455963       |</pre>"
      ],
      "text/plain": [
       "| 8         | 33000    | 5478.450430  | 0.765667          |                     | 88.455963       |"
      ]
     },
     "metadata": {},
     "output_type": "display_data"
    },
    {
     "data": {
      "text/html": [
       "<pre>| 8         | 34000    | 5489.883536  | 0.766176          |                     | 87.465294       |</pre>"
      ],
      "text/plain": [
       "| 8         | 34000    | 5489.883536  | 0.766176          |                     | 87.465294       |"
      ]
     },
     "metadata": {},
     "output_type": "display_data"
    },
    {
     "data": {
      "text/html": [
       "<pre>| 8         | 35000    | 5501.381277  | 0.766200          |                     | 86.973602       |</pre>"
      ],
      "text/plain": [
       "| 8         | 35000    | 5501.381277  | 0.766200          |                     | 86.973602       |"
      ]
     },
     "metadata": {},
     "output_type": "display_data"
    },
    {
     "data": {
      "text/html": [
       "<pre>| 8         | 36000    | 5513.152369  | 0.766778          |                     | 84.953896       |</pre>"
      ],
      "text/plain": [
       "| 8         | 36000    | 5513.152369  | 0.766778          |                     | 84.953896       |"
      ]
     },
     "metadata": {},
     "output_type": "display_data"
    },
    {
     "data": {
      "text/html": [
       "<pre>| 8         | 37000    | 5525.421575  | 0.766541          |                     | 81.504860       |</pre>"
      ],
      "text/plain": [
       "| 8         | 37000    | 5525.421575  | 0.766541          |                     | 81.504860       |"
      ]
     },
     "metadata": {},
     "output_type": "display_data"
    },
    {
     "data": {
      "text/html": [
       "<pre>| 8         | 38000    | 5537.615763  | 0.767158          |                     | 82.006287       |</pre>"
      ],
      "text/plain": [
       "| 8         | 38000    | 5537.615763  | 0.767158          |                     | 82.006287       |"
      ]
     },
     "metadata": {},
     "output_type": "display_data"
    },
    {
     "data": {
      "text/html": [
       "<pre>| 8         | 39000    | 5549.333339  | 0.767692          |                     | 85.341873       |</pre>"
      ],
      "text/plain": [
       "| 8         | 39000    | 5549.333339  | 0.767692          |                     | 85.341873       |"
      ]
     },
     "metadata": {},
     "output_type": "display_data"
    },
    {
     "data": {
      "text/html": [
       "<pre>| 8         | 40000    | 5561.053125  | 0.767900          |                     | 85.325798       |</pre>"
      ],
      "text/plain": [
       "| 8         | 40000    | 5561.053125  | 0.767900          |                     | 85.325798       |"
      ]
     },
     "metadata": {},
     "output_type": "display_data"
    },
    {
     "data": {
      "text/html": [
       "<pre>| 8         | 41000    | 5572.962456  | 0.768073          |                     | 83.967766       |</pre>"
      ],
      "text/plain": [
       "| 8         | 41000    | 5572.962456  | 0.768073          |                     | 83.967766       |"
      ]
     },
     "metadata": {},
     "output_type": "display_data"
    },
    {
     "data": {
      "text/html": [
       "<pre>| 8         | 42000    | 5584.601119  | 0.768643          |                     | 85.920517       |</pre>"
      ],
      "text/plain": [
       "| 8         | 42000    | 5584.601119  | 0.768643          |                     | 85.920517       |"
      ]
     },
     "metadata": {},
     "output_type": "display_data"
    },
    {
     "data": {
      "text/html": [
       "<pre>| 8         | 43000    | 5596.917648  | 0.768954          |                     | 81.191826       |</pre>"
      ],
      "text/plain": [
       "| 8         | 43000    | 5596.917648  | 0.768954          |                     | 81.191826       |"
      ]
     },
     "metadata": {},
     "output_type": "display_data"
    },
    {
     "data": {
      "text/html": [
       "<pre>| 8         | 44000    | 5609.129646  | 0.768955          |                     | 81.886559       |</pre>"
      ],
      "text/plain": [
       "| 8         | 44000    | 5609.129646  | 0.768955          |                     | 81.886559       |"
      ]
     },
     "metadata": {},
     "output_type": "display_data"
    },
    {
     "data": {
      "text/html": [
       "<pre>| 8         | 45000    | 5621.063322  | 0.768733          |                     | 83.796486       |</pre>"
      ],
      "text/plain": [
       "| 8         | 45000    | 5621.063322  | 0.768733          |                     | 83.796486       |"
      ]
     },
     "metadata": {},
     "output_type": "display_data"
    },
    {
     "data": {
      "text/html": [
       "<pre>| 8         | 46000    | 5632.995091  | 0.768826          |                     | 83.809868       |</pre>"
      ],
      "text/plain": [
       "| 8         | 46000    | 5632.995091  | 0.768826          |                     | 83.809868       |"
      ]
     },
     "metadata": {},
     "output_type": "display_data"
    },
    {
     "data": {
      "text/html": [
       "<pre>| 8         | 47000    | 5644.999462  | 0.768957          |                     | 83.302986       |</pre>"
      ],
      "text/plain": [
       "| 8         | 47000    | 5644.999462  | 0.768957          |                     | 83.302986       |"
      ]
     },
     "metadata": {},
     "output_type": "display_data"
    },
    {
     "data": {
      "text/html": [
       "<pre>| 8         | 48000    | 5656.851786  | 0.768938          |                     | 84.371635       |</pre>"
      ],
      "text/plain": [
       "| 8         | 48000    | 5656.851786  | 0.768938          |                     | 84.371635       |"
      ]
     },
     "metadata": {},
     "output_type": "display_data"
    },
    {
     "data": {
      "text/html": [
       "<pre>| 8         | 49000    | 5668.578642  | 0.769143          |                     | 85.274353       |</pre>"
      ],
      "text/plain": [
       "| 8         | 49000    | 5668.578642  | 0.769143          |                     | 85.274353       |"
      ]
     },
     "metadata": {},
     "output_type": "display_data"
    },
    {
     "data": {
      "text/html": [
       "<pre>| 8         | 49200    | 5848.122017  | 0.769024          | 0.828334            | 1.113937        |</pre>"
      ],
      "text/plain": [
       "| 8         | 49200    | 5848.122017  | 0.769024          | 0.828334            | 1.113937        |"
      ]
     },
     "metadata": {},
     "output_type": "display_data"
    },
    {
     "data": {
      "text/html": [
       "<pre>| 9         | 1000     | 5860.354907  | 0.771000          |                     | 81.754105       |</pre>"
      ],
      "text/plain": [
       "| 9         | 1000     | 5860.354907  | 0.771000          |                     | 81.754105       |"
      ]
     },
     "metadata": {},
     "output_type": "display_data"
    },
    {
     "data": {
      "text/html": [
       "<pre>| 9         | 2000     | 5872.263312  | 0.767000          |                     | 83.974297       |</pre>"
      ],
      "text/plain": [
       "| 9         | 2000     | 5872.263312  | 0.767000          |                     | 83.974297       |"
      ]
     },
     "metadata": {},
     "output_type": "display_data"
    },
    {
     "data": {
      "text/html": [
       "<pre>| 9         | 3000     | 5883.931698  | 0.768667          |                     | 85.701660       |</pre>"
      ],
      "text/plain": [
       "| 9         | 3000     | 5883.931698  | 0.768667          |                     | 85.701660       |"
      ]
     },
     "metadata": {},
     "output_type": "display_data"
    },
    {
     "data": {
      "text/html": [
       "<pre>| 9         | 4000     | 5895.312554  | 0.768750          |                     | 87.866844       |</pre>"
      ],
      "text/plain": [
       "| 9         | 4000     | 5895.312554  | 0.768750          |                     | 87.866844       |"
      ]
     },
     "metadata": {},
     "output_type": "display_data"
    },
    {
     "data": {
      "text/html": [
       "<pre>| 9         | 5000     | 5906.783786  | 0.769400          |                     | 87.174606       |</pre>"
      ],
      "text/plain": [
       "| 9         | 5000     | 5906.783786  | 0.769400          |                     | 87.174606       |"
      ]
     },
     "metadata": {},
     "output_type": "display_data"
    },
    {
     "data": {
      "text/html": [
       "<pre>| 9         | 6000     | 5918.254323  | 0.769167          |                     | 87.179871       |</pre>"
      ],
      "text/plain": [
       "| 9         | 6000     | 5918.254323  | 0.769167          |                     | 87.179871       |"
      ]
     },
     "metadata": {},
     "output_type": "display_data"
    },
    {
     "data": {
      "text/html": [
       "<pre>| 9         | 7000     | 5929.715350  | 0.768857          |                     | 87.252213       |</pre>"
      ],
      "text/plain": [
       "| 9         | 7000     | 5929.715350  | 0.768857          |                     | 87.252213       |"
      ]
     },
     "metadata": {},
     "output_type": "display_data"
    },
    {
     "data": {
      "text/html": [
       "<pre>| 9         | 8000     | 5941.087659  | 0.769000          |                     | 87.932892       |</pre>"
      ],
      "text/plain": [
       "| 9         | 8000     | 5941.087659  | 0.769000          |                     | 87.932892       |"
      ]
     },
     "metadata": {},
     "output_type": "display_data"
    },
    {
     "data": {
      "text/html": [
       "<pre>| 9         | 9000     | 5952.757140  | 0.766778          |                     | 85.693611       |</pre>"
      ],
      "text/plain": [
       "| 9         | 9000     | 5952.757140  | 0.766778          |                     | 85.693611       |"
      ]
     },
     "metadata": {},
     "output_type": "display_data"
    },
    {
     "data": {
      "text/html": [
       "<pre>| 9         | 10000    | 5964.214029  | 0.767500          |                     | 87.283730       |</pre>"
      ],
      "text/plain": [
       "| 9         | 10000    | 5964.214029  | 0.767500          |                     | 87.283730       |"
      ]
     },
     "metadata": {},
     "output_type": "display_data"
    },
    {
     "data": {
      "text/html": [
       "<pre>| 9         | 11000    | 5976.003274  | 0.764455          |                     | 84.823082       |</pre>"
      ],
      "text/plain": [
       "| 9         | 11000    | 5976.003274  | 0.764455          |                     | 84.823082       |"
      ]
     },
     "metadata": {},
     "output_type": "display_data"
    },
    {
     "data": {
      "text/html": [
       "<pre>| 9         | 12000    | 5987.921496  | 0.764833          |                     | 83.905128       |</pre>"
      ],
      "text/plain": [
       "| 9         | 12000    | 5987.921496  | 0.764833          |                     | 83.905128       |"
      ]
     },
     "metadata": {},
     "output_type": "display_data"
    },
    {
     "data": {
      "text/html": [
       "<pre>| 9         | 13000    | 5999.322231  | 0.766077          |                     | 87.713783       |</pre>"
      ],
      "text/plain": [
       "| 9         | 13000    | 5999.322231  | 0.766077          |                     | 87.713783       |"
      ]
     },
     "metadata": {},
     "output_type": "display_data"
    },
    {
     "data": {
      "text/html": [
       "<pre>| 9         | 14000    | 6010.830115  | 0.766714          |                     | 86.896805       |</pre>"
      ],
      "text/plain": [
       "| 9         | 14000    | 6010.830115  | 0.766714          |                     | 86.896805       |"
      ]
     },
     "metadata": {},
     "output_type": "display_data"
    },
    {
     "data": {
      "text/html": [
       "<pre>| 9         | 15000    | 6022.448552  | 0.766867          |                     | 86.070099       |</pre>"
      ],
      "text/plain": [
       "| 9         | 15000    | 6022.448552  | 0.766867          |                     | 86.070099       |"
      ]
     },
     "metadata": {},
     "output_type": "display_data"
    },
    {
     "data": {
      "text/html": [
       "<pre>| 9         | 16000    | 6034.544947  | 0.766688          |                     | 82.669258       |</pre>"
      ],
      "text/plain": [
       "| 9         | 16000    | 6034.544947  | 0.766688          |                     | 82.669258       |"
      ]
     },
     "metadata": {},
     "output_type": "display_data"
    },
    {
     "data": {
      "text/html": [
       "<pre>| 9         | 17000    | 6046.293023  | 0.767882          |                     | 85.120323       |</pre>"
      ],
      "text/plain": [
       "| 9         | 17000    | 6046.293023  | 0.767882          |                     | 85.120323       |"
      ]
     },
     "metadata": {},
     "output_type": "display_data"
    },
    {
     "data": {
      "text/html": [
       "<pre>| 9         | 18000    | 6058.271004  | 0.768111          |                     | 83.486519       |</pre>"
      ],
      "text/plain": [
       "| 9         | 18000    | 6058.271004  | 0.768111          |                     | 83.486519       |"
      ]
     },
     "metadata": {},
     "output_type": "display_data"
    },
    {
     "data": {
      "text/html": [
       "<pre>| 9         | 18800    | 6068.513774  | 0.766862          |                     | 78.103874       |</pre>"
      ],
      "text/plain": [
       "| 9         | 18800    | 6068.513774  | 0.766862          |                     | 78.103874       |"
      ]
     },
     "metadata": {},
     "output_type": "display_data"
    },
    {
     "data": {
      "text/html": [
       "<pre>| 9         | 19800    | 6080.537002  | 0.767273          |                     | 83.172340       |</pre>"
      ],
      "text/plain": [
       "| 9         | 19800    | 6080.537002  | 0.767273          |                     | 83.172340       |"
      ]
     },
     "metadata": {},
     "output_type": "display_data"
    },
    {
     "data": {
      "text/html": [
       "<pre>| 9         | 20800    | 6092.586969  | 0.767740          |                     | 82.987785       |</pre>"
      ],
      "text/plain": [
       "| 9         | 20800    | 6092.586969  | 0.767740          |                     | 82.987785       |"
      ]
     },
     "metadata": {},
     "output_type": "display_data"
    },
    {
     "data": {
      "text/html": [
       "<pre>| 9         | 21800    | 6104.407249  | 0.768349          |                     | 84.600365       |</pre>"
      ],
      "text/plain": [
       "| 9         | 21800    | 6104.407249  | 0.768349          |                     | 84.600365       |"
      ]
     },
     "metadata": {},
     "output_type": "display_data"
    },
    {
     "data": {
      "text/html": [
       "<pre>| 9         | 22800    | 6116.897992  | 0.768114          |                     | 80.059288       |</pre>"
      ],
      "text/plain": [
       "| 9         | 22800    | 6116.897992  | 0.768114          |                     | 80.059288       |"
      ]
     },
     "metadata": {},
     "output_type": "display_data"
    },
    {
     "data": {
      "text/html": [
       "<pre>| 9         | 23800    | 6128.751876  | 0.767689          |                     | 84.360535       |</pre>"
      ],
      "text/plain": [
       "| 9         | 23800    | 6128.751876  | 0.767689          |                     | 84.360535       |"
      ]
     },
     "metadata": {},
     "output_type": "display_data"
    },
    {
     "data": {
      "text/html": [
       "<pre>| 9         | 24600    | 6138.820204  | 0.767886          |                     | 79.457077       |</pre>"
      ],
      "text/plain": [
       "| 9         | 24600    | 6138.820204  | 0.767886          |                     | 79.457077       |"
      ]
     },
     "metadata": {},
     "output_type": "display_data"
    },
    {
     "data": {
      "text/html": [
       "<pre>| 9         | 25400    | 6148.835877  | 0.768228          |                     | 79.874817       |</pre>"
      ],
      "text/plain": [
       "| 9         | 25400    | 6148.835877  | 0.768228          |                     | 79.874817       |"
      ]
     },
     "metadata": {},
     "output_type": "display_data"
    },
    {
     "data": {
      "text/html": [
       "<pre>| 9         | 26400    | 6160.763798  | 0.767765          |                     | 83.836906       |</pre>"
      ],
      "text/plain": [
       "| 9         | 26400    | 6160.763798  | 0.767765          |                     | 83.836906       |"
      ]
     },
     "metadata": {},
     "output_type": "display_data"
    },
    {
     "data": {
      "text/html": [
       "<pre>| 9         | 27400    | 6172.872813  | 0.766606          |                     | 82.583107       |</pre>"
      ],
      "text/plain": [
       "| 9         | 27400    | 6172.872813  | 0.766606          |                     | 82.583107       |"
      ]
     },
     "metadata": {},
     "output_type": "display_data"
    },
    {
     "data": {
      "text/html": [
       "<pre>| 9         | 28400    | 6184.844560  | 0.765916          |                     | 83.529991       |</pre>"
      ],
      "text/plain": [
       "| 9         | 28400    | 6184.844560  | 0.765916          |                     | 83.529991       |"
      ]
     },
     "metadata": {},
     "output_type": "display_data"
    },
    {
     "data": {
      "text/html": [
       "<pre>| 9         | 29400    | 6196.277362  | 0.765510          |                     | 87.467628       |</pre>"
      ],
      "text/plain": [
       "| 9         | 29400    | 6196.277362  | 0.765510          |                     | 87.467628       |"
      ]
     },
     "metadata": {},
     "output_type": "display_data"
    },
    {
     "data": {
      "text/html": [
       "<pre>| 9         | 30400    | 6207.587964  | 0.765691          |                     | 88.412628       |</pre>"
      ],
      "text/plain": [
       "| 9         | 30400    | 6207.587964  | 0.765691          |                     | 88.412628       |"
      ]
     },
     "metadata": {},
     "output_type": "display_data"
    },
    {
     "data": {
      "text/html": [
       "<pre>| 9         | 31400    | 6219.858287  | 0.766465          |                     | 81.497444       |</pre>"
      ],
      "text/plain": [
       "| 9         | 31400    | 6219.858287  | 0.766465          |                     | 81.497444       |"
      ]
     },
     "metadata": {},
     "output_type": "display_data"
    },
    {
     "data": {
      "text/html": [
       "<pre>| 9         | 32400    | 6232.269498  | 0.766883          |                     | 80.572311       |</pre>"
      ],
      "text/plain": [
       "| 9         | 32400    | 6232.269498  | 0.766883          |                     | 80.572311       |"
      ]
     },
     "metadata": {},
     "output_type": "display_data"
    },
    {
     "data": {
      "text/html": [
       "<pre>| 9         | 33400    | 6244.573632  | 0.766976          |                     | 81.273499       |</pre>"
      ],
      "text/plain": [
       "| 9         | 33400    | 6244.573632  | 0.766976          |                     | 81.273499       |"
      ]
     },
     "metadata": {},
     "output_type": "display_data"
    },
    {
     "data": {
      "text/html": [
       "<pre>| 9         | 34400    | 6256.722994  | 0.767674          |                     | 82.308853       |</pre>"
      ],
      "text/plain": [
       "| 9         | 34400    | 6256.722994  | 0.767674          |                     | 82.308853       |"
      ]
     },
     "metadata": {},
     "output_type": "display_data"
    },
    {
     "data": {
      "text/html": [
       "<pre>| 9         | 35400    | 6268.625712  | 0.768079          |                     | 84.014420       |</pre>"
      ],
      "text/plain": [
       "| 9         | 35400    | 6268.625712  | 0.768079          |                     | 84.014420       |"
      ]
     },
     "metadata": {},
     "output_type": "display_data"
    },
    {
     "data": {
      "text/html": [
       "<pre>| 9         | 36400    | 6280.706163  | 0.768434          |                     | 82.778358       |</pre>"
      ],
      "text/plain": [
       "| 9         | 36400    | 6280.706163  | 0.768434          |                     | 82.778358       |"
      ]
     },
     "metadata": {},
     "output_type": "display_data"
    }
   ],
   "source": [
    "m = gl.neuralnet_classifier.create(train_data, target='label',\n",
    "                                         network = net,\n",
    "                                         validation_set=valid_data,\n",
    "                                         metric=['accuracy'],\n",
    "                                         max_iterations= 50,\n",
    "                                        l2_regularization = 0.01,\n",
    "                                  batch_size=200)"
   ]
  },
  {
   "cell_type": "code",
   "execution_count": null,
   "metadata": {
    "collapsed": true
   },
   "outputs": [],
   "source": [
    "m.save(\"m4\")\n",
    "loaded_m4 = gl.load_model('m4')\n",
    "loaded_m4"
   ]
  },
  {
   "cell_type": "markdown",
   "metadata": {
    "collapsed": true
   },
   "source": [
    "### End!!! \n",
    "### Thanks for Review!!!"
   ]
  }
 ],
 "metadata": {
  "kernelspec": {
   "display_name": "Python 2",
   "language": "python",
   "name": "python2"
  },
  "language_info": {
   "codemirror_mode": {
    "name": "ipython",
    "version": 2
   },
   "file_extension": ".py",
   "mimetype": "text/x-python",
   "name": "python",
   "nbconvert_exporter": "python",
   "pygments_lexer": "ipython2",
   "version": "2.7.13"
  }
 },
 "nbformat": 4,
 "nbformat_minor": 2
}
